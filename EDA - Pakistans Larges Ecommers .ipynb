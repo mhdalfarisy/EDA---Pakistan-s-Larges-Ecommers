{
 "cells": [
  {
   "cell_type": "markdown",
   "metadata": {},
   "source": [
    "# EXPLORATORY DATA ANALYSIS : PAKISTAN'S LARGEST E-COMMERCE DATASET"
   ]
  },
  {
   "cell_type": "markdown",
   "metadata": {},
   "source": [
    "##### by : Muhammad Al-farisy"
   ]
  },
  {
   "cell_type": "markdown",
   "metadata": {},
   "source": [
    "### BACKGROUND\n",
    "Dataset ini merupakan kumpulan data pesanan perusahaan e-commers terbesar dari negara Pakistan tahun 2016-2018. Sektor ekonomi perusahaan berada di sektor niaga digital dan termasuk dalam perusahaan dagang. Data dikumpulkan dari berbagai pedagang e-commerce sebagai bagian dari studi penelitian yang dilakukan oleh **ZEESHAN-UL-HASSAN USMANI**. Masalah yang harus di selesaikan dalam dataset ini adalah perusahaan sedang membutuhkan rekomendasi strategi untuk mengurangi tingkat pembatalan,refund dan pending transaksi pesanan. Hasil yang di harapkan pada analisa ini menemukan rekomendasi yang memiliki potensi meningkatkan penjualan."
   ]
  },
  {
   "cell_type": "markdown",
   "metadata": {},
   "source": [
    "### DATA UNDERSTANDING\n",
    "- Dataset yang akan diterima berupa dataset dengan format csv, berisikan 1.048.575 baris dan 26 kolom. Berikut isi dari kolom tabel :\n",
    "\n",
    "    1. Item_id : Nomor urut product dalam database di website saat barang masuk troli\n",
    "    2. Status : Informasi terkait proses pesanan barang\n",
    "    3. Created_at : Informasi terkait tanggal dibuat pesanan\n",
    "    4. Sku : Kode unik dari toko (barcode) yang bertujuan untuk pengecekan barang\n",
    "    5. Price : Harga per unit produk yang dijual (tipe data float)\n",
    "    6. Qty_ordered : Total quantity barang yang dipesan\n",
    "    7. Grand_total : Total bersih yang harus di bayar customer (telah di potong diskon)\n",
    "    8. Increment_id : Kode electronic struck pembelian\n",
    "    9.  Category_name_1 : Katalog barang yang dijual\n",
    "    10. Sales_commision_code : Kode komisi / fee penjualan\n",
    "    11. Discount_amount : Nominal diskon yang diberikan\n",
    "    12. Payment_method : Metode pembayaran yang disediakan perusahaan/ e-commers\n",
    "    13. Working_date : Tanggal pengerjaan pesanan \n",
    "    14. BI_Status : Kesimpulan dari status proses pesanan yang membuat perusahaan menerima uang, mengembalikan uang, atau batal mendapatkan uang.\n",
    "    15. MV : Harga satuan produk (tipe data string)\n",
    "    16. Year : Tahun customer membeli produk\n",
    "    17. Month : Bulan customer membeli produk\n",
    "    18. Customer_since : Tanggal customer bergabung ke aplikasi e-commers\n",
    "    19. M-Y : Menyimpan informasi tentang bulan dan tahun customer membeli produck\n",
    "    20. FY : Tahun fiskal untuk perusahaan swasta di negara pakistan\n",
    "    21. Customer_ID : Nomor unik customer\n",
    "    22. Unnamed : 21 : Kosong kosong\n",
    "    23. Unnamed : 22 : Kosong kosong\n",
    "    24. Unnamed : 23 : Kosong kosong\n",
    "    25. Unnamed : 24 : Kosong kosong\n",
    "    26. Unnamed : 25 : Kosong kosong"
   ]
  },
  {
   "cell_type": "markdown",
   "metadata": {},
   "source": [
    "# Bussines Question\n",
    "1. Bagaimana hasil dari status pesanan barang ?\n",
    "2. Apa kategori barang yang memiliki status pemesanan completed dan cancelled tertinggi ?\n",
    "3. Bagaimana hasil dari metode pembayaran ?\n",
    "4. Berapa banyak transaksi pada metode pembayaran yang mendapatkan diskon ?\n",
    "5. Berapa banyak total transaksi metode pembayaran dengan status completed ?\n",
    "6. Kapan transaksi dengan status completed paling banyak terjadi (berdasarkan bulan pemesanan) ?"
   ]
  },
  {
   "cell_type": "markdown",
   "metadata": {},
   "source": [
    "# CONNECTION DATABASE"
   ]
  },
  {
   "cell_type": "code",
   "execution_count": 1,
   "metadata": {},
   "outputs": [],
   "source": [
    "import numpy as np\n",
    "import pandas as pd\n",
    "import matplotlib.pyplot as plt\n",
    "import seaborn as sns\n",
    "from scipy.stats import chi2_contingency\n",
    "# from dython.nominal import associations\n",
    "import warnings\n",
    "warnings.filterwarnings('ignore')"
   ]
  },
  {
   "cell_type": "code",
   "execution_count": 2,
   "metadata": {},
   "outputs": [],
   "source": [
    "df = pd.read_csv('Pakistan Largest Ecommerce Dataset.csv')"
   ]
  },
  {
   "cell_type": "code",
   "execution_count": 3,
   "metadata": {},
   "outputs": [
    {
     "name": "stdout",
     "output_type": "stream",
     "text": [
      "<class 'pandas.core.frame.DataFrame'>\n",
      "RangeIndex: 1048575 entries, 0 to 1048574\n",
      "Data columns (total 26 columns):\n",
      " #   Column                 Non-Null Count   Dtype  \n",
      "---  ------                 --------------   -----  \n",
      " 0   item_id                584524 non-null  float64\n",
      " 1   status                 584509 non-null  object \n",
      " 2   created_at             584524 non-null  object \n",
      " 3   sku                    584504 non-null  object \n",
      " 4   price                  584524 non-null  float64\n",
      " 5   qty_ordered            584524 non-null  float64\n",
      " 6   grand_total            584524 non-null  float64\n",
      " 7   increment_id           584524 non-null  object \n",
      " 8   category_name_1        584360 non-null  object \n",
      " 9   sales_commission_code  447349 non-null  object \n",
      " 10  discount_amount        584524 non-null  float64\n",
      " 11  payment_method         584524 non-null  object \n",
      " 12  Working Date           584524 non-null  object \n",
      " 13  BI Status              584524 non-null  object \n",
      " 14   MV                    584524 non-null  object \n",
      " 15  Year                   584524 non-null  float64\n",
      " 16  Month                  584524 non-null  float64\n",
      " 17  Customer Since         584513 non-null  object \n",
      " 18  M-Y                    584524 non-null  object \n",
      " 19  FY                     584524 non-null  object \n",
      " 20  Customer ID            584513 non-null  float64\n",
      " 21  Unnamed: 21            0 non-null       float64\n",
      " 22  Unnamed: 22            0 non-null       float64\n",
      " 23  Unnamed: 23            0 non-null       float64\n",
      " 24  Unnamed: 24            0 non-null       float64\n",
      " 25  Unnamed: 25            0 non-null       float64\n",
      "dtypes: float64(13), object(13)\n",
      "memory usage: 208.0+ MB\n"
     ]
    }
   ],
   "source": [
    "df.info()"
   ]
  },
  {
   "cell_type": "markdown",
   "metadata": {},
   "source": [
    "# DATA PREPARATION"
   ]
  },
  {
   "cell_type": "markdown",
   "metadata": {},
   "source": [
    "- Mengecek total baris dan total kolom :"
   ]
  },
  {
   "cell_type": "code",
   "execution_count": 4,
   "metadata": {},
   "outputs": [
    {
     "data": {
      "text/plain": [
       "(1048575, 26)"
      ]
     },
     "execution_count": 4,
     "metadata": {},
     "output_type": "execute_result"
    }
   ],
   "source": [
    "df.shape"
   ]
  },
  {
   "cell_type": "markdown",
   "metadata": {},
   "source": [
    "- Mengecek informasi nama kolom, kolom yang tidak ada nilai dan tipe data kolom :"
   ]
  },
  {
   "cell_type": "code",
   "execution_count": 5,
   "metadata": {},
   "outputs": [
    {
     "name": "stdout",
     "output_type": "stream",
     "text": [
      "<class 'pandas.core.frame.DataFrame'>\n",
      "RangeIndex: 1048575 entries, 0 to 1048574\n",
      "Data columns (total 26 columns):\n",
      " #   Column                 Non-Null Count   Dtype  \n",
      "---  ------                 --------------   -----  \n",
      " 0   item_id                584524 non-null  float64\n",
      " 1   status                 584509 non-null  object \n",
      " 2   created_at             584524 non-null  object \n",
      " 3   sku                    584504 non-null  object \n",
      " 4   price                  584524 non-null  float64\n",
      " 5   qty_ordered            584524 non-null  float64\n",
      " 6   grand_total            584524 non-null  float64\n",
      " 7   increment_id           584524 non-null  object \n",
      " 8   category_name_1        584360 non-null  object \n",
      " 9   sales_commission_code  447349 non-null  object \n",
      " 10  discount_amount        584524 non-null  float64\n",
      " 11  payment_method         584524 non-null  object \n",
      " 12  Working Date           584524 non-null  object \n",
      " 13  BI Status              584524 non-null  object \n",
      " 14   MV                    584524 non-null  object \n",
      " 15  Year                   584524 non-null  float64\n",
      " 16  Month                  584524 non-null  float64\n",
      " 17  Customer Since         584513 non-null  object \n",
      " 18  M-Y                    584524 non-null  object \n",
      " 19  FY                     584524 non-null  object \n",
      " 20  Customer ID            584513 non-null  float64\n",
      " 21  Unnamed: 21            0 non-null       float64\n",
      " 22  Unnamed: 22            0 non-null       float64\n",
      " 23  Unnamed: 23            0 non-null       float64\n",
      " 24  Unnamed: 24            0 non-null       float64\n",
      " 25  Unnamed: 25            0 non-null       float64\n",
      "dtypes: float64(13), object(13)\n",
      "memory usage: 208.0+ MB\n"
     ]
    }
   ],
   "source": [
    "df.info()\n"
   ]
  },
  {
   "cell_type": "markdown",
   "metadata": {},
   "source": [
    "Dari hasil analisa informasi data di atas terdapat 3 hal yang harus di tindak lanjuti :\n",
    "- Perbaikan nama kolom yang sesuai (Menghapus spasi yang lebih, menggunakan huruf kapital, menggunakan tanda \"_\" untuk kolom yang memiliki 2 kata)\n",
    "- Menghitung total Missing Values \n",
    "- Perbaikan tipe data"
   ]
  },
  {
   "cell_type": "code",
   "execution_count": 6,
   "metadata": {},
   "outputs": [
    {
     "data": {
      "text/plain": [
       "item_id                   464051\n",
       "status                    464066\n",
       "created_at                464051\n",
       "sku                       464071\n",
       "price                     464051\n",
       "qty_ordered               464051\n",
       "grand_total               464051\n",
       "increment_id              464051\n",
       "category_name_1           464215\n",
       "sales_commission_code     601226\n",
       "discount_amount           464051\n",
       "payment_method            464051\n",
       "Working Date              464051\n",
       "BI Status                 464051\n",
       " MV                       464051\n",
       "Year                      464051\n",
       "Month                     464051\n",
       "Customer Since            464062\n",
       "M-Y                       464051\n",
       "FY                        464051\n",
       "Customer ID               464062\n",
       "Unnamed: 21              1048575\n",
       "Unnamed: 22              1048575\n",
       "Unnamed: 23              1048575\n",
       "Unnamed: 24              1048575\n",
       "Unnamed: 25              1048575\n",
       "dtype: int64"
      ]
     },
     "execution_count": 6,
     "metadata": {},
     "output_type": "execute_result"
    }
   ],
   "source": [
    "# Mengecek jumlah missing value\n",
    "df.isnull().sum()"
   ]
  },
  {
   "cell_type": "markdown",
   "metadata": {},
   "source": [
    "## HANDLING DATA KATEGORIKAL"
   ]
  },
  {
   "cell_type": "code",
   "execution_count": 7,
   "metadata": {},
   "outputs": [],
   "source": [
    "### Perbaikan nama kolom\n",
    "df.rename(columns={'Customer ID':'Customer_Id','item_id':'Item_Id','status':'Status','created_at':'Created_at','sku':'Stock_Keeping_Unit','price':'Price','qty_ordered':'Ordered_Quantity','grand_total':'Grand_Total','increment_id':'Increment_Id','category_name_1':'Category','sales_commission_code':'Sales_Commission_Code','discount_amount':'Discount_Amount','payment_method':'Payment_Method','Working Date':'Working_Date','BI Status':'Business_Insight_Status',' MV ': 'MV','Customer Since':'Customer_Since','M-Y':'Month-Year'},inplace=True)"
   ]
  },
  {
   "cell_type": "code",
   "execution_count": 8,
   "metadata": {},
   "outputs": [],
   "source": [
    "# Menghapus Missing Values (Kolom yang memiliki missing values 100%)\n",
    "df.drop(columns=(['Unnamed: 21','Unnamed: 22','Unnamed: 23','Unnamed: 24','Unnamed: 25']),axis=1, inplace=True)"
   ]
  },
  {
   "cell_type": "code",
   "execution_count": 9,
   "metadata": {},
   "outputs": [],
   "source": [
    "# Menghapus Missing Values (Yang 1 baris nya full mising values)\n",
    "df.drop(df.index[584524:1048575],inplace=True)"
   ]
  },
  {
   "cell_type": "code",
   "execution_count": 10,
   "metadata": {},
   "outputs": [
    {
     "data": {
      "text/plain": [
       "Item_Id                         0\n",
       "Status                         15\n",
       "Created_at                      0\n",
       "Stock_Keeping_Unit             20\n",
       "Price                           0\n",
       "Ordered_Quantity                0\n",
       "Grand_Total                     0\n",
       "Increment_Id                    0\n",
       "Category                      164\n",
       "Sales_Commission_Code      137175\n",
       "Discount_Amount                 0\n",
       "Payment_Method                  0\n",
       "Working_Date                    0\n",
       "Business_Insight_Status         0\n",
       "MV                              0\n",
       "Year                            0\n",
       "Month                           0\n",
       "Customer_Since                 11\n",
       "Month-Year                      0\n",
       "FY                              0\n",
       "Customer_Id                    11\n",
       "dtype: int64"
      ]
     },
     "execution_count": 10,
     "metadata": {},
     "output_type": "execute_result"
    }
   ],
   "source": [
    "df.isnull().sum()"
   ]
  },
  {
   "cell_type": "markdown",
   "metadata": {},
   "source": [
    "##### Handling Kolom status"
   ]
  },
  {
   "cell_type": "code",
   "execution_count": 11,
   "metadata": {},
   "outputs": [
    {
     "data": {
      "text/plain": [
       "array(['complete', 'canceled', 'order_refunded', 'received', 'refund',\n",
       "       'closed', 'fraud', 'holded', 'exchange', 'pending_paypal', 'paid',\n",
       "       '\\\\N', 'cod', 'pending', nan, 'processing', 'payment_review'],\n",
       "      dtype=object)"
      ]
     },
     "execution_count": 11,
     "metadata": {},
     "output_type": "execute_result"
    }
   ],
   "source": [
    "# Pengecekan nama nama nilai yang berbeda dalam kolom status\n",
    "df['Status'].unique()"
   ]
  },
  {
   "cell_type": "code",
   "execution_count": 12,
   "metadata": {},
   "outputs": [
    {
     "data": {
      "text/html": [
       "<div>\n",
       "<style scoped>\n",
       "    .dataframe tbody tr th:only-of-type {\n",
       "        vertical-align: middle;\n",
       "    }\n",
       "\n",
       "    .dataframe tbody tr th {\n",
       "        vertical-align: top;\n",
       "    }\n",
       "\n",
       "    .dataframe thead th {\n",
       "        text-align: right;\n",
       "    }\n",
       "</style>\n",
       "<table border=\"1\" class=\"dataframe\">\n",
       "  <thead>\n",
       "    <tr style=\"text-align: right;\">\n",
       "      <th></th>\n",
       "      <th>Item_Id</th>\n",
       "      <th>Status</th>\n",
       "      <th>Created_at</th>\n",
       "      <th>Stock_Keeping_Unit</th>\n",
       "      <th>Price</th>\n",
       "      <th>Ordered_Quantity</th>\n",
       "      <th>Grand_Total</th>\n",
       "      <th>Increment_Id</th>\n",
       "      <th>Category</th>\n",
       "      <th>Sales_Commission_Code</th>\n",
       "      <th>...</th>\n",
       "      <th>Payment_Method</th>\n",
       "      <th>Working_Date</th>\n",
       "      <th>Business_Insight_Status</th>\n",
       "      <th>MV</th>\n",
       "      <th>Year</th>\n",
       "      <th>Month</th>\n",
       "      <th>Customer_Since</th>\n",
       "      <th>Month-Year</th>\n",
       "      <th>FY</th>\n",
       "      <th>Customer_Id</th>\n",
       "    </tr>\n",
       "  </thead>\n",
       "  <tbody>\n",
       "    <tr>\n",
       "      <th>255520</th>\n",
       "      <td>526623.0</td>\n",
       "      <td>\\N</td>\n",
       "      <td>7/3/2017</td>\n",
       "      <td>test-product-3</td>\n",
       "      <td>3.0</td>\n",
       "      <td>2.0</td>\n",
       "      <td>231.0</td>\n",
       "      <td>100332005</td>\n",
       "      <td>\\N</td>\n",
       "      <td>\\N</td>\n",
       "      <td>...</td>\n",
       "      <td>cod</td>\n",
       "      <td>7/3/2017</td>\n",
       "      <td>Gross</td>\n",
       "      <td>6</td>\n",
       "      <td>2017.0</td>\n",
       "      <td>7.0</td>\n",
       "      <td>2016-7</td>\n",
       "      <td>7-2017</td>\n",
       "      <td>FY18</td>\n",
       "      <td>1423.0</td>\n",
       "    </tr>\n",
       "    <tr>\n",
       "      <th>255521</th>\n",
       "      <td>526624.0</td>\n",
       "      <td>\\N</td>\n",
       "      <td>7/3/2017</td>\n",
       "      <td>test-product</td>\n",
       "      <td>75.0</td>\n",
       "      <td>1.0</td>\n",
       "      <td>231.0</td>\n",
       "      <td>100332005</td>\n",
       "      <td>\\N</td>\n",
       "      <td>\\N</td>\n",
       "      <td>...</td>\n",
       "      <td>cod</td>\n",
       "      <td>7/3/2017</td>\n",
       "      <td>Gross</td>\n",
       "      <td>75</td>\n",
       "      <td>2017.0</td>\n",
       "      <td>7.0</td>\n",
       "      <td>2016-7</td>\n",
       "      <td>7-2017</td>\n",
       "      <td>FY18</td>\n",
       "      <td>1423.0</td>\n",
       "    </tr>\n",
       "    <tr>\n",
       "      <th>255624</th>\n",
       "      <td>526754.0</td>\n",
       "      <td>\\N</td>\n",
       "      <td>7/3/2017</td>\n",
       "      <td>test-product-3</td>\n",
       "      <td>3.0</td>\n",
       "      <td>2.0</td>\n",
       "      <td>231.0</td>\n",
       "      <td>100332075</td>\n",
       "      <td>\\N</td>\n",
       "      <td>\\N</td>\n",
       "      <td>...</td>\n",
       "      <td>cod</td>\n",
       "      <td>7/3/2017</td>\n",
       "      <td>Gross</td>\n",
       "      <td>6</td>\n",
       "      <td>2017.0</td>\n",
       "      <td>7.0</td>\n",
       "      <td>2016-7</td>\n",
       "      <td>7-2017</td>\n",
       "      <td>FY18</td>\n",
       "      <td>1423.0</td>\n",
       "    </tr>\n",
       "    <tr>\n",
       "      <th>255625</th>\n",
       "      <td>526755.0</td>\n",
       "      <td>\\N</td>\n",
       "      <td>7/3/2017</td>\n",
       "      <td>test-product</td>\n",
       "      <td>75.0</td>\n",
       "      <td>1.0</td>\n",
       "      <td>231.0</td>\n",
       "      <td>100332075</td>\n",
       "      <td>\\N</td>\n",
       "      <td>\\N</td>\n",
       "      <td>...</td>\n",
       "      <td>cod</td>\n",
       "      <td>7/3/2017</td>\n",
       "      <td>Gross</td>\n",
       "      <td>75</td>\n",
       "      <td>2017.0</td>\n",
       "      <td>7.0</td>\n",
       "      <td>2016-7</td>\n",
       "      <td>7-2017</td>\n",
       "      <td>FY18</td>\n",
       "      <td>1423.0</td>\n",
       "    </tr>\n",
       "    <tr>\n",
       "      <th>477519</th>\n",
       "      <td>783751.0</td>\n",
       "      <td>NaN</td>\n",
       "      <td>3/15/2018</td>\n",
       "      <td>OTHPCB5A7D8A0BD10E8</td>\n",
       "      <td>8000.0</td>\n",
       "      <td>1.0</td>\n",
       "      <td>8000.0</td>\n",
       "      <td>100479380</td>\n",
       "      <td>Others</td>\n",
       "      <td>NaN</td>\n",
       "      <td>...</td>\n",
       "      <td>cod</td>\n",
       "      <td>3/15/2018</td>\n",
       "      <td>Gross</td>\n",
       "      <td>8,000</td>\n",
       "      <td>2018.0</td>\n",
       "      <td>3.0</td>\n",
       "      <td>2018-3</td>\n",
       "      <td>3-2018</td>\n",
       "      <td>FY18</td>\n",
       "      <td>95141.0</td>\n",
       "    </tr>\n",
       "    <tr>\n",
       "      <th>513736</th>\n",
       "      <td>827187.0</td>\n",
       "      <td>NaN</td>\n",
       "      <td>4/16/2018</td>\n",
       "      <td>KABOXF5ABCC75C7E2F7-32</td>\n",
       "      <td>370.0</td>\n",
       "      <td>1.0</td>\n",
       "      <td>2707.0</td>\n",
       "      <td>100513933</td>\n",
       "      <td>Kids &amp; Baby</td>\n",
       "      <td>NaN</td>\n",
       "      <td>...</td>\n",
       "      <td>cod</td>\n",
       "      <td>4/16/2018</td>\n",
       "      <td>Gross</td>\n",
       "      <td>370</td>\n",
       "      <td>2018.0</td>\n",
       "      <td>4.0</td>\n",
       "      <td>2018-4</td>\n",
       "      <td>4-2018</td>\n",
       "      <td>FY18</td>\n",
       "      <td>105059.0</td>\n",
       "    </tr>\n",
       "    <tr>\n",
       "      <th>513737</th>\n",
       "      <td>827189.0</td>\n",
       "      <td>NaN</td>\n",
       "      <td>4/16/2018</td>\n",
       "      <td>KABSHO5AA77C331466F-11-13 Years</td>\n",
       "      <td>473.0</td>\n",
       "      <td>1.0</td>\n",
       "      <td>2707.0</td>\n",
       "      <td>100513933</td>\n",
       "      <td>Kids &amp; Baby</td>\n",
       "      <td>NaN</td>\n",
       "      <td>...</td>\n",
       "      <td>cod</td>\n",
       "      <td>4/16/2018</td>\n",
       "      <td>Gross</td>\n",
       "      <td>473</td>\n",
       "      <td>2018.0</td>\n",
       "      <td>4.0</td>\n",
       "      <td>2018-4</td>\n",
       "      <td>4-2018</td>\n",
       "      <td>FY18</td>\n",
       "      <td>105059.0</td>\n",
       "    </tr>\n",
       "    <tr>\n",
       "      <th>513738</th>\n",
       "      <td>827191.0</td>\n",
       "      <td>NaN</td>\n",
       "      <td>4/16/2018</td>\n",
       "      <td>KABBIN5A93E074C501A-8-9 Years</td>\n",
       "      <td>749.0</td>\n",
       "      <td>1.0</td>\n",
       "      <td>2707.0</td>\n",
       "      <td>100513933</td>\n",
       "      <td>Kids &amp; Baby</td>\n",
       "      <td>NaN</td>\n",
       "      <td>...</td>\n",
       "      <td>cod</td>\n",
       "      <td>4/16/2018</td>\n",
       "      <td>Gross</td>\n",
       "      <td>749</td>\n",
       "      <td>2018.0</td>\n",
       "      <td>4.0</td>\n",
       "      <td>2018-4</td>\n",
       "      <td>4-2018</td>\n",
       "      <td>FY18</td>\n",
       "      <td>105059.0</td>\n",
       "    </tr>\n",
       "    <tr>\n",
       "      <th>513739</th>\n",
       "      <td>827193.0</td>\n",
       "      <td>NaN</td>\n",
       "      <td>4/16/2018</td>\n",
       "      <td>KABLIT59AC117FD51C4-12-13 Years</td>\n",
       "      <td>692.0</td>\n",
       "      <td>1.0</td>\n",
       "      <td>2707.0</td>\n",
       "      <td>100513933</td>\n",
       "      <td>Kids &amp; Baby</td>\n",
       "      <td>NaN</td>\n",
       "      <td>...</td>\n",
       "      <td>cod</td>\n",
       "      <td>4/16/2018</td>\n",
       "      <td>Gross</td>\n",
       "      <td>692</td>\n",
       "      <td>2018.0</td>\n",
       "      <td>4.0</td>\n",
       "      <td>2018-4</td>\n",
       "      <td>4-2018</td>\n",
       "      <td>FY18</td>\n",
       "      <td>105059.0</td>\n",
       "    </tr>\n",
       "    <tr>\n",
       "      <th>513740</th>\n",
       "      <td>827195.0</td>\n",
       "      <td>NaN</td>\n",
       "      <td>4/16/2018</td>\n",
       "      <td>KABCOL5AB2B8019805C-8-9 Years</td>\n",
       "      <td>423.0</td>\n",
       "      <td>1.0</td>\n",
       "      <td>2707.0</td>\n",
       "      <td>100513933</td>\n",
       "      <td>Kids &amp; Baby</td>\n",
       "      <td>NaN</td>\n",
       "      <td>...</td>\n",
       "      <td>cod</td>\n",
       "      <td>4/16/2018</td>\n",
       "      <td>Gross</td>\n",
       "      <td>423</td>\n",
       "      <td>2018.0</td>\n",
       "      <td>4.0</td>\n",
       "      <td>2018-4</td>\n",
       "      <td>4-2018</td>\n",
       "      <td>FY18</td>\n",
       "      <td>105059.0</td>\n",
       "    </tr>\n",
       "    <tr>\n",
       "      <th>518706</th>\n",
       "      <td>832777.0</td>\n",
       "      <td>NaN</td>\n",
       "      <td>4/30/2018</td>\n",
       "      <td>ENTCLI5A5DD7D800D6E</td>\n",
       "      <td>6042.0</td>\n",
       "      <td>1.0</td>\n",
       "      <td>6042.0</td>\n",
       "      <td>100517141</td>\n",
       "      <td>Entertainment</td>\n",
       "      <td>NaN</td>\n",
       "      <td>...</td>\n",
       "      <td>cod</td>\n",
       "      <td>4/30/2018</td>\n",
       "      <td>Gross</td>\n",
       "      <td>6,042</td>\n",
       "      <td>2018.0</td>\n",
       "      <td>4.0</td>\n",
       "      <td>2018-4</td>\n",
       "      <td>4-2018</td>\n",
       "      <td>FY18</td>\n",
       "      <td>106036.0</td>\n",
       "    </tr>\n",
       "    <tr>\n",
       "      <th>532965</th>\n",
       "      <td>848003.0</td>\n",
       "      <td>NaN</td>\n",
       "      <td>5/14/2018</td>\n",
       "      <td>MATINF5AE310D2D7A1A</td>\n",
       "      <td>13950.0</td>\n",
       "      <td>1.0</td>\n",
       "      <td>13950.0</td>\n",
       "      <td>100527966</td>\n",
       "      <td>Mobiles &amp; Tablets</td>\n",
       "      <td>NaN</td>\n",
       "      <td>...</td>\n",
       "      <td>cod</td>\n",
       "      <td>5/14/2018</td>\n",
       "      <td>Gross</td>\n",
       "      <td>13,950</td>\n",
       "      <td>2018.0</td>\n",
       "      <td>5.0</td>\n",
       "      <td>2018-4</td>\n",
       "      <td>5-2018</td>\n",
       "      <td>FY18</td>\n",
       "      <td>105319.0</td>\n",
       "    </tr>\n",
       "    <tr>\n",
       "      <th>542146</th>\n",
       "      <td>857829.0</td>\n",
       "      <td>NaN</td>\n",
       "      <td>5/25/2018</td>\n",
       "      <td>ROO5AE983F2751EA</td>\n",
       "      <td>2280.0</td>\n",
       "      <td>1.0</td>\n",
       "      <td>2280.0</td>\n",
       "      <td>100534786</td>\n",
       "      <td>Superstore</td>\n",
       "      <td>NaN</td>\n",
       "      <td>...</td>\n",
       "      <td>cod</td>\n",
       "      <td>5/25/2018</td>\n",
       "      <td>Gross</td>\n",
       "      <td>2,280</td>\n",
       "      <td>2018.0</td>\n",
       "      <td>5.0</td>\n",
       "      <td>2018-5</td>\n",
       "      <td>5-2018</td>\n",
       "      <td>FY18</td>\n",
       "      <td>109580.0</td>\n",
       "    </tr>\n",
       "    <tr>\n",
       "      <th>554962</th>\n",
       "      <td>872154.0</td>\n",
       "      <td>NaN</td>\n",
       "      <td>6/15/2018</td>\n",
       "      <td>BAGPHI5AA665985A58E</td>\n",
       "      <td>2900.0</td>\n",
       "      <td>1.0</td>\n",
       "      <td>949.0</td>\n",
       "      <td>100542483</td>\n",
       "      <td>Beauty &amp; Grooming</td>\n",
       "      <td>NaN</td>\n",
       "      <td>...</td>\n",
       "      <td>bankalfalah</td>\n",
       "      <td>6/15/2018</td>\n",
       "      <td>Gross</td>\n",
       "      <td>2,900</td>\n",
       "      <td>2018.0</td>\n",
       "      <td>6.0</td>\n",
       "      <td>2018-5</td>\n",
       "      <td>6-2018</td>\n",
       "      <td>FY18</td>\n",
       "      <td>109420.0</td>\n",
       "    </tr>\n",
       "    <tr>\n",
       "      <th>556575</th>\n",
       "      <td>873867.0</td>\n",
       "      <td>NaN</td>\n",
       "      <td>6/20/2018</td>\n",
       "      <td>SEH59F33B639C948</td>\n",
       "      <td>13998.0</td>\n",
       "      <td>1.0</td>\n",
       "      <td>13998.0</td>\n",
       "      <td>100543636</td>\n",
       "      <td>Superstore</td>\n",
       "      <td>NaN</td>\n",
       "      <td>...</td>\n",
       "      <td>cod</td>\n",
       "      <td>6/20/2018</td>\n",
       "      <td>Gross</td>\n",
       "      <td>13,998</td>\n",
       "      <td>2018.0</td>\n",
       "      <td>6.0</td>\n",
       "      <td>2018-6</td>\n",
       "      <td>6-2018</td>\n",
       "      <td>FY18</td>\n",
       "      <td>111346.0</td>\n",
       "    </tr>\n",
       "    <tr>\n",
       "      <th>562052</th>\n",
       "      <td>879771.0</td>\n",
       "      <td>NaN</td>\n",
       "      <td>7/2/2018</td>\n",
       "      <td>MEFTHE5ABD1716014D5-XL</td>\n",
       "      <td>0.0</td>\n",
       "      <td>1.0</td>\n",
       "      <td>150.0</td>\n",
       "      <td>100547232</td>\n",
       "      <td>Men's Fashion</td>\n",
       "      <td>NaN</td>\n",
       "      <td>...</td>\n",
       "      <td>cod</td>\n",
       "      <td>7/2/2018</td>\n",
       "      <td>Gross</td>\n",
       "      <td>-</td>\n",
       "      <td>2018.0</td>\n",
       "      <td>7.0</td>\n",
       "      <td>2018-7</td>\n",
       "      <td>7-2018</td>\n",
       "      <td>FY19</td>\n",
       "      <td>112111.0</td>\n",
       "    </tr>\n",
       "    <tr>\n",
       "      <th>566295</th>\n",
       "      <td>884706.0</td>\n",
       "      <td>NaN</td>\n",
       "      <td>7/13/2018</td>\n",
       "      <td>OTHOTH5A097CEF981C2</td>\n",
       "      <td>100.0</td>\n",
       "      <td>1.0</td>\n",
       "      <td>250.0</td>\n",
       "      <td>100550314</td>\n",
       "      <td>Others</td>\n",
       "      <td>NaN</td>\n",
       "      <td>...</td>\n",
       "      <td>cod</td>\n",
       "      <td>7/13/2018</td>\n",
       "      <td>Gross</td>\n",
       "      <td>100</td>\n",
       "      <td>2018.0</td>\n",
       "      <td>7.0</td>\n",
       "      <td>2018-6</td>\n",
       "      <td>7-2018</td>\n",
       "      <td>FY19</td>\n",
       "      <td>111651.0</td>\n",
       "    </tr>\n",
       "    <tr>\n",
       "      <th>566296</th>\n",
       "      <td>884707.0</td>\n",
       "      <td>NaN</td>\n",
       "      <td>7/13/2018</td>\n",
       "      <td>OTHOTH5A097CEF981C2</td>\n",
       "      <td>100.0</td>\n",
       "      <td>2.0</td>\n",
       "      <td>350.0</td>\n",
       "      <td>100550315</td>\n",
       "      <td>Others</td>\n",
       "      <td>NaN</td>\n",
       "      <td>...</td>\n",
       "      <td>cod</td>\n",
       "      <td>7/13/2018</td>\n",
       "      <td>Gross</td>\n",
       "      <td>200</td>\n",
       "      <td>2018.0</td>\n",
       "      <td>7.0</td>\n",
       "      <td>2018-6</td>\n",
       "      <td>7-2018</td>\n",
       "      <td>FY19</td>\n",
       "      <td>111651.0</td>\n",
       "    </tr>\n",
       "    <tr>\n",
       "      <th>568050</th>\n",
       "      <td>886679.0</td>\n",
       "      <td>NaN</td>\n",
       "      <td>7/18/2018</td>\n",
       "      <td>OTHOTH5A097CEF981C2</td>\n",
       "      <td>100.0</td>\n",
       "      <td>4.0</td>\n",
       "      <td>550.0</td>\n",
       "      <td>100551487</td>\n",
       "      <td>Others</td>\n",
       "      <td>NaN</td>\n",
       "      <td>...</td>\n",
       "      <td>cod</td>\n",
       "      <td>7/18/2018</td>\n",
       "      <td>Gross</td>\n",
       "      <td>400</td>\n",
       "      <td>2018.0</td>\n",
       "      <td>7.0</td>\n",
       "      <td>2018-6</td>\n",
       "      <td>7-2018</td>\n",
       "      <td>FY19</td>\n",
       "      <td>111651.0</td>\n",
       "    </tr>\n",
       "  </tbody>\n",
       "</table>\n",
       "<p>19 rows × 21 columns</p>\n",
       "</div>"
      ],
      "text/plain": [
       "         Item_Id Status Created_at               Stock_Keeping_Unit    Price  \\\n",
       "255520  526623.0     \\N   7/3/2017                   test-product-3      3.0   \n",
       "255521  526624.0     \\N   7/3/2017                     test-product     75.0   \n",
       "255624  526754.0     \\N   7/3/2017                   test-product-3      3.0   \n",
       "255625  526755.0     \\N   7/3/2017                     test-product     75.0   \n",
       "477519  783751.0    NaN  3/15/2018              OTHPCB5A7D8A0BD10E8   8000.0   \n",
       "513736  827187.0    NaN  4/16/2018           KABOXF5ABCC75C7E2F7-32    370.0   \n",
       "513737  827189.0    NaN  4/16/2018  KABSHO5AA77C331466F-11-13 Years    473.0   \n",
       "513738  827191.0    NaN  4/16/2018    KABBIN5A93E074C501A-8-9 Years    749.0   \n",
       "513739  827193.0    NaN  4/16/2018  KABLIT59AC117FD51C4-12-13 Years    692.0   \n",
       "513740  827195.0    NaN  4/16/2018    KABCOL5AB2B8019805C-8-9 Years    423.0   \n",
       "518706  832777.0    NaN  4/30/2018              ENTCLI5A5DD7D800D6E   6042.0   \n",
       "532965  848003.0    NaN  5/14/2018              MATINF5AE310D2D7A1A  13950.0   \n",
       "542146  857829.0    NaN  5/25/2018                 ROO5AE983F2751EA   2280.0   \n",
       "554962  872154.0    NaN  6/15/2018              BAGPHI5AA665985A58E   2900.0   \n",
       "556575  873867.0    NaN  6/20/2018                 SEH59F33B639C948  13998.0   \n",
       "562052  879771.0    NaN   7/2/2018           MEFTHE5ABD1716014D5-XL      0.0   \n",
       "566295  884706.0    NaN  7/13/2018              OTHOTH5A097CEF981C2    100.0   \n",
       "566296  884707.0    NaN  7/13/2018              OTHOTH5A097CEF981C2    100.0   \n",
       "568050  886679.0    NaN  7/18/2018              OTHOTH5A097CEF981C2    100.0   \n",
       "\n",
       "        Ordered_Quantity  Grand_Total Increment_Id           Category  \\\n",
       "255520               2.0        231.0    100332005                 \\N   \n",
       "255521               1.0        231.0    100332005                 \\N   \n",
       "255624               2.0        231.0    100332075                 \\N   \n",
       "255625               1.0        231.0    100332075                 \\N   \n",
       "477519               1.0       8000.0    100479380             Others   \n",
       "513736               1.0       2707.0    100513933        Kids & Baby   \n",
       "513737               1.0       2707.0    100513933        Kids & Baby   \n",
       "513738               1.0       2707.0    100513933        Kids & Baby   \n",
       "513739               1.0       2707.0    100513933        Kids & Baby   \n",
       "513740               1.0       2707.0    100513933        Kids & Baby   \n",
       "518706               1.0       6042.0    100517141      Entertainment   \n",
       "532965               1.0      13950.0    100527966  Mobiles & Tablets   \n",
       "542146               1.0       2280.0    100534786         Superstore   \n",
       "554962               1.0        949.0    100542483  Beauty & Grooming   \n",
       "556575               1.0      13998.0    100543636         Superstore   \n",
       "562052               1.0        150.0    100547232      Men's Fashion   \n",
       "566295               1.0        250.0    100550314             Others   \n",
       "566296               2.0        350.0    100550315             Others   \n",
       "568050               4.0        550.0    100551487             Others   \n",
       "\n",
       "       Sales_Commission_Code  ...  Payment_Method Working_Date  \\\n",
       "255520                    \\N  ...             cod     7/3/2017   \n",
       "255521                    \\N  ...             cod     7/3/2017   \n",
       "255624                    \\N  ...             cod     7/3/2017   \n",
       "255625                    \\N  ...             cod     7/3/2017   \n",
       "477519                   NaN  ...             cod    3/15/2018   \n",
       "513736                   NaN  ...             cod    4/16/2018   \n",
       "513737                   NaN  ...             cod    4/16/2018   \n",
       "513738                   NaN  ...             cod    4/16/2018   \n",
       "513739                   NaN  ...             cod    4/16/2018   \n",
       "513740                   NaN  ...             cod    4/16/2018   \n",
       "518706                   NaN  ...             cod    4/30/2018   \n",
       "532965                   NaN  ...             cod    5/14/2018   \n",
       "542146                   NaN  ...             cod    5/25/2018   \n",
       "554962                   NaN  ...     bankalfalah    6/15/2018   \n",
       "556575                   NaN  ...             cod    6/20/2018   \n",
       "562052                   NaN  ...             cod     7/2/2018   \n",
       "566295                   NaN  ...             cod    7/13/2018   \n",
       "566296                   NaN  ...             cod    7/13/2018   \n",
       "568050                   NaN  ...             cod    7/18/2018   \n",
       "\n",
       "       Business_Insight_Status        MV    Year  Month  Customer_Since  \\\n",
       "255520                   Gross        6   2017.0    7.0          2016-7   \n",
       "255521                   Gross       75   2017.0    7.0          2016-7   \n",
       "255624                   Gross        6   2017.0    7.0          2016-7   \n",
       "255625                   Gross       75   2017.0    7.0          2016-7   \n",
       "477519                   Gross    8,000   2018.0    3.0          2018-3   \n",
       "513736                   Gross      370   2018.0    4.0          2018-4   \n",
       "513737                   Gross      473   2018.0    4.0          2018-4   \n",
       "513738                   Gross      749   2018.0    4.0          2018-4   \n",
       "513739                   Gross      692   2018.0    4.0          2018-4   \n",
       "513740                   Gross      423   2018.0    4.0          2018-4   \n",
       "518706                   Gross    6,042   2018.0    4.0          2018-4   \n",
       "532965                   Gross   13,950   2018.0    5.0          2018-4   \n",
       "542146                   Gross    2,280   2018.0    5.0          2018-5   \n",
       "554962                   Gross    2,900   2018.0    6.0          2018-5   \n",
       "556575                   Gross   13,998   2018.0    6.0          2018-6   \n",
       "562052                   Gross      -     2018.0    7.0          2018-7   \n",
       "566295                   Gross      100   2018.0    7.0          2018-6   \n",
       "566296                   Gross      200   2018.0    7.0          2018-6   \n",
       "568050                   Gross      400   2018.0    7.0          2018-6   \n",
       "\n",
       "       Month-Year    FY Customer_Id  \n",
       "255520     7-2017  FY18      1423.0  \n",
       "255521     7-2017  FY18      1423.0  \n",
       "255624     7-2017  FY18      1423.0  \n",
       "255625     7-2017  FY18      1423.0  \n",
       "477519     3-2018  FY18     95141.0  \n",
       "513736     4-2018  FY18    105059.0  \n",
       "513737     4-2018  FY18    105059.0  \n",
       "513738     4-2018  FY18    105059.0  \n",
       "513739     4-2018  FY18    105059.0  \n",
       "513740     4-2018  FY18    105059.0  \n",
       "518706     4-2018  FY18    106036.0  \n",
       "532965     5-2018  FY18    105319.0  \n",
       "542146     5-2018  FY18    109580.0  \n",
       "554962     6-2018  FY18    109420.0  \n",
       "556575     6-2018  FY18    111346.0  \n",
       "562052     7-2018  FY19    112111.0  \n",
       "566295     7-2018  FY19    111651.0  \n",
       "566296     7-2018  FY19    111651.0  \n",
       "568050     7-2018  FY19    111651.0  \n",
       "\n",
       "[19 rows x 21 columns]"
      ]
     },
     "execution_count": 12,
     "metadata": {},
     "output_type": "execute_result"
    }
   ],
   "source": [
    "# Sebelum menghapus Missing Values\n",
    "# Nilai dari kolom Status baris yang berisikan \\N atau NaN\n",
    "status_Old = df[(df['Status']!='complete')&(df['Status']!='canceled')&(df['Status']!='received')&(df['Status']!='order_refunded')&(df['Status']!='refund')&(df['Status']!='cod')&(df['Status']!='paid')&(df['Status']!='closed')&(df['Status']!='payment_review')&(df['Status']!='pending')&(df['Status']!='processing')&(df['Status']!='holded')&(df['Status']!='fraud')&(df['Status']!='pending_paypal')&(df['Status']!='exchange')]\n",
    "status_Old"
   ]
  },
  {
   "cell_type": "markdown",
   "metadata": {},
   "source": [
    "- Berdasarkan pengecekan missing values dari kolom status, terdapat 19 baris missing values dan ini akan di hapus."
   ]
  },
  {
   "cell_type": "code",
   "execution_count": 13,
   "metadata": {},
   "outputs": [],
   "source": [
    "# Menghapus nilai missing value di kolom status\n",
    "df.dropna(subset=['Status'],inplace=True)"
   ]
  },
  {
   "cell_type": "code",
   "execution_count": 14,
   "metadata": {},
   "outputs": [],
   "source": [
    "## Penghapusan Data Anomali Values\n",
    "# df.drop(df[(df['Status']=='\\\\N')].index,inplace=True)\n",
    "df.drop(df[(df['Status']=='\\\\N')].index,inplace=True)"
   ]
  },
  {
   "cell_type": "code",
   "execution_count": 15,
   "metadata": {},
   "outputs": [
    {
     "data": {
      "text/plain": [
       "0"
      ]
     },
     "execution_count": 15,
     "metadata": {},
     "output_type": "execute_result"
    }
   ],
   "source": [
    "# Pengecekan jumlah missing values setelah di hapus\n",
    "df['Status'].isna().sum()"
   ]
  },
  {
   "cell_type": "code",
   "execution_count": 16,
   "metadata": {},
   "outputs": [
    {
     "data": {
      "text/html": [
       "<div>\n",
       "<style scoped>\n",
       "    .dataframe tbody tr th:only-of-type {\n",
       "        vertical-align: middle;\n",
       "    }\n",
       "\n",
       "    .dataframe tbody tr th {\n",
       "        vertical-align: top;\n",
       "    }\n",
       "\n",
       "    .dataframe thead th {\n",
       "        text-align: right;\n",
       "    }\n",
       "</style>\n",
       "<table border=\"1\" class=\"dataframe\">\n",
       "  <thead>\n",
       "    <tr style=\"text-align: right;\">\n",
       "      <th></th>\n",
       "      <th>Item_Id</th>\n",
       "      <th>Status</th>\n",
       "      <th>Created_at</th>\n",
       "      <th>Stock_Keeping_Unit</th>\n",
       "      <th>Price</th>\n",
       "      <th>Ordered_Quantity</th>\n",
       "      <th>Grand_Total</th>\n",
       "      <th>Increment_Id</th>\n",
       "      <th>Category</th>\n",
       "      <th>Sales_Commission_Code</th>\n",
       "      <th>...</th>\n",
       "      <th>Payment_Method</th>\n",
       "      <th>Working_Date</th>\n",
       "      <th>Business_Insight_Status</th>\n",
       "      <th>MV</th>\n",
       "      <th>Year</th>\n",
       "      <th>Month</th>\n",
       "      <th>Customer_Since</th>\n",
       "      <th>Month-Year</th>\n",
       "      <th>FY</th>\n",
       "      <th>Customer_Id</th>\n",
       "    </tr>\n",
       "  </thead>\n",
       "  <tbody>\n",
       "  </tbody>\n",
       "</table>\n",
       "<p>0 rows × 21 columns</p>\n",
       "</div>"
      ],
      "text/plain": [
       "Empty DataFrame\n",
       "Columns: [Item_Id, Status, Created_at, Stock_Keeping_Unit, Price, Ordered_Quantity, Grand_Total, Increment_Id, Category, Sales_Commission_Code, Discount_Amount, Payment_Method, Working_Date, Business_Insight_Status, MV, Year, Month, Customer_Since, Month-Year, FY, Customer_Id]\n",
       "Index: []\n",
       "\n",
       "[0 rows x 21 columns]"
      ]
     },
     "execution_count": 16,
     "metadata": {},
     "output_type": "execute_result"
    }
   ],
   "source": [
    "# Sesudah menghapus Missing Values\n",
    "# Nilai dari kolom Status baris yang berisikan \\N atau NaN\n",
    "status_New = df[(df['Status']!='complete')&(df['Status']!='canceled')&(df['Status']!='received')&(df['Status']!='order_refunded')&(df['Status']!='refund')&(df['Status']!='cod')&(df['Status']!='paid')&(df['Status']!='closed')&(df['Status']!='payment_review')&(df['Status']!='pending')&(df['Status']!='processing')&(df['Status']!='holded')&(df['Status']!='fraud')&(df['Status']!='pending_paypal')&(df['Status']!='exchange')]\n",
    "status_New"
   ]
  },
  {
   "cell_type": "code",
   "execution_count": 17,
   "metadata": {},
   "outputs": [],
   "source": [
    "# Perbaikan nama nilai kolom status \n",
    "def kolom_status (x) :\n",
    "    if x == 'complete':\n",
    "        return 'Completed'\n",
    "    elif x == 'closed':\n",
    "        return 'Completed'\n",
    "    elif x == 'received':\n",
    "        return 'Completed'\n",
    "    elif x == 'paid':\n",
    "        return 'Completed'\n",
    "    elif x == 'cod':\n",
    "        return 'Completed'\n",
    "    elif x == 'order_refunded':\n",
    "        return 'Refund'\n",
    "    elif x == 'refund':\n",
    "        return 'Refund'\n",
    "    elif x == 'exchange':\n",
    "        return 'Refund'\n",
    "    elif x == 'pending':\n",
    "        return 'Pending'\n",
    "    elif x == 'payment_review':\n",
    "        return 'Pending'\n",
    "    elif x == 'processing':\n",
    "        return 'Pending'\n",
    "    elif x == 'holded':\n",
    "        return 'Pending'\n",
    "    elif x == 'pending_paypal':\n",
    "        return 'Pending'\n",
    "    elif x == 'fraud':\n",
    "        return 'Fraud'\n",
    "    elif x == 'canceled':\n",
    "        return 'Cancelled'"
   ]
  },
  {
   "cell_type": "code",
   "execution_count": 18,
   "metadata": {},
   "outputs": [],
   "source": [
    "# # Menjalankan perintah update nama nilai kolom status\n",
    "df['Status'] = df['Status'].apply(kolom_status)"
   ]
  },
  {
   "cell_type": "code",
   "execution_count": 19,
   "metadata": {},
   "outputs": [
    {
     "data": {
      "text/plain": [
       "Completed    315487\n",
       "Cancelled    201249\n",
       "Refund        67583\n",
       "Pending         176\n",
       "Fraud            10\n",
       "Name: Status, dtype: int64"
      ]
     },
     "execution_count": 19,
     "metadata": {},
     "output_type": "execute_result"
    }
   ],
   "source": [
    "df['Status'].value_counts()"
   ]
  },
  {
   "cell_type": "code",
   "execution_count": 20,
   "metadata": {},
   "outputs": [
    {
     "data": {
      "text/html": [
       "<div>\n",
       "<style scoped>\n",
       "    .dataframe tbody tr th:only-of-type {\n",
       "        vertical-align: middle;\n",
       "    }\n",
       "\n",
       "    .dataframe tbody tr th {\n",
       "        vertical-align: top;\n",
       "    }\n",
       "\n",
       "    .dataframe thead th {\n",
       "        text-align: right;\n",
       "    }\n",
       "</style>\n",
       "<table border=\"1\" class=\"dataframe\">\n",
       "  <thead>\n",
       "    <tr style=\"text-align: right;\">\n",
       "      <th>col_0</th>\n",
       "      <th>Status</th>\n",
       "      <th>count</th>\n",
       "    </tr>\n",
       "  </thead>\n",
       "  <tbody>\n",
       "    <tr>\n",
       "      <th>0</th>\n",
       "      <td>Cancelled</td>\n",
       "      <td>201249</td>\n",
       "    </tr>\n",
       "    <tr>\n",
       "      <th>1</th>\n",
       "      <td>Completed</td>\n",
       "      <td>315487</td>\n",
       "    </tr>\n",
       "    <tr>\n",
       "      <th>2</th>\n",
       "      <td>Fraud</td>\n",
       "      <td>10</td>\n",
       "    </tr>\n",
       "    <tr>\n",
       "      <th>3</th>\n",
       "      <td>Pending</td>\n",
       "      <td>176</td>\n",
       "    </tr>\n",
       "    <tr>\n",
       "      <th>4</th>\n",
       "      <td>Refund</td>\n",
       "      <td>67583</td>\n",
       "    </tr>\n",
       "  </tbody>\n",
       "</table>\n",
       "</div>"
      ],
      "text/plain": [
       "col_0     Status   count\n",
       "0      Cancelled  201249\n",
       "1      Completed  315487\n",
       "2          Fraud      10\n",
       "3        Pending     176\n",
       "4         Refund   67583"
      ]
     },
     "execution_count": 20,
     "metadata": {},
     "output_type": "execute_result"
    }
   ],
   "source": [
    "pd.crosstab(df['Status'],columns='count').reset_index()"
   ]
  },
  {
   "cell_type": "code",
   "execution_count": 21,
   "metadata": {},
   "outputs": [],
   "source": [
    "df.drop(columns='Business_Insight_Status',axis=1,inplace=True)"
   ]
  },
  {
   "cell_type": "code",
   "execution_count": 22,
   "metadata": {},
   "outputs": [],
   "source": [
    "# Perbaikan nama nilai kolom status \n",
    "def kolom_bi (x) :\n",
    "    if x == 'Completed':\n",
    "        return 'Net'\n",
    "    elif x == 'Completed':\n",
    "        return 'Net'\n",
    "    elif x == 'Completed':\n",
    "        return 'Net'\n",
    "    elif x == 'Completed':\n",
    "        return 'Net'\n",
    "    elif x == 'Completed':\n",
    "        return 'Net'\n",
    "    elif x == 'Refund':\n",
    "        return 'Valid'\n",
    "    elif x == 'Refund':\n",
    "        return 'Valid'\n",
    "    elif x == 'Refund':\n",
    "        return 'Valid'\n",
    "    elif x == 'Pending':\n",
    "        return 'Gross'\n",
    "    elif x == 'Pending':\n",
    "        return 'Gross'\n",
    "    elif x == 'Pending':\n",
    "        return 'Gross'\n",
    "    elif x == 'Pending':\n",
    "        return 'Gross'\n",
    "    elif x == 'Pending':\n",
    "        return 'Gross'\n",
    "    elif x == 'Fraud':\n",
    "        return 'Gross'\n",
    "    elif x == 'Cancelled':\n",
    "        return 'Gross'"
   ]
  },
  {
   "cell_type": "code",
   "execution_count": 23,
   "metadata": {},
   "outputs": [],
   "source": [
    "# # Menjalankan perintah update nama nilai kolom status\n",
    "df.insert(14, column='Business_Insight_Status',value=df['Status'].apply(kolom_bi))"
   ]
  },
  {
   "cell_type": "markdown",
   "metadata": {},
   "source": [
    "##### Handling Kolom Stock Keeping Unit"
   ]
  },
  {
   "cell_type": "code",
   "execution_count": 24,
   "metadata": {},
   "outputs": [
    {
     "data": {
      "text/plain": [
       "array(['kreations_YI 06-L',\n",
       "       'kcc_Buy 2 Frey Air Freshener & Get 1 Kasual Body Spray Free',\n",
       "       'Ego_UP0017-999-MR0', ..., 'WOFVAL59D5EA84167F9-M',\n",
       "       'WOFNIG5B4D7EB0E9FDD-L', 'WOFSCE5AE00357AECDE'], dtype=object)"
      ]
     },
     "execution_count": 24,
     "metadata": {},
     "output_type": "execute_result"
    }
   ],
   "source": [
    "df['Stock_Keeping_Unit'].unique()"
   ]
  },
  {
   "cell_type": "code",
   "execution_count": 25,
   "metadata": {},
   "outputs": [
    {
     "data": {
      "text/plain": [
       "Stock_Keeping_Unit    20\n",
       "dtype: int64"
      ]
     },
     "execution_count": 25,
     "metadata": {},
     "output_type": "execute_result"
    }
   ],
   "source": [
    "df[['Stock_Keeping_Unit']].isnull().sum()"
   ]
  },
  {
   "cell_type": "code",
   "execution_count": 26,
   "metadata": {},
   "outputs": [],
   "source": [
    "# Menghapus nilai missing value di kolom status\n",
    "df.dropna(subset=['Stock_Keeping_Unit'],inplace=True)"
   ]
  },
  {
   "cell_type": "markdown",
   "metadata": {},
   "source": [
    "Handling category product"
   ]
  },
  {
   "cell_type": "code",
   "execution_count": 27,
   "metadata": {},
   "outputs": [
    {
     "data": {
      "text/plain": [
       "array([\"Women's Fashion\", 'Beauty & Grooming', 'Soghaat',\n",
       "       'Mobiles & Tablets', 'Appliances', 'Home & Living',\n",
       "       \"Men's Fashion\", 'Kids & Baby', '\\\\N', 'Others', 'Entertainment',\n",
       "       'Computing', 'Superstore', 'Health & Sports', 'Books',\n",
       "       'School & Education', nan], dtype=object)"
      ]
     },
     "execution_count": 27,
     "metadata": {},
     "output_type": "execute_result"
    }
   ],
   "source": [
    "df['Category'].unique()"
   ]
  },
  {
   "cell_type": "code",
   "execution_count": 28,
   "metadata": {},
   "outputs": [
    {
     "data": {
      "text/plain": [
       "0.0280589"
      ]
     },
     "execution_count": 28,
     "metadata": {},
     "output_type": "execute_result"
    }
   ],
   "source": [
    "# Mengecek persentase misisng values kategori\n",
    "round((((df['Category'].isna().sum())/len(df)) * 100),7)"
   ]
  },
  {
   "cell_type": "code",
   "execution_count": 29,
   "metadata": {},
   "outputs": [
    {
     "data": {
      "text/html": [
       "<div>\n",
       "<style scoped>\n",
       "    .dataframe tbody tr th:only-of-type {\n",
       "        vertical-align: middle;\n",
       "    }\n",
       "\n",
       "    .dataframe tbody tr th {\n",
       "        vertical-align: top;\n",
       "    }\n",
       "\n",
       "    .dataframe thead th {\n",
       "        text-align: right;\n",
       "    }\n",
       "</style>\n",
       "<table border=\"1\" class=\"dataframe\">\n",
       "  <thead>\n",
       "    <tr style=\"text-align: right;\">\n",
       "      <th></th>\n",
       "      <th>Item_Id</th>\n",
       "      <th>Status</th>\n",
       "      <th>Created_at</th>\n",
       "      <th>Stock_Keeping_Unit</th>\n",
       "      <th>Price</th>\n",
       "      <th>Ordered_Quantity</th>\n",
       "      <th>Grand_Total</th>\n",
       "      <th>Increment_Id</th>\n",
       "      <th>Category</th>\n",
       "      <th>Sales_Commission_Code</th>\n",
       "      <th>...</th>\n",
       "      <th>Payment_Method</th>\n",
       "      <th>Working_Date</th>\n",
       "      <th>MV</th>\n",
       "      <th>Business_Insight_Status</th>\n",
       "      <th>Year</th>\n",
       "      <th>Month</th>\n",
       "      <th>Customer_Since</th>\n",
       "      <th>Month-Year</th>\n",
       "      <th>FY</th>\n",
       "      <th>Customer_Id</th>\n",
       "    </tr>\n",
       "  </thead>\n",
       "  <tbody>\n",
       "    <tr>\n",
       "      <th>0</th>\n",
       "      <td>211131.0</td>\n",
       "      <td>Completed</td>\n",
       "      <td>7/1/2016</td>\n",
       "      <td>kreations_YI 06-L</td>\n",
       "      <td>1950.0</td>\n",
       "      <td>1.0</td>\n",
       "      <td>1950.0</td>\n",
       "      <td>100147443</td>\n",
       "      <td>Women's Fashion</td>\n",
       "      <td>\\N</td>\n",
       "      <td>...</td>\n",
       "      <td>cod</td>\n",
       "      <td>7/1/2016</td>\n",
       "      <td>1,950</td>\n",
       "      <td>Net</td>\n",
       "      <td>2016.0</td>\n",
       "      <td>7.0</td>\n",
       "      <td>2016-7</td>\n",
       "      <td>7-2016</td>\n",
       "      <td>FY17</td>\n",
       "      <td>1.0</td>\n",
       "    </tr>\n",
       "    <tr>\n",
       "      <th>1</th>\n",
       "      <td>211133.0</td>\n",
       "      <td>Cancelled</td>\n",
       "      <td>7/1/2016</td>\n",
       "      <td>kcc_Buy 2 Frey Air Freshener &amp; Get 1 Kasual Bo...</td>\n",
       "      <td>240.0</td>\n",
       "      <td>1.0</td>\n",
       "      <td>240.0</td>\n",
       "      <td>100147444</td>\n",
       "      <td>Beauty &amp; Grooming</td>\n",
       "      <td>\\N</td>\n",
       "      <td>...</td>\n",
       "      <td>cod</td>\n",
       "      <td>7/1/2016</td>\n",
       "      <td>240</td>\n",
       "      <td>Gross</td>\n",
       "      <td>2016.0</td>\n",
       "      <td>7.0</td>\n",
       "      <td>2016-7</td>\n",
       "      <td>7-2016</td>\n",
       "      <td>FY17</td>\n",
       "      <td>2.0</td>\n",
       "    </tr>\n",
       "    <tr>\n",
       "      <th>2</th>\n",
       "      <td>211134.0</td>\n",
       "      <td>Cancelled</td>\n",
       "      <td>7/1/2016</td>\n",
       "      <td>Ego_UP0017-999-MR0</td>\n",
       "      <td>2450.0</td>\n",
       "      <td>1.0</td>\n",
       "      <td>2450.0</td>\n",
       "      <td>100147445</td>\n",
       "      <td>Women's Fashion</td>\n",
       "      <td>\\N</td>\n",
       "      <td>...</td>\n",
       "      <td>cod</td>\n",
       "      <td>7/1/2016</td>\n",
       "      <td>2,450</td>\n",
       "      <td>Gross</td>\n",
       "      <td>2016.0</td>\n",
       "      <td>7.0</td>\n",
       "      <td>2016-7</td>\n",
       "      <td>7-2016</td>\n",
       "      <td>FY17</td>\n",
       "      <td>3.0</td>\n",
       "    </tr>\n",
       "    <tr>\n",
       "      <th>3</th>\n",
       "      <td>211135.0</td>\n",
       "      <td>Completed</td>\n",
       "      <td>7/1/2016</td>\n",
       "      <td>kcc_krone deal</td>\n",
       "      <td>360.0</td>\n",
       "      <td>1.0</td>\n",
       "      <td>60.0</td>\n",
       "      <td>100147446</td>\n",
       "      <td>Beauty &amp; Grooming</td>\n",
       "      <td>R-FSD-52352</td>\n",
       "      <td>...</td>\n",
       "      <td>cod</td>\n",
       "      <td>7/1/2016</td>\n",
       "      <td>360</td>\n",
       "      <td>Net</td>\n",
       "      <td>2016.0</td>\n",
       "      <td>7.0</td>\n",
       "      <td>2016-7</td>\n",
       "      <td>7-2016</td>\n",
       "      <td>FY17</td>\n",
       "      <td>4.0</td>\n",
       "    </tr>\n",
       "    <tr>\n",
       "      <th>4</th>\n",
       "      <td>211136.0</td>\n",
       "      <td>Refund</td>\n",
       "      <td>7/1/2016</td>\n",
       "      <td>BK7010400AG</td>\n",
       "      <td>555.0</td>\n",
       "      <td>2.0</td>\n",
       "      <td>1110.0</td>\n",
       "      <td>100147447</td>\n",
       "      <td>Soghaat</td>\n",
       "      <td>\\N</td>\n",
       "      <td>...</td>\n",
       "      <td>cod</td>\n",
       "      <td>7/1/2016</td>\n",
       "      <td>1,110</td>\n",
       "      <td>Valid</td>\n",
       "      <td>2016.0</td>\n",
       "      <td>7.0</td>\n",
       "      <td>2016-7</td>\n",
       "      <td>7-2016</td>\n",
       "      <td>FY17</td>\n",
       "      <td>5.0</td>\n",
       "    </tr>\n",
       "    <tr>\n",
       "      <th>...</th>\n",
       "      <td>...</td>\n",
       "      <td>...</td>\n",
       "      <td>...</td>\n",
       "      <td>...</td>\n",
       "      <td>...</td>\n",
       "      <td>...</td>\n",
       "      <td>...</td>\n",
       "      <td>...</td>\n",
       "      <td>...</td>\n",
       "      <td>...</td>\n",
       "      <td>...</td>\n",
       "      <td>...</td>\n",
       "      <td>...</td>\n",
       "      <td>...</td>\n",
       "      <td>...</td>\n",
       "      <td>...</td>\n",
       "      <td>...</td>\n",
       "      <td>...</td>\n",
       "      <td>...</td>\n",
       "      <td>...</td>\n",
       "      <td>...</td>\n",
       "    </tr>\n",
       "    <tr>\n",
       "      <th>584519</th>\n",
       "      <td>905204.0</td>\n",
       "      <td>Completed</td>\n",
       "      <td>8/28/2018</td>\n",
       "      <td>WOFSCE5AE00357AECDE</td>\n",
       "      <td>699.0</td>\n",
       "      <td>1.0</td>\n",
       "      <td>849.0</td>\n",
       "      <td>100562385</td>\n",
       "      <td>Women's Fashion</td>\n",
       "      <td>NaN</td>\n",
       "      <td>...</td>\n",
       "      <td>cod</td>\n",
       "      <td>8/28/2018</td>\n",
       "      <td>699</td>\n",
       "      <td>Net</td>\n",
       "      <td>2018.0</td>\n",
       "      <td>8.0</td>\n",
       "      <td>2018-8</td>\n",
       "      <td>8-2018</td>\n",
       "      <td>FY19</td>\n",
       "      <td>115320.0</td>\n",
       "    </tr>\n",
       "    <tr>\n",
       "      <th>584520</th>\n",
       "      <td>905205.0</td>\n",
       "      <td>Pending</td>\n",
       "      <td>8/28/2018</td>\n",
       "      <td>MATHUA5AF70A7D1E50A</td>\n",
       "      <td>35599.0</td>\n",
       "      <td>1.0</td>\n",
       "      <td>35899.0</td>\n",
       "      <td>100562386</td>\n",
       "      <td>Mobiles &amp; Tablets</td>\n",
       "      <td>NaN</td>\n",
       "      <td>...</td>\n",
       "      <td>bankalfalah</td>\n",
       "      <td>8/28/2018</td>\n",
       "      <td>35,599</td>\n",
       "      <td>Gross</td>\n",
       "      <td>2018.0</td>\n",
       "      <td>8.0</td>\n",
       "      <td>2018-8</td>\n",
       "      <td>8-2018</td>\n",
       "      <td>FY19</td>\n",
       "      <td>115326.0</td>\n",
       "    </tr>\n",
       "    <tr>\n",
       "      <th>584521</th>\n",
       "      <td>905206.0</td>\n",
       "      <td>Pending</td>\n",
       "      <td>8/28/2018</td>\n",
       "      <td>MATSAM5B6D7208C6D30</td>\n",
       "      <td>129999.0</td>\n",
       "      <td>2.0</td>\n",
       "      <td>652178.0</td>\n",
       "      <td>100562387</td>\n",
       "      <td>Mobiles &amp; Tablets</td>\n",
       "      <td>NaN</td>\n",
       "      <td>...</td>\n",
       "      <td>bankalfalah</td>\n",
       "      <td>8/28/2018</td>\n",
       "      <td>259,998</td>\n",
       "      <td>Gross</td>\n",
       "      <td>2018.0</td>\n",
       "      <td>8.0</td>\n",
       "      <td>2018-7</td>\n",
       "      <td>8-2018</td>\n",
       "      <td>FY19</td>\n",
       "      <td>113474.0</td>\n",
       "    </tr>\n",
       "    <tr>\n",
       "      <th>584522</th>\n",
       "      <td>905207.0</td>\n",
       "      <td>Pending</td>\n",
       "      <td>8/28/2018</td>\n",
       "      <td>MATSAM5B1509B4696EA</td>\n",
       "      <td>87300.0</td>\n",
       "      <td>2.0</td>\n",
       "      <td>652178.0</td>\n",
       "      <td>100562387</td>\n",
       "      <td>Mobiles &amp; Tablets</td>\n",
       "      <td>NaN</td>\n",
       "      <td>...</td>\n",
       "      <td>bankalfalah</td>\n",
       "      <td>8/28/2018</td>\n",
       "      <td>174,600</td>\n",
       "      <td>Gross</td>\n",
       "      <td>2018.0</td>\n",
       "      <td>8.0</td>\n",
       "      <td>2018-7</td>\n",
       "      <td>8-2018</td>\n",
       "      <td>FY19</td>\n",
       "      <td>113474.0</td>\n",
       "    </tr>\n",
       "    <tr>\n",
       "      <th>584523</th>\n",
       "      <td>905208.0</td>\n",
       "      <td>Pending</td>\n",
       "      <td>8/28/2018</td>\n",
       "      <td>MATSAM5B10F91A9B6AB</td>\n",
       "      <td>108640.0</td>\n",
       "      <td>2.0</td>\n",
       "      <td>652178.0</td>\n",
       "      <td>100562387</td>\n",
       "      <td>Mobiles &amp; Tablets</td>\n",
       "      <td>NaN</td>\n",
       "      <td>...</td>\n",
       "      <td>bankalfalah</td>\n",
       "      <td>8/28/2018</td>\n",
       "      <td>217,280</td>\n",
       "      <td>Gross</td>\n",
       "      <td>2018.0</td>\n",
       "      <td>8.0</td>\n",
       "      <td>2018-7</td>\n",
       "      <td>8-2018</td>\n",
       "      <td>FY19</td>\n",
       "      <td>113474.0</td>\n",
       "    </tr>\n",
       "  </tbody>\n",
       "</table>\n",
       "<p>576656 rows × 21 columns</p>\n",
       "</div>"
      ],
      "text/plain": [
       "         Item_Id     Status Created_at  \\\n",
       "0       211131.0  Completed   7/1/2016   \n",
       "1       211133.0  Cancelled   7/1/2016   \n",
       "2       211134.0  Cancelled   7/1/2016   \n",
       "3       211135.0  Completed   7/1/2016   \n",
       "4       211136.0     Refund   7/1/2016   \n",
       "...          ...        ...        ...   \n",
       "584519  905204.0  Completed  8/28/2018   \n",
       "584520  905205.0    Pending  8/28/2018   \n",
       "584521  905206.0    Pending  8/28/2018   \n",
       "584522  905207.0    Pending  8/28/2018   \n",
       "584523  905208.0    Pending  8/28/2018   \n",
       "\n",
       "                                       Stock_Keeping_Unit     Price  \\\n",
       "0                                       kreations_YI 06-L    1950.0   \n",
       "1       kcc_Buy 2 Frey Air Freshener & Get 1 Kasual Bo...     240.0   \n",
       "2                                      Ego_UP0017-999-MR0    2450.0   \n",
       "3                                          kcc_krone deal     360.0   \n",
       "4                                             BK7010400AG     555.0   \n",
       "...                                                   ...       ...   \n",
       "584519                                WOFSCE5AE00357AECDE     699.0   \n",
       "584520                                MATHUA5AF70A7D1E50A   35599.0   \n",
       "584521                                MATSAM5B6D7208C6D30  129999.0   \n",
       "584522                                MATSAM5B1509B4696EA   87300.0   \n",
       "584523                                MATSAM5B10F91A9B6AB  108640.0   \n",
       "\n",
       "        Ordered_Quantity  Grand_Total Increment_Id           Category  \\\n",
       "0                    1.0       1950.0    100147443    Women's Fashion   \n",
       "1                    1.0        240.0    100147444  Beauty & Grooming   \n",
       "2                    1.0       2450.0    100147445    Women's Fashion   \n",
       "3                    1.0         60.0    100147446  Beauty & Grooming   \n",
       "4                    2.0       1110.0    100147447            Soghaat   \n",
       "...                  ...          ...          ...                ...   \n",
       "584519               1.0        849.0    100562385    Women's Fashion   \n",
       "584520               1.0      35899.0    100562386  Mobiles & Tablets   \n",
       "584521               2.0     652178.0    100562387  Mobiles & Tablets   \n",
       "584522               2.0     652178.0    100562387  Mobiles & Tablets   \n",
       "584523               2.0     652178.0    100562387  Mobiles & Tablets   \n",
       "\n",
       "       Sales_Commission_Code  ...  Payment_Method Working_Date         MV  \\\n",
       "0                         \\N  ...             cod     7/1/2016     1,950    \n",
       "1                         \\N  ...             cod     7/1/2016       240    \n",
       "2                         \\N  ...             cod     7/1/2016     2,450    \n",
       "3                R-FSD-52352  ...             cod     7/1/2016       360    \n",
       "4                         \\N  ...             cod     7/1/2016     1,110    \n",
       "...                      ...  ...             ...          ...        ...   \n",
       "584519                   NaN  ...             cod    8/28/2018       699    \n",
       "584520                   NaN  ...     bankalfalah    8/28/2018    35,599    \n",
       "584521                   NaN  ...     bankalfalah    8/28/2018   259,998    \n",
       "584522                   NaN  ...     bankalfalah    8/28/2018   174,600    \n",
       "584523                   NaN  ...     bankalfalah    8/28/2018   217,280    \n",
       "\n",
       "       Business_Insight_Status    Year  Month  Customer_Since Month-Year  \\\n",
       "0                          Net  2016.0    7.0          2016-7     7-2016   \n",
       "1                        Gross  2016.0    7.0          2016-7     7-2016   \n",
       "2                        Gross  2016.0    7.0          2016-7     7-2016   \n",
       "3                          Net  2016.0    7.0          2016-7     7-2016   \n",
       "4                        Valid  2016.0    7.0          2016-7     7-2016   \n",
       "...                        ...     ...    ...             ...        ...   \n",
       "584519                     Net  2018.0    8.0          2018-8     8-2018   \n",
       "584520                   Gross  2018.0    8.0          2018-8     8-2018   \n",
       "584521                   Gross  2018.0    8.0          2018-7     8-2018   \n",
       "584522                   Gross  2018.0    8.0          2018-7     8-2018   \n",
       "584523                   Gross  2018.0    8.0          2018-7     8-2018   \n",
       "\n",
       "          FY Customer_Id  \n",
       "0       FY17         1.0  \n",
       "1       FY17         2.0  \n",
       "2       FY17         3.0  \n",
       "3       FY17         4.0  \n",
       "4       FY17         5.0  \n",
       "...      ...         ...  \n",
       "584519  FY19    115320.0  \n",
       "584520  FY19    115326.0  \n",
       "584521  FY19    113474.0  \n",
       "584522  FY19    113474.0  \n",
       "584523  FY19    113474.0  \n",
       "\n",
       "[576656 rows x 21 columns]"
      ]
     },
     "execution_count": 29,
     "metadata": {},
     "output_type": "execute_result"
    }
   ],
   "source": [
    "# df[(df['Category']=='\\\\N')& (df['Status'].notnull())][['Status','Category']].head(20)\n",
    "df[(df['Category']!='\\\\N')]"
   ]
  },
  {
   "cell_type": "markdown",
   "metadata": {},
   "source": [
    "Dari hasil pengecekan mising values kolom category terdapat 7829 baris yang memiliki missing values dari total keseluruhan baris category 584485 atau sekitar 0,02% sehingga kolom missing values ini akan di hapus."
   ]
  },
  {
   "cell_type": "code",
   "execution_count": 30,
   "metadata": {},
   "outputs": [],
   "source": [
    "# menghapus missing values\n",
    "df.dropna(subset=['Category'],inplace=True)"
   ]
  },
  {
   "cell_type": "code",
   "execution_count": 31,
   "metadata": {},
   "outputs": [],
   "source": [
    "# Menghapus category \\N\n",
    "df.drop(df[(df['Category']=='\\\\N')].index,inplace=True)\n"
   ]
  },
  {
   "cell_type": "code",
   "execution_count": 32,
   "metadata": {},
   "outputs": [
    {
     "data": {
      "text/plain": [
       "Category    0\n",
       "dtype: int64"
      ]
     },
     "execution_count": 32,
     "metadata": {},
     "output_type": "execute_result"
    }
   ],
   "source": [
    "# Mengcek total missing values\n",
    "df[['Category']].isnull().sum()"
   ]
  },
  {
   "cell_type": "markdown",
   "metadata": {},
   "source": [
    "Handling Column Sales Commission Code"
   ]
  },
  {
   "cell_type": "code",
   "execution_count": 33,
   "metadata": {},
   "outputs": [
    {
     "data": {
      "text/plain": [
       "array(['\\\\N', 'R-FSD-52352', '105259', ..., 'GRS-4090974-1',\n",
       "       'GRS-4090975-1', '100559728'], dtype=object)"
      ]
     },
     "execution_count": 33,
     "metadata": {},
     "output_type": "execute_result"
    }
   ],
   "source": [
    "df['Sales_Commission_Code'].unique()"
   ]
  },
  {
   "cell_type": "code",
   "execution_count": 34,
   "metadata": {},
   "outputs": [
    {
     "data": {
      "text/plain": [
       "136988"
      ]
     },
     "execution_count": 34,
     "metadata": {},
     "output_type": "execute_result"
    }
   ],
   "source": [
    "# Menghitung total missing values\n",
    "df['Sales_Commission_Code'].isnull().sum()"
   ]
  },
  {
   "cell_type": "code",
   "execution_count": 35,
   "metadata": {},
   "outputs": [
    {
     "data": {
      "text/html": [
       "<div>\n",
       "<style scoped>\n",
       "    .dataframe tbody tr th:only-of-type {\n",
       "        vertical-align: middle;\n",
       "    }\n",
       "\n",
       "    .dataframe tbody tr th {\n",
       "        vertical-align: top;\n",
       "    }\n",
       "\n",
       "    .dataframe thead th {\n",
       "        text-align: right;\n",
       "    }\n",
       "</style>\n",
       "<table border=\"1\" class=\"dataframe\">\n",
       "  <thead>\n",
       "    <tr style=\"text-align: right;\">\n",
       "      <th></th>\n",
       "      <th>Item_Id</th>\n",
       "      <th>Status</th>\n",
       "      <th>Created_at</th>\n",
       "      <th>Stock_Keeping_Unit</th>\n",
       "      <th>Price</th>\n",
       "      <th>Ordered_Quantity</th>\n",
       "      <th>Grand_Total</th>\n",
       "      <th>Increment_Id</th>\n",
       "      <th>Category</th>\n",
       "      <th>Sales_Commission_Code</th>\n",
       "      <th>...</th>\n",
       "      <th>Payment_Method</th>\n",
       "      <th>Working_Date</th>\n",
       "      <th>MV</th>\n",
       "      <th>Business_Insight_Status</th>\n",
       "      <th>Year</th>\n",
       "      <th>Month</th>\n",
       "      <th>Customer_Since</th>\n",
       "      <th>Month-Year</th>\n",
       "      <th>FY</th>\n",
       "      <th>Customer_Id</th>\n",
       "    </tr>\n",
       "  </thead>\n",
       "  <tbody>\n",
       "    <tr>\n",
       "      <th>0</th>\n",
       "      <td>211131.0</td>\n",
       "      <td>Completed</td>\n",
       "      <td>7/1/2016</td>\n",
       "      <td>kreations_YI 06-L</td>\n",
       "      <td>1950.0</td>\n",
       "      <td>1.0</td>\n",
       "      <td>1950.0</td>\n",
       "      <td>100147443</td>\n",
       "      <td>Women's Fashion</td>\n",
       "      <td>\\N</td>\n",
       "      <td>...</td>\n",
       "      <td>cod</td>\n",
       "      <td>7/1/2016</td>\n",
       "      <td>1,950</td>\n",
       "      <td>Net</td>\n",
       "      <td>2016.0</td>\n",
       "      <td>7.0</td>\n",
       "      <td>2016-7</td>\n",
       "      <td>7-2016</td>\n",
       "      <td>FY17</td>\n",
       "      <td>1.0</td>\n",
       "    </tr>\n",
       "    <tr>\n",
       "      <th>1</th>\n",
       "      <td>211133.0</td>\n",
       "      <td>Cancelled</td>\n",
       "      <td>7/1/2016</td>\n",
       "      <td>kcc_Buy 2 Frey Air Freshener &amp; Get 1 Kasual Bo...</td>\n",
       "      <td>240.0</td>\n",
       "      <td>1.0</td>\n",
       "      <td>240.0</td>\n",
       "      <td>100147444</td>\n",
       "      <td>Beauty &amp; Grooming</td>\n",
       "      <td>\\N</td>\n",
       "      <td>...</td>\n",
       "      <td>cod</td>\n",
       "      <td>7/1/2016</td>\n",
       "      <td>240</td>\n",
       "      <td>Gross</td>\n",
       "      <td>2016.0</td>\n",
       "      <td>7.0</td>\n",
       "      <td>2016-7</td>\n",
       "      <td>7-2016</td>\n",
       "      <td>FY17</td>\n",
       "      <td>2.0</td>\n",
       "    </tr>\n",
       "    <tr>\n",
       "      <th>2</th>\n",
       "      <td>211134.0</td>\n",
       "      <td>Cancelled</td>\n",
       "      <td>7/1/2016</td>\n",
       "      <td>Ego_UP0017-999-MR0</td>\n",
       "      <td>2450.0</td>\n",
       "      <td>1.0</td>\n",
       "      <td>2450.0</td>\n",
       "      <td>100147445</td>\n",
       "      <td>Women's Fashion</td>\n",
       "      <td>\\N</td>\n",
       "      <td>...</td>\n",
       "      <td>cod</td>\n",
       "      <td>7/1/2016</td>\n",
       "      <td>2,450</td>\n",
       "      <td>Gross</td>\n",
       "      <td>2016.0</td>\n",
       "      <td>7.0</td>\n",
       "      <td>2016-7</td>\n",
       "      <td>7-2016</td>\n",
       "      <td>FY17</td>\n",
       "      <td>3.0</td>\n",
       "    </tr>\n",
       "    <tr>\n",
       "      <th>4</th>\n",
       "      <td>211136.0</td>\n",
       "      <td>Refund</td>\n",
       "      <td>7/1/2016</td>\n",
       "      <td>BK7010400AG</td>\n",
       "      <td>555.0</td>\n",
       "      <td>2.0</td>\n",
       "      <td>1110.0</td>\n",
       "      <td>100147447</td>\n",
       "      <td>Soghaat</td>\n",
       "      <td>\\N</td>\n",
       "      <td>...</td>\n",
       "      <td>cod</td>\n",
       "      <td>7/1/2016</td>\n",
       "      <td>1,110</td>\n",
       "      <td>Valid</td>\n",
       "      <td>2016.0</td>\n",
       "      <td>7.0</td>\n",
       "      <td>2016-7</td>\n",
       "      <td>7-2016</td>\n",
       "      <td>FY17</td>\n",
       "      <td>5.0</td>\n",
       "    </tr>\n",
       "    <tr>\n",
       "      <th>5</th>\n",
       "      <td>211137.0</td>\n",
       "      <td>Cancelled</td>\n",
       "      <td>7/1/2016</td>\n",
       "      <td>UK_Namkino All In One 200 Gms</td>\n",
       "      <td>80.0</td>\n",
       "      <td>1.0</td>\n",
       "      <td>80.0</td>\n",
       "      <td>100147448</td>\n",
       "      <td>Soghaat</td>\n",
       "      <td>\\N</td>\n",
       "      <td>...</td>\n",
       "      <td>cod</td>\n",
       "      <td>7/1/2016</td>\n",
       "      <td>80</td>\n",
       "      <td>Gross</td>\n",
       "      <td>2016.0</td>\n",
       "      <td>7.0</td>\n",
       "      <td>2016-7</td>\n",
       "      <td>7-2016</td>\n",
       "      <td>FY17</td>\n",
       "      <td>6.0</td>\n",
       "    </tr>\n",
       "    <tr>\n",
       "      <th>...</th>\n",
       "      <td>...</td>\n",
       "      <td>...</td>\n",
       "      <td>...</td>\n",
       "      <td>...</td>\n",
       "      <td>...</td>\n",
       "      <td>...</td>\n",
       "      <td>...</td>\n",
       "      <td>...</td>\n",
       "      <td>...</td>\n",
       "      <td>...</td>\n",
       "      <td>...</td>\n",
       "      <td>...</td>\n",
       "      <td>...</td>\n",
       "      <td>...</td>\n",
       "      <td>...</td>\n",
       "      <td>...</td>\n",
       "      <td>...</td>\n",
       "      <td>...</td>\n",
       "      <td>...</td>\n",
       "      <td>...</td>\n",
       "      <td>...</td>\n",
       "    </tr>\n",
       "    <tr>\n",
       "      <th>424824</th>\n",
       "      <td>724038.0</td>\n",
       "      <td>Cancelled</td>\n",
       "      <td>12/31/2017</td>\n",
       "      <td>ENTPAN5A0CACC6C5FEC</td>\n",
       "      <td>8426.0</td>\n",
       "      <td>1.0</td>\n",
       "      <td>8426.0</td>\n",
       "      <td>100441594</td>\n",
       "      <td>Entertainment</td>\n",
       "      <td>\\N</td>\n",
       "      <td>...</td>\n",
       "      <td>cod</td>\n",
       "      <td>12/31/2017</td>\n",
       "      <td>8,426</td>\n",
       "      <td>Gross</td>\n",
       "      <td>2017.0</td>\n",
       "      <td>12.0</td>\n",
       "      <td>2017-12</td>\n",
       "      <td>12-2017</td>\n",
       "      <td>FY18</td>\n",
       "      <td>84402.0</td>\n",
       "    </tr>\n",
       "    <tr>\n",
       "      <th>424825</th>\n",
       "      <td>724053.0</td>\n",
       "      <td>Cancelled</td>\n",
       "      <td>12/31/2017</td>\n",
       "      <td>MATHUA5A0C4EF0631F0</td>\n",
       "      <td>12551.0</td>\n",
       "      <td>1.0</td>\n",
       "      <td>12551.0</td>\n",
       "      <td>100441605</td>\n",
       "      <td>Mobiles &amp; Tablets</td>\n",
       "      <td>\\N</td>\n",
       "      <td>...</td>\n",
       "      <td>cod</td>\n",
       "      <td>12/31/2017</td>\n",
       "      <td>12,551</td>\n",
       "      <td>Gross</td>\n",
       "      <td>2017.0</td>\n",
       "      <td>12.0</td>\n",
       "      <td>2017-10</td>\n",
       "      <td>12-2017</td>\n",
       "      <td>FY18</td>\n",
       "      <td>62383.0</td>\n",
       "    </tr>\n",
       "    <tr>\n",
       "      <th>424826</th>\n",
       "      <td>724056.0</td>\n",
       "      <td>Cancelled</td>\n",
       "      <td>12/31/2017</td>\n",
       "      <td>MOR59F333319808D</td>\n",
       "      <td>499.0</td>\n",
       "      <td>2.0</td>\n",
       "      <td>725.0</td>\n",
       "      <td>100441604</td>\n",
       "      <td>Superstore</td>\n",
       "      <td>\\N</td>\n",
       "      <td>...</td>\n",
       "      <td>Easypay_MA</td>\n",
       "      <td>12/31/2017</td>\n",
       "      <td>998</td>\n",
       "      <td>Gross</td>\n",
       "      <td>2017.0</td>\n",
       "      <td>12.0</td>\n",
       "      <td>2016-11</td>\n",
       "      <td>12-2017</td>\n",
       "      <td>FY18</td>\n",
       "      <td>14025.0</td>\n",
       "    </tr>\n",
       "    <tr>\n",
       "      <th>424827</th>\n",
       "      <td>724057.0</td>\n",
       "      <td>Cancelled</td>\n",
       "      <td>12/31/2017</td>\n",
       "      <td>KNO59D64DAC18B6C</td>\n",
       "      <td>27.0</td>\n",
       "      <td>1.0</td>\n",
       "      <td>725.0</td>\n",
       "      <td>100441604</td>\n",
       "      <td>Superstore</td>\n",
       "      <td>\\N</td>\n",
       "      <td>...</td>\n",
       "      <td>Easypay_MA</td>\n",
       "      <td>12/31/2017</td>\n",
       "      <td>27</td>\n",
       "      <td>Gross</td>\n",
       "      <td>2017.0</td>\n",
       "      <td>12.0</td>\n",
       "      <td>2016-11</td>\n",
       "      <td>12-2017</td>\n",
       "      <td>FY18</td>\n",
       "      <td>14025.0</td>\n",
       "    </tr>\n",
       "    <tr>\n",
       "      <th>424828</th>\n",
       "      <td>724039.0</td>\n",
       "      <td>Refund</td>\n",
       "      <td>12/31/2017</td>\n",
       "      <td>BAGDOV5A099F4EF3FFA</td>\n",
       "      <td>370.0</td>\n",
       "      <td>1.0</td>\n",
       "      <td>520.0</td>\n",
       "      <td>100441595</td>\n",
       "      <td>Beauty &amp; Grooming</td>\n",
       "      <td>\\N</td>\n",
       "      <td>...</td>\n",
       "      <td>cod</td>\n",
       "      <td>12/31/2017</td>\n",
       "      <td>370</td>\n",
       "      <td>Valid</td>\n",
       "      <td>2017.0</td>\n",
       "      <td>12.0</td>\n",
       "      <td>2016-9</td>\n",
       "      <td>12-2017</td>\n",
       "      <td>FY18</td>\n",
       "      <td>8765.0</td>\n",
       "    </tr>\n",
       "  </tbody>\n",
       "</table>\n",
       "<p>332767 rows × 21 columns</p>\n",
       "</div>"
      ],
      "text/plain": [
       "         Item_Id     Status  Created_at  \\\n",
       "0       211131.0  Completed    7/1/2016   \n",
       "1       211133.0  Cancelled    7/1/2016   \n",
       "2       211134.0  Cancelled    7/1/2016   \n",
       "4       211136.0     Refund    7/1/2016   \n",
       "5       211137.0  Cancelled    7/1/2016   \n",
       "...          ...        ...         ...   \n",
       "424824  724038.0  Cancelled  12/31/2017   \n",
       "424825  724053.0  Cancelled  12/31/2017   \n",
       "424826  724056.0  Cancelled  12/31/2017   \n",
       "424827  724057.0  Cancelled  12/31/2017   \n",
       "424828  724039.0     Refund  12/31/2017   \n",
       "\n",
       "                                       Stock_Keeping_Unit    Price  \\\n",
       "0                                       kreations_YI 06-L   1950.0   \n",
       "1       kcc_Buy 2 Frey Air Freshener & Get 1 Kasual Bo...    240.0   \n",
       "2                                      Ego_UP0017-999-MR0   2450.0   \n",
       "4                                             BK7010400AG    555.0   \n",
       "5                           UK_Namkino All In One 200 Gms     80.0   \n",
       "...                                                   ...      ...   \n",
       "424824                                ENTPAN5A0CACC6C5FEC   8426.0   \n",
       "424825                                MATHUA5A0C4EF0631F0  12551.0   \n",
       "424826                                   MOR59F333319808D    499.0   \n",
       "424827                                   KNO59D64DAC18B6C     27.0   \n",
       "424828                                BAGDOV5A099F4EF3FFA    370.0   \n",
       "\n",
       "        Ordered_Quantity  Grand_Total Increment_Id           Category  \\\n",
       "0                    1.0       1950.0    100147443    Women's Fashion   \n",
       "1                    1.0        240.0    100147444  Beauty & Grooming   \n",
       "2                    1.0       2450.0    100147445    Women's Fashion   \n",
       "4                    2.0       1110.0    100147447            Soghaat   \n",
       "5                    1.0         80.0    100147448            Soghaat   \n",
       "...                  ...          ...          ...                ...   \n",
       "424824               1.0       8426.0    100441594      Entertainment   \n",
       "424825               1.0      12551.0    100441605  Mobiles & Tablets   \n",
       "424826               2.0        725.0    100441604         Superstore   \n",
       "424827               1.0        725.0    100441604         Superstore   \n",
       "424828               1.0        520.0    100441595  Beauty & Grooming   \n",
       "\n",
       "       Sales_Commission_Code  ...  Payment_Method Working_Date        MV  \\\n",
       "0                         \\N  ...             cod     7/1/2016    1,950    \n",
       "1                         \\N  ...             cod     7/1/2016      240    \n",
       "2                         \\N  ...             cod     7/1/2016    2,450    \n",
       "4                         \\N  ...             cod     7/1/2016    1,110    \n",
       "5                         \\N  ...             cod     7/1/2016       80    \n",
       "...                      ...  ...             ...          ...       ...   \n",
       "424824                    \\N  ...             cod   12/31/2017    8,426    \n",
       "424825                    \\N  ...             cod   12/31/2017   12,551    \n",
       "424826                    \\N  ...      Easypay_MA   12/31/2017      998    \n",
       "424827                    \\N  ...      Easypay_MA   12/31/2017       27    \n",
       "424828                    \\N  ...             cod   12/31/2017      370    \n",
       "\n",
       "       Business_Insight_Status    Year  Month  Customer_Since Month-Year  \\\n",
       "0                          Net  2016.0    7.0          2016-7     7-2016   \n",
       "1                        Gross  2016.0    7.0          2016-7     7-2016   \n",
       "2                        Gross  2016.0    7.0          2016-7     7-2016   \n",
       "4                        Valid  2016.0    7.0          2016-7     7-2016   \n",
       "5                        Gross  2016.0    7.0          2016-7     7-2016   \n",
       "...                        ...     ...    ...             ...        ...   \n",
       "424824                   Gross  2017.0   12.0         2017-12    12-2017   \n",
       "424825                   Gross  2017.0   12.0         2017-10    12-2017   \n",
       "424826                   Gross  2017.0   12.0         2016-11    12-2017   \n",
       "424827                   Gross  2017.0   12.0         2016-11    12-2017   \n",
       "424828                   Valid  2017.0   12.0          2016-9    12-2017   \n",
       "\n",
       "          FY Customer_Id  \n",
       "0       FY17         1.0  \n",
       "1       FY17         2.0  \n",
       "2       FY17         3.0  \n",
       "4       FY17         5.0  \n",
       "5       FY17         6.0  \n",
       "...      ...         ...  \n",
       "424824  FY18     84402.0  \n",
       "424825  FY18     62383.0  \n",
       "424826  FY18     14025.0  \n",
       "424827  FY18     14025.0  \n",
       "424828  FY18      8765.0  \n",
       "\n",
       "[332767 rows x 21 columns]"
      ]
     },
     "execution_count": 35,
     "metadata": {},
     "output_type": "execute_result"
    }
   ],
   "source": [
    "# Menghitung baris anomali\n",
    "df[df['Sales_Commission_Code']=='\\\\N']"
   ]
  },
  {
   "cell_type": "code",
   "execution_count": 36,
   "metadata": {},
   "outputs": [
    {
     "data": {
      "text/plain": [
       "23.76"
      ]
     },
     "execution_count": 36,
     "metadata": {},
     "output_type": "execute_result"
    }
   ],
   "source": [
    "# Menghitung persentase missing values\n",
    "round((((df['Sales_Commission_Code'].isna().sum())/len(df)) * 100),2)"
   ]
  },
  {
   "cell_type": "code",
   "execution_count": 37,
   "metadata": {},
   "outputs": [],
   "source": [
    "# Menghapus missing values sales commision code\n",
    "df.dropna(subset=['Sales_Commission_Code'],inplace=True)"
   ]
  },
  {
   "cell_type": "code",
   "execution_count": 38,
   "metadata": {},
   "outputs": [],
   "source": [
    "# Menghapus nilai anomalies\n",
    "df.drop(df[(df['Sales_Commission_Code']=='\\\\N')].index,inplace=True)"
   ]
  },
  {
   "cell_type": "code",
   "execution_count": 39,
   "metadata": {},
   "outputs": [
    {
     "data": {
      "text/plain": [
       "3      R-FSD-52352\n",
       "13          105259\n",
       "15          105259\n",
       "16    R-KHW-104406\n",
       "17    R-KHW-104406\n",
       "Name: Sales_Commission_Code, dtype: object"
      ]
     },
     "execution_count": 39,
     "metadata": {},
     "output_type": "execute_result"
    }
   ],
   "source": [
    "df['Sales_Commission_Code'].head()"
   ]
  },
  {
   "cell_type": "markdown",
   "metadata": {},
   "source": [
    "Handling Payment_Method"
   ]
  },
  {
   "cell_type": "code",
   "execution_count": 40,
   "metadata": {},
   "outputs": [
    {
     "data": {
      "text/plain": [
       "0"
      ]
     },
     "execution_count": 40,
     "metadata": {},
     "output_type": "execute_result"
    }
   ],
   "source": [
    "# Mengecek Missing Values\n",
    "df['Customer_Since'].isnull().sum()"
   ]
  },
  {
   "cell_type": "markdown",
   "metadata": {},
   "source": [
    "Missing value pada customer since sudah hilang saat saat"
   ]
  },
  {
   "cell_type": "markdown",
   "metadata": {},
   "source": [
    "Handling Business Insight Status "
   ]
  },
  {
   "cell_type": "code",
   "execution_count": 41,
   "metadata": {},
   "outputs": [
    {
     "data": {
      "text/plain": [
       "Net      69353\n",
       "Gross    21640\n",
       "Valid    15744\n",
       "Name: Business_Insight_Status, dtype: int64"
      ]
     },
     "execution_count": 41,
     "metadata": {},
     "output_type": "execute_result"
    }
   ],
   "source": [
    "df['Business_Insight_Status'].value_counts()"
   ]
  },
  {
   "cell_type": "markdown",
   "metadata": {},
   "source": [
    "Handling Customer ID"
   ]
  },
  {
   "cell_type": "code",
   "execution_count": 42,
   "metadata": {},
   "outputs": [
    {
     "data": {
      "text/html": [
       "<div>\n",
       "<style scoped>\n",
       "    .dataframe tbody tr th:only-of-type {\n",
       "        vertical-align: middle;\n",
       "    }\n",
       "\n",
       "    .dataframe tbody tr th {\n",
       "        vertical-align: top;\n",
       "    }\n",
       "\n",
       "    .dataframe thead th {\n",
       "        text-align: right;\n",
       "    }\n",
       "</style>\n",
       "<table border=\"1\" class=\"dataframe\">\n",
       "  <thead>\n",
       "    <tr style=\"text-align: right;\">\n",
       "      <th></th>\n",
       "      <th>Item_Id</th>\n",
       "      <th>Status</th>\n",
       "      <th>Created_at</th>\n",
       "      <th>Stock_Keeping_Unit</th>\n",
       "      <th>Price</th>\n",
       "      <th>Ordered_Quantity</th>\n",
       "      <th>Grand_Total</th>\n",
       "      <th>Increment_Id</th>\n",
       "      <th>Category</th>\n",
       "      <th>Sales_Commission_Code</th>\n",
       "      <th>...</th>\n",
       "      <th>Payment_Method</th>\n",
       "      <th>Working_Date</th>\n",
       "      <th>MV</th>\n",
       "      <th>Business_Insight_Status</th>\n",
       "      <th>Year</th>\n",
       "      <th>Month</th>\n",
       "      <th>Customer_Since</th>\n",
       "      <th>Month-Year</th>\n",
       "      <th>FY</th>\n",
       "      <th>Customer_Id</th>\n",
       "    </tr>\n",
       "  </thead>\n",
       "  <tbody>\n",
       "  </tbody>\n",
       "</table>\n",
       "<p>0 rows × 21 columns</p>\n",
       "</div>"
      ],
      "text/plain": [
       "Empty DataFrame\n",
       "Columns: [Item_Id, Status, Created_at, Stock_Keeping_Unit, Price, Ordered_Quantity, Grand_Total, Increment_Id, Category, Sales_Commission_Code, Discount_Amount, Payment_Method, Working_Date, MV, Business_Insight_Status, Year, Month, Customer_Since, Month-Year, FY, Customer_Id]\n",
       "Index: []\n",
       "\n",
       "[0 rows x 21 columns]"
      ]
     },
     "execution_count": 42,
     "metadata": {},
     "output_type": "execute_result"
    }
   ],
   "source": [
    "# Mengecek Total Missing Values Customer ID\n",
    "df[df['Customer_Id'].isnull()]"
   ]
  },
  {
   "cell_type": "markdown",
   "metadata": {},
   "source": [
    "Handling Payment Method"
   ]
  },
  {
   "cell_type": "markdown",
   "metadata": {},
   "source": [
    "- Memperbaiki spasi nilai dari payment method"
   ]
  },
  {
   "cell_type": "code",
   "execution_count": 43,
   "metadata": {},
   "outputs": [],
   "source": [
    "# Perbaikan nama nilai kolom status \n",
    "def kolom_payment (x) :\n",
    "    if x == 'cod':\n",
    "        return 'Cash On Delivery'\n",
    "    elif x == 'easypay_voucher':\n",
    "        return 'Easy Payment Voucher'\n",
    "    elif x == 'Payaxis':\n",
    "        return 'Payment Axis'\n",
    "    elif x == 'Easypay':\n",
    "        return 'Easy Payment Voucher'\n",
    "    elif x == 'jazzvoucher':\n",
    "        return 'Jazz Voucher'\n",
    "    elif x == 'jazzwallet':\n",
    "        return 'Jazz Wallet'\n",
    "    elif x == 'bankalfalah':\n",
    "        return 'Bank Alfalah'\n",
    "    elif x == 'Easypay_MA':\n",
    "        return 'Easy Payment Massachusetts'\n",
    "    elif x == 'customercredit':\n",
    "        return 'Customer Credit'\n",
    "    elif x == 'cashatdoorstep':\n",
    "        return 'Cash at Door Step'\n",
    "    elif x == 'mcblite':\n",
    "        return 'MCB Lite'\n",
    "    elif x == 'apg':\n",
    "        return 'Ambulatory Patient Groups'\n",
    "    elif x == 'internetbanking':\n",
    "        return 'Internet Banking'\n",
    "    elif x == 'ublcreditcard':\n",
    "        return 'UBL Credit Card'\n",
    "    elif x == 'mygateway':\n",
    "        return 'My Gateway Payment'\n",
    "    elif x == 'financesettlement':\n",
    "        return 'Finance Settlement Payment'\n",
    "    elif x == 'productcredit':\n",
    "        return 'Product Credit'\n"
   ]
  },
  {
   "cell_type": "code",
   "execution_count": 44,
   "metadata": {},
   "outputs": [],
   "source": [
    "# # Menjalankan perintah update nama nilai kolom status\n",
    "df['Payment_Method'] = df['Payment_Method'].apply(kolom_payment)"
   ]
  },
  {
   "cell_type": "code",
   "execution_count": 45,
   "metadata": {},
   "outputs": [],
   "source": [
    "# Perbaikan nama nilai kolom status \n",
    "def kolom_payment_categori (x) :\n",
    "    if x == 'Cash On Delivery':\n",
    "        return 'COD'\n",
    "    elif x == 'Easy Payment Voucher':\n",
    "        return 'Debit Card'\n",
    "    elif x == 'Payment Axis':\n",
    "        return 'Credit Card'\n",
    "    elif x == 'Jazz Voucher':\n",
    "        return 'Debit Card'\n",
    "    elif x == 'Jazz Wallet':\n",
    "        return 'Electronic Wallet'\n",
    "    elif x == 'Bank Alfalah':\n",
    "        return 'Tranfer Bank'\n",
    "    elif x == 'Easy Payment Massachusetts':\n",
    "        return 'Electronic Wallet'\n",
    "    elif x == 'Customer Credit':\n",
    "        return 'Credit Card'\n",
    "    elif x == 'Cash at Door Step':\n",
    "        return 'Electronic Wallet'\n",
    "    elif x == 'MCB Lite':\n",
    "        return 'Internet Banking'\n",
    "    elif x == 'Ambulatory Patient Groups':\n",
    "        return 'Reimburse'\n",
    "    elif x == 'Internet Banking':\n",
    "        return 'Internet Banking'\n",
    "    elif x == 'UBL Credit Card':\n",
    "        return 'Credit Card'\n",
    "    elif x == 'My Gateway Payment':\n",
    "        return 'Credit Card'\n",
    "    elif x == 'Finance Settlement Payment':\n",
    "        return 'Credit Card'\n",
    "    elif x == 'Product Credit':\n",
    "        return 'Credit Card'\n"
   ]
  },
  {
   "cell_type": "code",
   "execution_count": 46,
   "metadata": {},
   "outputs": [],
   "source": [
    "# # Menjalankan perintah update nama nilai kolom status\n",
    "df.insert(12, column='Payment_Method_Category',value=df['Payment_Method'].apply(kolom_payment_categori))"
   ]
  },
  {
   "cell_type": "code",
   "execution_count": 47,
   "metadata": {},
   "outputs": [
    {
     "data": {
      "text/plain": [
       "Item_Id                    0\n",
       "Status                     0\n",
       "Created_at                 0\n",
       "Stock_Keeping_Unit         0\n",
       "Price                      0\n",
       "Ordered_Quantity           0\n",
       "Grand_Total                0\n",
       "Increment_Id               0\n",
       "Category                   0\n",
       "Sales_Commission_Code      0\n",
       "Discount_Amount            0\n",
       "Payment_Method             0\n",
       "Payment_Method_Category    0\n",
       "Working_Date               0\n",
       "MV                         0\n",
       "Business_Insight_Status    0\n",
       "Year                       0\n",
       "Month                      0\n",
       "Customer_Since             0\n",
       "Month-Year                 0\n",
       "FY                         0\n",
       "Customer_Id                0\n",
       "dtype: int64"
      ]
     },
     "execution_count": 47,
     "metadata": {},
     "output_type": "execute_result"
    }
   ],
   "source": [
    "df.isna().sum()"
   ]
  },
  {
   "cell_type": "markdown",
   "metadata": {},
   "source": [
    "Handling Kolom MV"
   ]
  },
  {
   "cell_type": "markdown",
   "metadata": {},
   "source": [
    "- Menghapus kolom MV karena kolom MV berisikan data dari kolom price, hanya saja di buat string dan di tambahkan tanda (,). Sehingga kolom MV tidak digunakan informasi nya sudah ada di kolom price."
   ]
  },
  {
   "cell_type": "code",
   "execution_count": 48,
   "metadata": {},
   "outputs": [],
   "source": [
    "df.drop(columns='MV',inplace=True)"
   ]
  },
  {
   "cell_type": "markdown",
   "metadata": {},
   "source": [
    "### Handling Values Numerical\n",
    "- Harga Diskon"
   ]
  },
  {
   "cell_type": "code",
   "execution_count": 49,
   "metadata": {},
   "outputs": [],
   "source": [
    "# Perbaikan nama nilai kolom status \n",
    "def kolom_diskon (x) :\n",
    "    if x != 0:\n",
    "        return 'Dapat Diskon'\n",
    "    elif x == 0:\n",
    "        return 'Tidak Dapat Diskon'"
   ]
  },
  {
   "cell_type": "code",
   "execution_count": 50,
   "metadata": {},
   "outputs": [],
   "source": [
    "# Menambahkan kolom diskon baru\n",
    "df.insert(11, column='Discount_Amount_Category',value=df['Discount_Amount'].apply(kolom_diskon))"
   ]
  },
  {
   "cell_type": "code",
   "execution_count": 51,
   "metadata": {},
   "outputs": [
    {
     "data": {
      "text/plain": [
       "Tidak Dapat Diskon    64910\n",
       "Dapat Diskon          41827\n",
       "Name: Discount_Amount_Category, dtype: int64"
      ]
     },
     "execution_count": 51,
     "metadata": {},
     "output_type": "execute_result"
    }
   ],
   "source": [
    "df['Discount_Amount_Category'].value_counts()"
   ]
  },
  {
   "cell_type": "markdown",
   "metadata": {},
   "source": [
    "### Ganti Tipe Data"
   ]
  },
  {
   "cell_type": "code",
   "execution_count": 52,
   "metadata": {},
   "outputs": [],
   "source": [
    "# A. Update ke tipe interger\n",
    "df['Ordered_Quantity'] = df['Ordered_Quantity'].astype('int64')\n",
    "df['Year'] = df['Year'].astype('int64')\n",
    "df['Month'] = df['Month'].astype('int64')\n",
    "df['Item_Id'] = df['Item_Id'].astype('int64')\n",
    "df['Customer_Id'] = df['Customer_Id'].astype('int64')\n",
    "df['Increment_Id'] = df['Increment_Id'].astype('int64')"
   ]
  },
  {
   "cell_type": "code",
   "execution_count": 53,
   "metadata": {},
   "outputs": [],
   "source": [
    "# B. Update ke str\n",
    "df['Customer_Id'] = df['Customer_Id'].astype('str')\n",
    "df['Customer_Since'] = df['Customer_Since'].astype('datetime64')\n"
   ]
  },
  {
   "cell_type": "code",
   "execution_count": 54,
   "metadata": {},
   "outputs": [],
   "source": [
    "# C. Update ke datetime\n",
    "df['Month-Year'] = df['Month-Year'].astype('datetime64')\n",
    "df['Working_Date'] = df['Working_Date'].astype('datetime64')"
   ]
  },
  {
   "cell_type": "code",
   "execution_count": 55,
   "metadata": {},
   "outputs": [],
   "source": [
    "# Membuat index baru\n",
    "df = df.reset_index()"
   ]
  },
  {
   "cell_type": "code",
   "execution_count": 56,
   "metadata": {},
   "outputs": [],
   "source": [
    "# Menghapus index lama\n",
    "df = df.drop(columns='index')"
   ]
  },
  {
   "cell_type": "code",
   "execution_count": 57,
   "metadata": {},
   "outputs": [
    {
     "data": {
      "text/plain": [
       "Item_Id                     0\n",
       "Status                      0\n",
       "Created_at                  0\n",
       "Stock_Keeping_Unit          0\n",
       "Price                       0\n",
       "Ordered_Quantity            0\n",
       "Grand_Total                 0\n",
       "Increment_Id                0\n",
       "Category                    0\n",
       "Sales_Commission_Code       0\n",
       "Discount_Amount             0\n",
       "Discount_Amount_Category    0\n",
       "Payment_Method              0\n",
       "Payment_Method_Category     0\n",
       "Working_Date                0\n",
       "Business_Insight_Status     0\n",
       "Year                        0\n",
       "Month                       0\n",
       "Customer_Since              0\n",
       "Month-Year                  0\n",
       "FY                          0\n",
       "Customer_Id                 0\n",
       "dtype: int64"
      ]
     },
     "execution_count": 57,
     "metadata": {},
     "output_type": "execute_result"
    }
   ],
   "source": [
    "# Pengecekan final sebelum di analisa\n",
    "df.isnull().sum()"
   ]
  },
  {
   "cell_type": "markdown",
   "metadata": {},
   "source": [
    "## Statistik Deskriptif"
   ]
  },
  {
   "cell_type": "markdown",
   "metadata": {},
   "source": [
    "- Statistik Numerical"
   ]
  },
  {
   "cell_type": "code",
   "execution_count": 58,
   "metadata": {},
   "outputs": [
    {
     "data": {
      "text/html": [
       "<div>\n",
       "<style scoped>\n",
       "    .dataframe tbody tr th:only-of-type {\n",
       "        vertical-align: middle;\n",
       "    }\n",
       "\n",
       "    .dataframe tbody tr th {\n",
       "        vertical-align: top;\n",
       "    }\n",
       "\n",
       "    .dataframe thead th {\n",
       "        text-align: right;\n",
       "    }\n",
       "</style>\n",
       "<table border=\"1\" class=\"dataframe\">\n",
       "  <thead>\n",
       "    <tr style=\"text-align: right;\">\n",
       "      <th></th>\n",
       "      <th>count</th>\n",
       "      <th>mean</th>\n",
       "      <th>std</th>\n",
       "      <th>min</th>\n",
       "      <th>25%</th>\n",
       "      <th>50%</th>\n",
       "      <th>75%</th>\n",
       "      <th>max</th>\n",
       "    </tr>\n",
       "  </thead>\n",
       "  <tbody>\n",
       "    <tr>\n",
       "      <th>Item_Id</th>\n",
       "      <td>106737.0</td>\n",
       "      <td>5.144477e+05</td>\n",
       "      <td>208263.797824</td>\n",
       "      <td>211135.0</td>\n",
       "      <td>318733.0</td>\n",
       "      <td>503833.0</td>\n",
       "      <td>692941.0</td>\n",
       "      <td>9.051710e+05</td>\n",
       "    </tr>\n",
       "    <tr>\n",
       "      <th>Price</th>\n",
       "      <td>106737.0</td>\n",
       "      <td>8.177230e+03</td>\n",
       "      <td>14859.993988</td>\n",
       "      <td>0.0</td>\n",
       "      <td>335.0</td>\n",
       "      <td>999.0</td>\n",
       "      <td>12750.0</td>\n",
       "      <td>3.079700e+05</td>\n",
       "    </tr>\n",
       "    <tr>\n",
       "      <th>Ordered_Quantity</th>\n",
       "      <td>106737.0</td>\n",
       "      <td>1.208981e+00</td>\n",
       "      <td>1.513445</td>\n",
       "      <td>1.0</td>\n",
       "      <td>1.0</td>\n",
       "      <td>1.0</td>\n",
       "      <td>1.0</td>\n",
       "      <td>1.500000e+02</td>\n",
       "    </tr>\n",
       "    <tr>\n",
       "      <th>Grand_Total</th>\n",
       "      <td>106737.0</td>\n",
       "      <td>8.889158e+03</td>\n",
       "      <td>17366.687634</td>\n",
       "      <td>-1594.0</td>\n",
       "      <td>699.0</td>\n",
       "      <td>1770.4</td>\n",
       "      <td>11588.1</td>\n",
       "      <td>1.039479e+06</td>\n",
       "    </tr>\n",
       "    <tr>\n",
       "      <th>Increment_Id</th>\n",
       "      <td>106737.0</td>\n",
       "      <td>1.003272e+08</td>\n",
       "      <td>119567.642018</td>\n",
       "      <td>100147446.0</td>\n",
       "      <td>100219413.0</td>\n",
       "      <td>100321555.0</td>\n",
       "      <td>100424124.0</td>\n",
       "      <td>1.005624e+08</td>\n",
       "    </tr>\n",
       "    <tr>\n",
       "      <th>Discount_Amount</th>\n",
       "      <td>106737.0</td>\n",
       "      <td>7.627209e+02</td>\n",
       "      <td>1668.542830</td>\n",
       "      <td>0.0</td>\n",
       "      <td>0.0</td>\n",
       "      <td>0.0</td>\n",
       "      <td>926.8</td>\n",
       "      <td>3.546792e+04</td>\n",
       "    </tr>\n",
       "    <tr>\n",
       "      <th>Year</th>\n",
       "      <td>106737.0</td>\n",
       "      <td>2.016872e+03</td>\n",
       "      <td>0.730414</td>\n",
       "      <td>2016.0</td>\n",
       "      <td>2016.0</td>\n",
       "      <td>2017.0</td>\n",
       "      <td>2017.0</td>\n",
       "      <td>2.018000e+03</td>\n",
       "    </tr>\n",
       "    <tr>\n",
       "      <th>Month</th>\n",
       "      <td>106737.0</td>\n",
       "      <td>7.527540e+00</td>\n",
       "      <td>3.537308</td>\n",
       "      <td>1.0</td>\n",
       "      <td>4.0</td>\n",
       "      <td>8.0</td>\n",
       "      <td>11.0</td>\n",
       "      <td>1.200000e+01</td>\n",
       "    </tr>\n",
       "  </tbody>\n",
       "</table>\n",
       "</div>"
      ],
      "text/plain": [
       "                     count          mean            std          min  \\\n",
       "Item_Id           106737.0  5.144477e+05  208263.797824     211135.0   \n",
       "Price             106737.0  8.177230e+03   14859.993988          0.0   \n",
       "Ordered_Quantity  106737.0  1.208981e+00       1.513445          1.0   \n",
       "Grand_Total       106737.0  8.889158e+03   17366.687634      -1594.0   \n",
       "Increment_Id      106737.0  1.003272e+08  119567.642018  100147446.0   \n",
       "Discount_Amount   106737.0  7.627209e+02    1668.542830          0.0   \n",
       "Year              106737.0  2.016872e+03       0.730414       2016.0   \n",
       "Month             106737.0  7.527540e+00       3.537308          1.0   \n",
       "\n",
       "                          25%          50%          75%           max  \n",
       "Item_Id              318733.0     503833.0     692941.0  9.051710e+05  \n",
       "Price                   335.0        999.0      12750.0  3.079700e+05  \n",
       "Ordered_Quantity          1.0          1.0          1.0  1.500000e+02  \n",
       "Grand_Total             699.0       1770.4      11588.1  1.039479e+06  \n",
       "Increment_Id      100219413.0  100321555.0  100424124.0  1.005624e+08  \n",
       "Discount_Amount           0.0          0.0        926.8  3.546792e+04  \n",
       "Year                   2016.0       2017.0       2017.0  2.018000e+03  \n",
       "Month                     4.0          8.0         11.0  1.200000e+01  "
      ]
     },
     "execution_count": 58,
     "metadata": {},
     "output_type": "execute_result"
    }
   ],
   "source": [
    "df.describe().T"
   ]
  },
  {
   "cell_type": "markdown",
   "metadata": {},
   "source": [
    "- Statistik Categorical"
   ]
  },
  {
   "cell_type": "code",
   "execution_count": 59,
   "metadata": {},
   "outputs": [
    {
     "data": {
      "text/html": [
       "<div>\n",
       "<style scoped>\n",
       "    .dataframe tbody tr th:only-of-type {\n",
       "        vertical-align: middle;\n",
       "    }\n",
       "\n",
       "    .dataframe tbody tr th {\n",
       "        vertical-align: top;\n",
       "    }\n",
       "\n",
       "    .dataframe thead th {\n",
       "        text-align: right;\n",
       "    }\n",
       "</style>\n",
       "<table border=\"1\" class=\"dataframe\">\n",
       "  <thead>\n",
       "    <tr style=\"text-align: right;\">\n",
       "      <th></th>\n",
       "      <th>Status</th>\n",
       "      <th>Created_at</th>\n",
       "      <th>Stock_Keeping_Unit</th>\n",
       "      <th>Category</th>\n",
       "      <th>Sales_Commission_Code</th>\n",
       "      <th>Discount_Amount_Category</th>\n",
       "      <th>Payment_Method</th>\n",
       "      <th>Payment_Method_Category</th>\n",
       "      <th>Business_Insight_Status</th>\n",
       "      <th>FY</th>\n",
       "      <th>Customer_Id</th>\n",
       "    </tr>\n",
       "  </thead>\n",
       "  <tbody>\n",
       "    <tr>\n",
       "      <th>count</th>\n",
       "      <td>106737</td>\n",
       "      <td>106737</td>\n",
       "      <td>106737</td>\n",
       "      <td>106737</td>\n",
       "      <td>106737</td>\n",
       "      <td>106737</td>\n",
       "      <td>106737</td>\n",
       "      <td>106737</td>\n",
       "      <td>106737</td>\n",
       "      <td>106737</td>\n",
       "      <td>106737</td>\n",
       "    </tr>\n",
       "    <tr>\n",
       "      <th>unique</th>\n",
       "      <td>4</td>\n",
       "      <td>781</td>\n",
       "      <td>21436</td>\n",
       "      <td>15</td>\n",
       "      <td>7174</td>\n",
       "      <td>2</td>\n",
       "      <td>16</td>\n",
       "      <td>7</td>\n",
       "      <td>3</td>\n",
       "      <td>3</td>\n",
       "      <td>13778</td>\n",
       "    </tr>\n",
       "    <tr>\n",
       "      <th>top</th>\n",
       "      <td>Completed</td>\n",
       "      <td>11/17/2017</td>\n",
       "      <td>MATSAM59DB75ADB2F80</td>\n",
       "      <td>Mobiles &amp; Tablets</td>\n",
       "      <td>40968</td>\n",
       "      <td>Tidak Dapat Diskon</td>\n",
       "      <td>Cash On Delivery</td>\n",
       "      <td>COD</td>\n",
       "      <td>Net</td>\n",
       "      <td>FY17</td>\n",
       "      <td>163</td>\n",
       "    </tr>\n",
       "    <tr>\n",
       "      <th>freq</th>\n",
       "      <td>69353</td>\n",
       "      <td>2795</td>\n",
       "      <td>2169</td>\n",
       "      <td>26207</td>\n",
       "      <td>2710</td>\n",
       "      <td>64910</td>\n",
       "      <td>58603</td>\n",
       "      <td>58603</td>\n",
       "      <td>69353</td>\n",
       "      <td>55561</td>\n",
       "      <td>2320</td>\n",
       "    </tr>\n",
       "  </tbody>\n",
       "</table>\n",
       "</div>"
      ],
      "text/plain": [
       "           Status  Created_at   Stock_Keeping_Unit           Category  \\\n",
       "count      106737      106737               106737             106737   \n",
       "unique          4         781                21436                 15   \n",
       "top     Completed  11/17/2017  MATSAM59DB75ADB2F80  Mobiles & Tablets   \n",
       "freq        69353        2795                 2169              26207   \n",
       "\n",
       "       Sales_Commission_Code Discount_Amount_Category    Payment_Method  \\\n",
       "count                 106737                   106737            106737   \n",
       "unique                  7174                        2                16   \n",
       "top                    40968       Tidak Dapat Diskon  Cash On Delivery   \n",
       "freq                    2710                    64910             58603   \n",
       "\n",
       "       Payment_Method_Category Business_Insight_Status      FY Customer_Id  \n",
       "count                   106737                  106737  106737      106737  \n",
       "unique                       7                       3       3       13778  \n",
       "top                        COD                     Net    FY17         163  \n",
       "freq                     58603                   69353   55561        2320  "
      ]
     },
     "execution_count": 59,
     "metadata": {},
     "output_type": "execute_result"
    }
   ],
   "source": [
    "df.describe(include=['object'])"
   ]
  },
  {
   "cell_type": "markdown",
   "metadata": {},
   "source": [
    "Menghapus kolom yang tidak di gunakan :"
   ]
  },
  {
   "cell_type": "markdown",
   "metadata": {},
   "source": [
    "Menghapus kolom Item_Id karena informasi kolom Item_Id tidak di gunakan dalam analisa ini"
   ]
  },
  {
   "cell_type": "code",
   "execution_count": 60,
   "metadata": {},
   "outputs": [],
   "source": [
    "df=df.drop('Item_Id',axis=1)"
   ]
  },
  {
   "cell_type": "markdown",
   "metadata": {},
   "source": [
    "Menghapus kolom Stock Keeping Unit karena informasi kolom ini sudah di ada rangkuman informasi di kolom category"
   ]
  },
  {
   "cell_type": "code",
   "execution_count": 61,
   "metadata": {},
   "outputs": [],
   "source": [
    "df=df.drop('Stock_Keeping_Unit',axis=1)"
   ]
  },
  {
   "cell_type": "markdown",
   "metadata": {},
   "source": [
    "Menghapus kolom Created_At karena informasi kolom Created_At tidak di gunakan dalam analisa ini"
   ]
  },
  {
   "cell_type": "code",
   "execution_count": 62,
   "metadata": {},
   "outputs": [],
   "source": [
    "df=df.drop('Created_at',axis=1)"
   ]
  },
  {
   "cell_type": "markdown",
   "metadata": {},
   "source": [
    "Menghapus kolom Ordered_Quantity karena informasi kolom Ordered_Quantity tidak di gunakan dalam analisa ini"
   ]
  },
  {
   "cell_type": "code",
   "execution_count": 63,
   "metadata": {},
   "outputs": [],
   "source": [
    "df=df.drop('Ordered_Quantity',axis=1)"
   ]
  },
  {
   "cell_type": "markdown",
   "metadata": {},
   "source": [
    "Menghapus kolom Sales_Commission_Code karena informasi kolom Sales_Commission_Code tidak di gunakan dalam analisa ini"
   ]
  },
  {
   "cell_type": "code",
   "execution_count": 64,
   "metadata": {},
   "outputs": [],
   "source": [
    "df=df.drop('Sales_Commission_Code',axis=1)"
   ]
  },
  {
   "cell_type": "markdown",
   "metadata": {},
   "source": [
    "Menghapus kolom Increment_Id karena informasi kolom Increment_Id tidak di gunakan dalam analisa ini"
   ]
  },
  {
   "cell_type": "code",
   "execution_count": 65,
   "metadata": {},
   "outputs": [],
   "source": [
    "df=df.drop('Increment_Id',axis=1)"
   ]
  },
  {
   "cell_type": "markdown",
   "metadata": {},
   "source": [
    "Menghapus kolom Working date karena informasi pengerjaan pesanan sudah ada di kolom Year dan kolom Month"
   ]
  },
  {
   "cell_type": "code",
   "execution_count": 66,
   "metadata": {},
   "outputs": [],
   "source": [
    "df=df.drop('Working_Date',axis=1)"
   ]
  },
  {
   "cell_type": "markdown",
   "metadata": {},
   "source": [
    "Menghapus kolom Final Year karena informasi kolom Final Year tidak di gunakan dalam analisa ini"
   ]
  },
  {
   "cell_type": "code",
   "execution_count": 67,
   "metadata": {},
   "outputs": [],
   "source": [
    "df=df.drop('FY',axis=1)"
   ]
  },
  {
   "cell_type": "markdown",
   "metadata": {},
   "source": [
    "Menghapus kolom Customer_Id karena informasi kolom Customer_Id tidak di gunakan dalam analisa ini"
   ]
  },
  {
   "cell_type": "code",
   "execution_count": 68,
   "metadata": {},
   "outputs": [],
   "source": [
    "df=df.drop('Customer_Id',axis=1)"
   ]
  },
  {
   "cell_type": "markdown",
   "metadata": {},
   "source": [
    "Menghapus kolom Customer_Since karena informasi kolom Customer_Since tidak di gunakan dalam analisa ini"
   ]
  },
  {
   "cell_type": "code",
   "execution_count": 69,
   "metadata": {},
   "outputs": [],
   "source": [
    "df=df.drop('Customer_Since',axis=1)"
   ]
  },
  {
   "cell_type": "markdown",
   "metadata": {},
   "source": [
    "Menghapus kolom Month-Year karena informasi kolom Month-Year tidak di gunakan dalam analisa ini"
   ]
  },
  {
   "cell_type": "code",
   "execution_count": 70,
   "metadata": {},
   "outputs": [],
   "source": [
    "df=df.drop('Month-Year',axis=1)"
   ]
  },
  {
   "cell_type": "markdown",
   "metadata": {},
   "source": [
    "Menghapus kolom Grand_Total karena informasi kolom Grand_Total tidak di gunakan dalam analisa ini"
   ]
  },
  {
   "cell_type": "code",
   "execution_count": 71,
   "metadata": {},
   "outputs": [],
   "source": [
    "df=df.drop('Grand_Total',axis=1)"
   ]
  },
  {
   "cell_type": "markdown",
   "metadata": {},
   "source": [
    "Menghapus kolom Business_Insight_Status karena informasi kolom Business_Insight_Status tidak di gunakan dalam analisa ini"
   ]
  },
  {
   "cell_type": "code",
   "execution_count": 72,
   "metadata": {},
   "outputs": [],
   "source": [
    "df=df.drop('Business_Insight_Status',axis=1)"
   ]
  },
  {
   "cell_type": "markdown",
   "metadata": {},
   "source": [
    "Menghapus kolom Year karena informasi kolom Year tidak di gunakan dalam analisa ini"
   ]
  },
  {
   "cell_type": "code",
   "execution_count": 73,
   "metadata": {},
   "outputs": [],
   "source": [
    "df=df.drop('Year',axis=1)"
   ]
  },
  {
   "cell_type": "code",
   "execution_count": 74,
   "metadata": {},
   "outputs": [
    {
     "name": "stdout",
     "output_type": "stream",
     "text": [
      "<class 'pandas.core.frame.DataFrame'>\n",
      "RangeIndex: 106737 entries, 0 to 106736\n",
      "Data columns (total 8 columns):\n",
      " #   Column                    Non-Null Count   Dtype  \n",
      "---  ------                    --------------   -----  \n",
      " 0   Status                    106737 non-null  object \n",
      " 1   Price                     106737 non-null  float64\n",
      " 2   Category                  106737 non-null  object \n",
      " 3   Discount_Amount           106737 non-null  float64\n",
      " 4   Discount_Amount_Category  106737 non-null  object \n",
      " 5   Payment_Method            106737 non-null  object \n",
      " 6   Payment_Method_Category   106737 non-null  object \n",
      " 7   Month                     106737 non-null  int64  \n",
      "dtypes: float64(2), int64(1), object(5)\n",
      "memory usage: 6.5+ MB\n"
     ]
    }
   ],
   "source": [
    "df.info()"
   ]
  },
  {
   "cell_type": "markdown",
   "metadata": {},
   "source": [
    "Save data excel yang sudah bersih :"
   ]
  },
  {
   "cell_type": "code",
   "execution_count": 75,
   "metadata": {},
   "outputs": [],
   "source": [
    "df.to_excel('Dataset pakistan 2016-2018.xlsx', index=False)"
   ]
  },
  {
   "cell_type": "markdown",
   "metadata": {},
   "source": [
    "# Analisis Data"
   ]
  },
  {
   "cell_type": "markdown",
   "metadata": {},
   "source": [
    "#### 1. Bagaimana hasil dari status pesanan barang ?"
   ]
  },
  {
   "cell_type": "code",
   "execution_count": 76,
   "metadata": {},
   "outputs": [
    {
     "data": {
      "text/html": [
       "<div>\n",
       "<style scoped>\n",
       "    .dataframe tbody tr th:only-of-type {\n",
       "        vertical-align: middle;\n",
       "    }\n",
       "\n",
       "    .dataframe tbody tr th {\n",
       "        vertical-align: top;\n",
       "    }\n",
       "\n",
       "    .dataframe thead th {\n",
       "        text-align: right;\n",
       "    }\n",
       "</style>\n",
       "<table border=\"1\" class=\"dataframe\">\n",
       "  <thead>\n",
       "    <tr style=\"text-align: right;\">\n",
       "      <th>col_0</th>\n",
       "      <th>Status</th>\n",
       "      <th>count</th>\n",
       "    </tr>\n",
       "  </thead>\n",
       "  <tbody>\n",
       "    <tr>\n",
       "      <th>1</th>\n",
       "      <td>Completed</td>\n",
       "      <td>69353</td>\n",
       "    </tr>\n",
       "    <tr>\n",
       "      <th>0</th>\n",
       "      <td>Cancelled</td>\n",
       "      <td>21600</td>\n",
       "    </tr>\n",
       "    <tr>\n",
       "      <th>3</th>\n",
       "      <td>Refund</td>\n",
       "      <td>15744</td>\n",
       "    </tr>\n",
       "    <tr>\n",
       "      <th>2</th>\n",
       "      <td>Pending</td>\n",
       "      <td>40</td>\n",
       "    </tr>\n",
       "  </tbody>\n",
       "</table>\n",
       "</div>"
      ],
      "text/plain": [
       "col_0     Status  count\n",
       "1      Completed  69353\n",
       "0      Cancelled  21600\n",
       "3         Refund  15744\n",
       "2        Pending     40"
      ]
     },
     "execution_count": 76,
     "metadata": {},
     "output_type": "execute_result"
    }
   ],
   "source": [
    "pd.crosstab(index=df['Status'],columns='count').reset_index().sort_values('count',ascending=False)"
   ]
  },
  {
   "cell_type": "code",
   "execution_count": 77,
   "metadata": {},
   "outputs": [
    {
     "data": {
      "text/html": [
       "<div>\n",
       "<style scoped>\n",
       "    .dataframe tbody tr th:only-of-type {\n",
       "        vertical-align: middle;\n",
       "    }\n",
       "\n",
       "    .dataframe tbody tr th {\n",
       "        vertical-align: top;\n",
       "    }\n",
       "\n",
       "    .dataframe thead th {\n",
       "        text-align: right;\n",
       "    }\n",
       "</style>\n",
       "<table border=\"1\" class=\"dataframe\">\n",
       "  <thead>\n",
       "    <tr style=\"text-align: right;\">\n",
       "      <th>col_0</th>\n",
       "      <th>Status</th>\n",
       "      <th>count</th>\n",
       "    </tr>\n",
       "  </thead>\n",
       "  <tbody>\n",
       "    <tr>\n",
       "      <th>1</th>\n",
       "      <td>Completed</td>\n",
       "      <td>0.65</td>\n",
       "    </tr>\n",
       "    <tr>\n",
       "      <th>0</th>\n",
       "      <td>Cancelled</td>\n",
       "      <td>0.20</td>\n",
       "    </tr>\n",
       "    <tr>\n",
       "      <th>3</th>\n",
       "      <td>Refund</td>\n",
       "      <td>0.15</td>\n",
       "    </tr>\n",
       "    <tr>\n",
       "      <th>2</th>\n",
       "      <td>Pending</td>\n",
       "      <td>0.00</td>\n",
       "    </tr>\n",
       "  </tbody>\n",
       "</table>\n",
       "</div>"
      ],
      "text/plain": [
       "col_0     Status  count\n",
       "1      Completed   0.65\n",
       "0      Cancelled   0.20\n",
       "3         Refund   0.15\n",
       "2        Pending   0.00"
      ]
     },
     "execution_count": 77,
     "metadata": {},
     "output_type": "execute_result"
    }
   ],
   "source": [
    "pd.crosstab(index=df['Status'],columns='count', normalize='all').round(2).reset_index().sort_values('count',ascending=False)"
   ]
  },
  {
   "cell_type": "code",
   "execution_count": 78,
   "metadata": {},
   "outputs": [
    {
     "data": {
      "image/png": "[encoded data removed]",
      "text/plain": [
       "<Figure size 1080x720 with 1 Axes>"
      ]
     },
     "metadata": {
      "needs_background": "light"
     },
     "output_type": "display_data"
    }
   ],
   "source": [
    "plt.figure(figsize=(15,10))\n",
    "ax = sns.countplot(x='Status', data=df, palette = 'flare',linewidth=6)\n",
    "plt.title(\"Status Pesanan Tahun 2016-2018\",size=20)\n",
    "plt.xlabel(\"Status\", size=20, color='k')\n",
    "plt.ylabel(\"Total Status\", size=20, color='k')\n",
    "plt.xticks(size=15,rotation=15)\n",
    "plt.yticks(size=15)\n",
    "for container in ax.containers:\n",
    "    ax.bar_label(container,size=15,rotation=10, horizontalalignment='left')\n",
    "plt.savefig('Visualisasi Business Question 1.jpeg')\n",
    "plt.show()"
   ]
  },
  {
   "cell_type": "markdown",
   "metadata": {},
   "source": [
    "#### **Insight** :\n",
    "- Status completed berjumlah 69.353 setara 65% menempati peringkat paling tinggi transaksinya, sedangkan status cancelled berjumlah 21.600 transaksi setara 20% dari keseluruhan status pemesanan, refund memiliki 15.744 transaksi dan pending memiliki 40 transaksi selama tahun 2016 sampai dengan tahun 2018.\n",
    "- Tingkat pesanan yang berhasil lebih tinggi yaitu sekitar 65% dibandingkan pembatalan dan refund di karenakan minat customer untuk belanja online terus meningkat dan barang yang di terima sesuai yang di harapkan. Berdasasrkan informasi dari ['thenews'](https://www.thenews.com.pk/print/744670-the-future-of-e-commerce), perkembangan e-commers naik drastis terutama pada akhir 2017 mencapai 92% dan pada tahun 2018 naik menjadi 100% berdasarkan informasi ['techjuice'](https://www.techjuice.pk/pakistans-e-commerce-industry-doubled-its-sales-in-2018/#:~:text=Pakistan's%20e%2Dcommerce%20industry%20saw,2018%20reached%2040.1%20billion%20rupees.)"
   ]
  },
  {
   "cell_type": "markdown",
   "metadata": {},
   "source": [
    "#### **Saran** : \n",
    "- Untuk mengecilkan angka pembatalan pesanan dan refund, perusahaan dapat melakukan evaluasi seperti berikut :\n",
    "- Melakukan pencegah pembatalan , seperti yang di sampaikan ['partner.booking.com'](https://partner.booking.com/id/bantuan/pedoman/cara-untuk-memahami-mencegah-dan-mengurangi-pembatalan-lebih-baik):\n",
    "  -  Menawarkan harga non-refundable\n",
    "  -  Terima berbagai metode pembayaran\n",
    "  -  Validasi pembayaran dimuka\n",
    "  -  Balas pertanyaan customer dengan cepat\n",
    "  -  Pikat pemesan last minute dari perangkat mobile\n",
    "  -  Buat promosi / diskon\n",
    "#\n",
    "- Untuk mengurangi pengembalian barang (refund) menurut ['Mike Bracken'](https://www.skuvault.com/blog/reduce-product-returns/)\n",
    "  - Mengontrol kualitas barang sebelum melakukan pengiriman\n",
    "  - Mendeskripsikan produk melalui tulisan, gambar dan ukuran packingan\n",
    "  - Meminta feedback pelanggan\n",
    "  - Menampilkan informasi pengiriman dan waktu barang akan sampai\n",
    "  - Menyediakan customer service real time\n",
    "#\n",
    "- Untuk mengurangi penundaan pengiriman (pending), menurut ['upperinc'](https://www.upperinc.com/blog/how-to-avoid-delivery-delays/)\n",
    "  - Memeriksa persediaan barang (Dapat menggunakan software)\n",
    "  - Merencanakan pengiriman tepat waktu (pengiriman real time atau pengiriman terjadwal)\n",
    "  - Menetapkan minimum pemesanan dan maksimal pemesanan\n",
    "  - Melakukan konfirmasi alamat pengiriman kepada customer\n",
    "  - Menyediakan pilihan pengiriman menggunakan transportasi darat (Mobil Exspedisi) atau transportasi udara (Pesawat Exspedisi)\n",
    "  - Meningkatkan dan memantau visibilitas paket selama proses pengiriman\n",
    "  - Memvalidasi alamat pengiriman sebelum pengiriman."
   ]
  },
  {
   "cell_type": "markdown",
   "metadata": {},
   "source": [
    "#### 2. Apa kategori barang yang memiliki status pemesanan completed dan cancelled tertinggi ?"
   ]
  },
  {
   "cell_type": "code",
   "execution_count": 79,
   "metadata": {},
   "outputs": [
    {
     "data": {
      "text/html": [
       "<div>\n",
       "<style scoped>\n",
       "    .dataframe tbody tr th:only-of-type {\n",
       "        vertical-align: middle;\n",
       "    }\n",
       "\n",
       "    .dataframe tbody tr th {\n",
       "        vertical-align: top;\n",
       "    }\n",
       "\n",
       "    .dataframe thead th {\n",
       "        text-align: right;\n",
       "    }\n",
       "</style>\n",
       "<table border=\"1\" class=\"dataframe\">\n",
       "  <thead>\n",
       "    <tr style=\"text-align: right;\">\n",
       "      <th>Status</th>\n",
       "      <th>Cancelled</th>\n",
       "      <th>Completed</th>\n",
       "      <th>Pending</th>\n",
       "      <th>Refund</th>\n",
       "    </tr>\n",
       "    <tr>\n",
       "      <th>Category</th>\n",
       "      <th></th>\n",
       "      <th></th>\n",
       "      <th></th>\n",
       "      <th></th>\n",
       "    </tr>\n",
       "  </thead>\n",
       "  <tbody>\n",
       "    <tr>\n",
       "      <th>Appliances</th>\n",
       "      <td>3366</td>\n",
       "      <td>6730</td>\n",
       "      <td>1</td>\n",
       "      <td>1545</td>\n",
       "    </tr>\n",
       "    <tr>\n",
       "      <th>Beauty &amp; Grooming</th>\n",
       "      <td>1079</td>\n",
       "      <td>7853</td>\n",
       "      <td>0</td>\n",
       "      <td>1120</td>\n",
       "    </tr>\n",
       "    <tr>\n",
       "      <th>Books</th>\n",
       "      <td>9</td>\n",
       "      <td>142</td>\n",
       "      <td>0</td>\n",
       "      <td>23</td>\n",
       "    </tr>\n",
       "    <tr>\n",
       "      <th>Computing</th>\n",
       "      <td>389</td>\n",
       "      <td>540</td>\n",
       "      <td>0</td>\n",
       "      <td>301</td>\n",
       "    </tr>\n",
       "    <tr>\n",
       "      <th>Entertainment</th>\n",
       "      <td>2685</td>\n",
       "      <td>4719</td>\n",
       "      <td>4</td>\n",
       "      <td>683</td>\n",
       "    </tr>\n",
       "    <tr>\n",
       "      <th>Health &amp; Sports</th>\n",
       "      <td>211</td>\n",
       "      <td>1037</td>\n",
       "      <td>0</td>\n",
       "      <td>296</td>\n",
       "    </tr>\n",
       "    <tr>\n",
       "      <th>Home &amp; Living</th>\n",
       "      <td>531</td>\n",
       "      <td>2149</td>\n",
       "      <td>0</td>\n",
       "      <td>539</td>\n",
       "    </tr>\n",
       "    <tr>\n",
       "      <th>Kids &amp; Baby</th>\n",
       "      <td>262</td>\n",
       "      <td>1701</td>\n",
       "      <td>0</td>\n",
       "      <td>480</td>\n",
       "    </tr>\n",
       "    <tr>\n",
       "      <th>Men's Fashion</th>\n",
       "      <td>1838</td>\n",
       "      <td>12054</td>\n",
       "      <td>2</td>\n",
       "      <td>5116</td>\n",
       "    </tr>\n",
       "    <tr>\n",
       "      <th>Mobiles &amp; Tablets</th>\n",
       "      <td>8073</td>\n",
       "      <td>15201</td>\n",
       "      <td>6</td>\n",
       "      <td>2927</td>\n",
       "    </tr>\n",
       "    <tr>\n",
       "      <th>Others</th>\n",
       "      <td>289</td>\n",
       "      <td>327</td>\n",
       "      <td>0</td>\n",
       "      <td>83</td>\n",
       "    </tr>\n",
       "    <tr>\n",
       "      <th>School &amp; Education</th>\n",
       "      <td>25</td>\n",
       "      <td>166</td>\n",
       "      <td>0</td>\n",
       "      <td>69</td>\n",
       "    </tr>\n",
       "    <tr>\n",
       "      <th>Soghaat</th>\n",
       "      <td>758</td>\n",
       "      <td>7856</td>\n",
       "      <td>0</td>\n",
       "      <td>745</td>\n",
       "    </tr>\n",
       "    <tr>\n",
       "      <th>Superstore</th>\n",
       "      <td>1247</td>\n",
       "      <td>4753</td>\n",
       "      <td>27</td>\n",
       "      <td>410</td>\n",
       "    </tr>\n",
       "    <tr>\n",
       "      <th>Women's Fashion</th>\n",
       "      <td>838</td>\n",
       "      <td>4125</td>\n",
       "      <td>0</td>\n",
       "      <td>1407</td>\n",
       "    </tr>\n",
       "  </tbody>\n",
       "</table>\n",
       "</div>"
      ],
      "text/plain": [
       "Status              Cancelled  Completed  Pending  Refund\n",
       "Category                                                 \n",
       "Appliances               3366       6730        1    1545\n",
       "Beauty & Grooming        1079       7853        0    1120\n",
       "Books                       9        142        0      23\n",
       "Computing                 389        540        0     301\n",
       "Entertainment            2685       4719        4     683\n",
       "Health & Sports           211       1037        0     296\n",
       "Home & Living             531       2149        0     539\n",
       "Kids & Baby               262       1701        0     480\n",
       "Men's Fashion            1838      12054        2    5116\n",
       "Mobiles & Tablets        8073      15201        6    2927\n",
       "Others                    289        327        0      83\n",
       "School & Education         25        166        0      69\n",
       "Soghaat                   758       7856        0     745\n",
       "Superstore               1247       4753       27     410\n",
       "Women's Fashion           838       4125        0    1407"
      ]
     },
     "execution_count": 79,
     "metadata": {},
     "output_type": "execute_result"
    }
   ],
   "source": [
    "pd.crosstab(index=df['Category'], columns=df['Status'])"
   ]
  },
  {
   "cell_type": "code",
   "execution_count": 80,
   "metadata": {},
   "outputs": [
    {
     "data": {
      "text/html": [
       "<div>\n",
       "<style scoped>\n",
       "    .dataframe tbody tr th:only-of-type {\n",
       "        vertical-align: middle;\n",
       "    }\n",
       "\n",
       "    .dataframe tbody tr th {\n",
       "        vertical-align: top;\n",
       "    }\n",
       "\n",
       "    .dataframe thead th {\n",
       "        text-align: right;\n",
       "    }\n",
       "</style>\n",
       "<table border=\"1\" class=\"dataframe\">\n",
       "  <thead>\n",
       "    <tr style=\"text-align: right;\">\n",
       "      <th>Status</th>\n",
       "      <th>Cancelled</th>\n",
       "      <th>Completed</th>\n",
       "      <th>Pending</th>\n",
       "      <th>Refund</th>\n",
       "    </tr>\n",
       "    <tr>\n",
       "      <th>Category</th>\n",
       "      <th></th>\n",
       "      <th></th>\n",
       "      <th></th>\n",
       "      <th></th>\n",
       "    </tr>\n",
       "  </thead>\n",
       "  <tbody>\n",
       "    <tr>\n",
       "      <th>Appliances</th>\n",
       "      <td>0.29</td>\n",
       "      <td>0.58</td>\n",
       "      <td>0.0</td>\n",
       "      <td>0.13</td>\n",
       "    </tr>\n",
       "    <tr>\n",
       "      <th>Beauty &amp; Grooming</th>\n",
       "      <td>0.11</td>\n",
       "      <td>0.78</td>\n",
       "      <td>0.0</td>\n",
       "      <td>0.11</td>\n",
       "    </tr>\n",
       "    <tr>\n",
       "      <th>Books</th>\n",
       "      <td>0.05</td>\n",
       "      <td>0.82</td>\n",
       "      <td>0.0</td>\n",
       "      <td>0.13</td>\n",
       "    </tr>\n",
       "    <tr>\n",
       "      <th>Computing</th>\n",
       "      <td>0.32</td>\n",
       "      <td>0.44</td>\n",
       "      <td>0.0</td>\n",
       "      <td>0.24</td>\n",
       "    </tr>\n",
       "    <tr>\n",
       "      <th>Entertainment</th>\n",
       "      <td>0.33</td>\n",
       "      <td>0.58</td>\n",
       "      <td>0.0</td>\n",
       "      <td>0.08</td>\n",
       "    </tr>\n",
       "    <tr>\n",
       "      <th>Health &amp; Sports</th>\n",
       "      <td>0.14</td>\n",
       "      <td>0.67</td>\n",
       "      <td>0.0</td>\n",
       "      <td>0.19</td>\n",
       "    </tr>\n",
       "    <tr>\n",
       "      <th>Home &amp; Living</th>\n",
       "      <td>0.16</td>\n",
       "      <td>0.67</td>\n",
       "      <td>0.0</td>\n",
       "      <td>0.17</td>\n",
       "    </tr>\n",
       "    <tr>\n",
       "      <th>Kids &amp; Baby</th>\n",
       "      <td>0.11</td>\n",
       "      <td>0.70</td>\n",
       "      <td>0.0</td>\n",
       "      <td>0.20</td>\n",
       "    </tr>\n",
       "    <tr>\n",
       "      <th>Men's Fashion</th>\n",
       "      <td>0.10</td>\n",
       "      <td>0.63</td>\n",
       "      <td>0.0</td>\n",
       "      <td>0.27</td>\n",
       "    </tr>\n",
       "    <tr>\n",
       "      <th>Mobiles &amp; Tablets</th>\n",
       "      <td>0.31</td>\n",
       "      <td>0.58</td>\n",
       "      <td>0.0</td>\n",
       "      <td>0.11</td>\n",
       "    </tr>\n",
       "    <tr>\n",
       "      <th>Others</th>\n",
       "      <td>0.41</td>\n",
       "      <td>0.47</td>\n",
       "      <td>0.0</td>\n",
       "      <td>0.12</td>\n",
       "    </tr>\n",
       "    <tr>\n",
       "      <th>School &amp; Education</th>\n",
       "      <td>0.10</td>\n",
       "      <td>0.64</td>\n",
       "      <td>0.0</td>\n",
       "      <td>0.27</td>\n",
       "    </tr>\n",
       "    <tr>\n",
       "      <th>Soghaat</th>\n",
       "      <td>0.08</td>\n",
       "      <td>0.84</td>\n",
       "      <td>0.0</td>\n",
       "      <td>0.08</td>\n",
       "    </tr>\n",
       "    <tr>\n",
       "      <th>Superstore</th>\n",
       "      <td>0.19</td>\n",
       "      <td>0.74</td>\n",
       "      <td>0.0</td>\n",
       "      <td>0.06</td>\n",
       "    </tr>\n",
       "    <tr>\n",
       "      <th>Women's Fashion</th>\n",
       "      <td>0.13</td>\n",
       "      <td>0.65</td>\n",
       "      <td>0.0</td>\n",
       "      <td>0.22</td>\n",
       "    </tr>\n",
       "  </tbody>\n",
       "</table>\n",
       "</div>"
      ],
      "text/plain": [
       "Status              Cancelled  Completed  Pending  Refund\n",
       "Category                                                 \n",
       "Appliances               0.29       0.58      0.0    0.13\n",
       "Beauty & Grooming        0.11       0.78      0.0    0.11\n",
       "Books                    0.05       0.82      0.0    0.13\n",
       "Computing                0.32       0.44      0.0    0.24\n",
       "Entertainment            0.33       0.58      0.0    0.08\n",
       "Health & Sports          0.14       0.67      0.0    0.19\n",
       "Home & Living            0.16       0.67      0.0    0.17\n",
       "Kids & Baby              0.11       0.70      0.0    0.20\n",
       "Men's Fashion            0.10       0.63      0.0    0.27\n",
       "Mobiles & Tablets        0.31       0.58      0.0    0.11\n",
       "Others                   0.41       0.47      0.0    0.12\n",
       "School & Education       0.10       0.64      0.0    0.27\n",
       "Soghaat                  0.08       0.84      0.0    0.08\n",
       "Superstore               0.19       0.74      0.0    0.06\n",
       "Women's Fashion          0.13       0.65      0.0    0.22"
      ]
     },
     "execution_count": 80,
     "metadata": {},
     "output_type": "execute_result"
    }
   ],
   "source": [
    "pd.crosstab(index=df['Category'], columns=df['Status'], normalize='index').round(2)"
   ]
  },
  {
   "cell_type": "code",
   "execution_count": 81,
   "metadata": {},
   "outputs": [
    {
     "data": {
      "image/png": "[encoded data removed]",
      "text/plain": [
       "<Figure size 2160x936 with 1 Axes>"
      ]
     },
     "metadata": {
      "needs_background": "light"
     },
     "output_type": "display_data"
    }
   ],
   "source": [
    "plt.figure(figsize=(30,13))\n",
    "ax=sns.countplot(x='Category', data=df[(df['Status']=='Completed')]  ,hue='Status', palette='pastel')\n",
    "bx=sns.countplot(x='Category', data=df[(df['Status']=='Cancelled')]  ,hue='Status', palette='crest_r')\n",
    "plt.title(\"Total Kategori Dengan Status Completed dan Cancelled Tertinggi 2016-2018\",size=20)\n",
    "ax.bar_label(ax.containers[0], label_type='edge', size= 12)\n",
    "bx.bar_label(ax.containers[1], label_type='edge', size =12)\n",
    "plt.xlabel('Kategori Barang ', size=20, labelpad=15)\n",
    "plt.ylabel('Total Transaksi', size=20, labelpad=15)\n",
    "plt.xticks(size=20,rotation=15)\n",
    "plt.yticks(size=20)\n",
    "plt.savefig('Visualisasi Business Question 2.jpeg')\n",
    "plt.show()"
   ]
  },
  {
   "cell_type": "markdown",
   "metadata": {},
   "source": [
    "#### **Insight** :\n",
    "- Kategori yang memiliki pemesanan status completed tertinggi ada pada Mobile & Tablets sebesar 15.201 setara 58 persen, dengan pembatalan tertinggi juga sebesar 8.073 setara dengan 31 persen. Selisih persentase completed dengan cancelled ada pada status refund yaitu 11%.\n",
    "- Tingginya pembelian handphone di pakistan di sebabkan karena masuknya internet 3G dan 4G ke pakistan, hal ini membuat penduduk pakistan ingin ikut menggunakan kecepatan jaringan internet dengan support device yang mendukung. Sumber : ['tribune'](https://tribune.com.pk/story/953333/telecom-sector-pakistan-to-have-40-million-smartphones-by-end-of-2016) "
   ]
  },
  {
   "cell_type": "markdown",
   "metadata": {},
   "source": [
    "#### **Saran** :\n",
    "- Perusahaan dapat memberikan diskon untuk kategori Mobile & Tablets untuk menarik minat pembeli, karena Menurut ['Chen'](https://sciarena.com/storage/models/article/ujY91gcY2S6S5Mi1fBXj06BxlO0uuGg1E32h0OjP9069B2obiHqxVbzWndjU/sales-promotion-and-price-discount-effect-on-consumer-purchase-intention-with-the-moderating-role-.pdf) mengatakan Harga merupakan faktor yang sangat penting untuk mempengaruhi dan menarik pertimbangan dan niat konsumen untuk membeli sebuah produk. Harga diskon berarti tidak hanya harga yang lebih rendah, itu juga berarti untuk mendapatkan layanan yang sama dengan membedakan harga untuk produk yang sama; itu adalah pengurangan uang tertentu dari total harga untuk jangka waktu yang singkat untuk meningkatkan penjualan dan keuntungan konsumen. Diskon harga memiliki pengaruh yang besar pada produk dengan harga tinggi, dan mempengaruhi konsumen, dan meningkatkan nilai produk.\n",
    "\n"
   ]
  },
  {
   "cell_type": "markdown",
   "metadata": {},
   "source": [
    "#### 3. Bagaimana hasil dari metode pembayaran ?"
   ]
  },
  {
   "cell_type": "code",
   "execution_count": 82,
   "metadata": {},
   "outputs": [
    {
     "data": {
      "text/html": [
       "<div>\n",
       "<style scoped>\n",
       "    .dataframe tbody tr th:only-of-type {\n",
       "        vertical-align: middle;\n",
       "    }\n",
       "\n",
       "    .dataframe tbody tr th {\n",
       "        vertical-align: top;\n",
       "    }\n",
       "\n",
       "    .dataframe thead th {\n",
       "        text-align: right;\n",
       "    }\n",
       "</style>\n",
       "<table border=\"1\" class=\"dataframe\">\n",
       "  <thead>\n",
       "    <tr style=\"text-align: right;\">\n",
       "      <th>col_0</th>\n",
       "      <th>Payment_Method_Category</th>\n",
       "      <th>count</th>\n",
       "    </tr>\n",
       "  </thead>\n",
       "  <tbody>\n",
       "    <tr>\n",
       "      <th>0</th>\n",
       "      <td>COD</td>\n",
       "      <td>58603</td>\n",
       "    </tr>\n",
       "    <tr>\n",
       "      <th>2</th>\n",
       "      <td>Debit Card</td>\n",
       "      <td>28065</td>\n",
       "    </tr>\n",
       "    <tr>\n",
       "      <th>1</th>\n",
       "      <td>Credit Card</td>\n",
       "      <td>12915</td>\n",
       "    </tr>\n",
       "    <tr>\n",
       "      <th>3</th>\n",
       "      <td>Electronic Wallet</td>\n",
       "      <td>5124</td>\n",
       "    </tr>\n",
       "    <tr>\n",
       "      <th>6</th>\n",
       "      <td>Tranfer Bank</td>\n",
       "      <td>1499</td>\n",
       "    </tr>\n",
       "    <tr>\n",
       "      <th>4</th>\n",
       "      <td>Internet Banking</td>\n",
       "      <td>432</td>\n",
       "    </tr>\n",
       "    <tr>\n",
       "      <th>5</th>\n",
       "      <td>Reimburse</td>\n",
       "      <td>99</td>\n",
       "    </tr>\n",
       "  </tbody>\n",
       "</table>\n",
       "</div>"
      ],
      "text/plain": [
       "col_0 Payment_Method_Category  count\n",
       "0                         COD  58603\n",
       "2                  Debit Card  28065\n",
       "1                 Credit Card  12915\n",
       "3           Electronic Wallet   5124\n",
       "6                Tranfer Bank   1499\n",
       "4            Internet Banking    432\n",
       "5                   Reimburse     99"
      ]
     },
     "execution_count": 82,
     "metadata": {},
     "output_type": "execute_result"
    }
   ],
   "source": [
    "pd.crosstab(index=df['Payment_Method_Category'],columns='count').reset_index().sort_values('count',ascending=False)"
   ]
  },
  {
   "cell_type": "code",
   "execution_count": 83,
   "metadata": {},
   "outputs": [
    {
     "data": {
      "text/html": [
       "<div>\n",
       "<style scoped>\n",
       "    .dataframe tbody tr th:only-of-type {\n",
       "        vertical-align: middle;\n",
       "    }\n",
       "\n",
       "    .dataframe tbody tr th {\n",
       "        vertical-align: top;\n",
       "    }\n",
       "\n",
       "    .dataframe thead th {\n",
       "        text-align: right;\n",
       "    }\n",
       "</style>\n",
       "<table border=\"1\" class=\"dataframe\">\n",
       "  <thead>\n",
       "    <tr style=\"text-align: right;\">\n",
       "      <th>col_0</th>\n",
       "      <th>Payment_Method_Category</th>\n",
       "      <th>count</th>\n",
       "    </tr>\n",
       "  </thead>\n",
       "  <tbody>\n",
       "    <tr>\n",
       "      <th>0</th>\n",
       "      <td>COD</td>\n",
       "      <td>0.55</td>\n",
       "    </tr>\n",
       "    <tr>\n",
       "      <th>2</th>\n",
       "      <td>Debit Card</td>\n",
       "      <td>0.26</td>\n",
       "    </tr>\n",
       "    <tr>\n",
       "      <th>1</th>\n",
       "      <td>Credit Card</td>\n",
       "      <td>0.12</td>\n",
       "    </tr>\n",
       "    <tr>\n",
       "      <th>3</th>\n",
       "      <td>Electronic Wallet</td>\n",
       "      <td>0.05</td>\n",
       "    </tr>\n",
       "    <tr>\n",
       "      <th>6</th>\n",
       "      <td>Tranfer Bank</td>\n",
       "      <td>0.01</td>\n",
       "    </tr>\n",
       "    <tr>\n",
       "      <th>4</th>\n",
       "      <td>Internet Banking</td>\n",
       "      <td>0.00</td>\n",
       "    </tr>\n",
       "    <tr>\n",
       "      <th>5</th>\n",
       "      <td>Reimburse</td>\n",
       "      <td>0.00</td>\n",
       "    </tr>\n",
       "  </tbody>\n",
       "</table>\n",
       "</div>"
      ],
      "text/plain": [
       "col_0 Payment_Method_Category  count\n",
       "0                         COD   0.55\n",
       "2                  Debit Card   0.26\n",
       "1                 Credit Card   0.12\n",
       "3           Electronic Wallet   0.05\n",
       "6                Tranfer Bank   0.01\n",
       "4            Internet Banking   0.00\n",
       "5                   Reimburse   0.00"
      ]
     },
     "execution_count": 83,
     "metadata": {},
     "output_type": "execute_result"
    }
   ],
   "source": [
    "pd.crosstab(index=df['Payment_Method_Category'],columns='count', normalize=True).round(2).reset_index().sort_values('count',ascending=False)"
   ]
  },
  {
   "cell_type": "code",
   "execution_count": 84,
   "metadata": {},
   "outputs": [
    {
     "data": {
      "image/png": "[encoded data removed]",
      "text/plain": [
       "<Figure size 2160x1080 with 1 Axes>"
      ]
     },
     "metadata": {
      "needs_background": "light"
     },
     "output_type": "display_data"
    }
   ],
   "source": [
    "plt.figure(figsize=(30,15))\n",
    "ax = sns.countplot(x='Payment_Method_Category', data=df, palette = 'pastel',linewidth=6)\n",
    "plt.title(\"Metode Pembayaran Pesanan Tahun 2016-2018\",size=25)\n",
    "plt.xlabel(\"Metode Pembayaran\", size=20, color='k')\n",
    "plt.ylabel(\"Total Transaksi\", size=20, color='k')\n",
    "plt.xticks(size=15,rotation=15)\n",
    "plt.yticks(size=15)\n",
    "for container in ax.containers:\n",
    "    ax.bar_label(container,size=15,rotation=10, horizontalalignment='left')\n",
    "plt.savefig('Visualisasi Business Question 3.jpeg')\n",
    "plt.show()"
   ]
  },
  {
   "cell_type": "markdown",
   "metadata": {},
   "source": [
    "#### **Insight** :\n",
    "- Peringkat tertinggi kategori pembayaran ada pada sistem Cash On Delivery (COD), dengan total transaksi COD sebanyak 58.603 atau sebesar 55% persen, pada peringkat kedua ada debit card dengan nilai 28.065 setara 26% dan peringkat ketiga ada credit card dengan total transaksi 12.915 dengan persentase 12%, Electronic wallet memilik total transaksi 5.124 setara dengan 5%. Tranfer bank memiliki jumlah 1.499 setara 1%, internet bankin memiliki 432 transaksi dengan persentase 0 dan reimburse memilik transaksi 99 dengan persentase 0%.\n",
    "- Tingginya pembayaran dengan sistem cash on delivery dikarenakan kebiasan penduduk pakistan yang kebiasaan menggunakan uang tunai dan lebih mempercayai jika melihat fisik barang tersebut secara langsung selain itu ada faktor kurangnya memahami teknologi. Seperti yang di bahas oleh ['website shoppingbag](https://www.shoppingbag.pk/blog/why-pakistani-more-happy-with-cod-cash-on-delivery-than-using-credit-card-online/) di bahas, di sebagian besar orang berbelanja di Pakistan bahkan di kota-kota besar mis. Karachi, Lahore, Islamabad dan kota lain di pakistan ragu-ragu untuk menggunakan metode baru teknologi dan ketergantungan pada awalnya. Mereka sulit memahami rumitnya transaksi di balik pembayaran dari kartu kredit/debit card. Itu juga karena mereka sering memegang uang tunai dan jarang menggunakan E-card.\n",
    "\n",
    "#### **Saran** : \n",
    "  - Menurut tinjauan kinerja tahunan [State Bank of Pakistan (SBP) (2017)] — Pakistan, sebagai negara yang bergerak cepat menuju adopsi mode pembayaran digital dengan jumlah transaksi elektronik mencatat pertumbuhan 17% tahun-ke-tahun. Perusahaan dapat mempersiapkan strategi untuk meningkatkan pembayara digital seperti penggunaan credit card, electronic wallet, internet banking , debit card karena pembayaran melalui digital semakin hari semakin bertambah pengunaannya dimasa mendatang. Sumber : ['Sumber informasi Global'](https://medium.com/indrastra/a-brief-note-on-digital-payment-systems-in-pakistan-1959dd95a94c), dan ['Sumber informasi perbankan'](https://www.sbp.org.pk/reports/annual/arFY17/Vol-1/anul-index-eng.htm). Hal ini akan berdampak baik untuk perusahaan terutama rekam catatan transaksi keuangan yang lengkap, menghemat waktu dan lebih aman dari tindak kecurangan,['website mybank'](https://mybank.com/the-advantages-of-personal-internet-banking/)"
   ]
  },
  {
   "cell_type": "markdown",
   "metadata": {},
   "source": [
    "### 4. Berapa banyak transaksi pada metode pembayaran yang mendapatkan diskon ?"
   ]
  },
  {
   "cell_type": "code",
   "execution_count": 85,
   "metadata": {},
   "outputs": [
    {
     "data": {
      "text/html": [
       "<div>\n",
       "<style scoped>\n",
       "    .dataframe tbody tr th:only-of-type {\n",
       "        vertical-align: middle;\n",
       "    }\n",
       "\n",
       "    .dataframe tbody tr th {\n",
       "        vertical-align: top;\n",
       "    }\n",
       "\n",
       "    .dataframe thead th {\n",
       "        text-align: right;\n",
       "    }\n",
       "</style>\n",
       "<table border=\"1\" class=\"dataframe\">\n",
       "  <thead>\n",
       "    <tr style=\"text-align: right;\">\n",
       "      <th>Discount_Amount_Category</th>\n",
       "      <th>Dapat Diskon</th>\n",
       "      <th>Tidak Dapat Diskon</th>\n",
       "    </tr>\n",
       "    <tr>\n",
       "      <th>Payment_Method_Category</th>\n",
       "      <th></th>\n",
       "      <th></th>\n",
       "    </tr>\n",
       "  </thead>\n",
       "  <tbody>\n",
       "    <tr>\n",
       "      <th>COD</th>\n",
       "      <td>3245</td>\n",
       "      <td>55358</td>\n",
       "    </tr>\n",
       "    <tr>\n",
       "      <th>Credit Card</th>\n",
       "      <td>8664</td>\n",
       "      <td>4251</td>\n",
       "    </tr>\n",
       "    <tr>\n",
       "      <th>Debit Card</th>\n",
       "      <td>24878</td>\n",
       "      <td>3187</td>\n",
       "    </tr>\n",
       "    <tr>\n",
       "      <th>Electronic Wallet</th>\n",
       "      <td>3936</td>\n",
       "      <td>1188</td>\n",
       "    </tr>\n",
       "    <tr>\n",
       "      <th>Internet Banking</th>\n",
       "      <td>1</td>\n",
       "      <td>431</td>\n",
       "    </tr>\n",
       "    <tr>\n",
       "      <th>Reimburse</th>\n",
       "      <td>38</td>\n",
       "      <td>61</td>\n",
       "    </tr>\n",
       "    <tr>\n",
       "      <th>Tranfer Bank</th>\n",
       "      <td>1065</td>\n",
       "      <td>434</td>\n",
       "    </tr>\n",
       "  </tbody>\n",
       "</table>\n",
       "</div>"
      ],
      "text/plain": [
       "Discount_Amount_Category  Dapat Diskon  Tidak Dapat Diskon\n",
       "Payment_Method_Category                                   \n",
       "COD                               3245               55358\n",
       "Credit Card                       8664                4251\n",
       "Debit Card                       24878                3187\n",
       "Electronic Wallet                 3936                1188\n",
       "Internet Banking                     1                 431\n",
       "Reimburse                           38                  61\n",
       "Tranfer Bank                      1065                 434"
      ]
     },
     "execution_count": 85,
     "metadata": {},
     "output_type": "execute_result"
    }
   ],
   "source": [
    "pd.crosstab(index=df['Payment_Method_Category'], columns=df['Discount_Amount_Category'])"
   ]
  },
  {
   "cell_type": "code",
   "execution_count": 86,
   "metadata": {},
   "outputs": [
    {
     "data": {
      "text/html": [
       "<div>\n",
       "<style scoped>\n",
       "    .dataframe tbody tr th:only-of-type {\n",
       "        vertical-align: middle;\n",
       "    }\n",
       "\n",
       "    .dataframe tbody tr th {\n",
       "        vertical-align: top;\n",
       "    }\n",
       "\n",
       "    .dataframe thead th {\n",
       "        text-align: right;\n",
       "    }\n",
       "</style>\n",
       "<table border=\"1\" class=\"dataframe\">\n",
       "  <thead>\n",
       "    <tr style=\"text-align: right;\">\n",
       "      <th>Discount_Amount_Category</th>\n",
       "      <th>Dapat Diskon</th>\n",
       "      <th>Tidak Dapat Diskon</th>\n",
       "    </tr>\n",
       "    <tr>\n",
       "      <th>Payment_Method_Category</th>\n",
       "      <th></th>\n",
       "      <th></th>\n",
       "    </tr>\n",
       "  </thead>\n",
       "  <tbody>\n",
       "    <tr>\n",
       "      <th>COD</th>\n",
       "      <td>0.06</td>\n",
       "      <td>0.94</td>\n",
       "    </tr>\n",
       "    <tr>\n",
       "      <th>Credit Card</th>\n",
       "      <td>0.67</td>\n",
       "      <td>0.33</td>\n",
       "    </tr>\n",
       "    <tr>\n",
       "      <th>Debit Card</th>\n",
       "      <td>0.89</td>\n",
       "      <td>0.11</td>\n",
       "    </tr>\n",
       "    <tr>\n",
       "      <th>Electronic Wallet</th>\n",
       "      <td>0.77</td>\n",
       "      <td>0.23</td>\n",
       "    </tr>\n",
       "    <tr>\n",
       "      <th>Internet Banking</th>\n",
       "      <td>0.00</td>\n",
       "      <td>1.00</td>\n",
       "    </tr>\n",
       "    <tr>\n",
       "      <th>Reimburse</th>\n",
       "      <td>0.38</td>\n",
       "      <td>0.62</td>\n",
       "    </tr>\n",
       "    <tr>\n",
       "      <th>Tranfer Bank</th>\n",
       "      <td>0.71</td>\n",
       "      <td>0.29</td>\n",
       "    </tr>\n",
       "  </tbody>\n",
       "</table>\n",
       "</div>"
      ],
      "text/plain": [
       "Discount_Amount_Category  Dapat Diskon  Tidak Dapat Diskon\n",
       "Payment_Method_Category                                   \n",
       "COD                               0.06                0.94\n",
       "Credit Card                       0.67                0.33\n",
       "Debit Card                        0.89                0.11\n",
       "Electronic Wallet                 0.77                0.23\n",
       "Internet Banking                  0.00                1.00\n",
       "Reimburse                         0.38                0.62\n",
       "Tranfer Bank                      0.71                0.29"
      ]
     },
     "execution_count": 86,
     "metadata": {},
     "output_type": "execute_result"
    }
   ],
   "source": [
    "pd.crosstab(index=df['Payment_Method_Category'], columns=df['Discount_Amount_Category'], normalize='index').round(2)"
   ]
  },
  {
   "cell_type": "code",
   "execution_count": 87,
   "metadata": {},
   "outputs": [
    {
     "data": {
      "text/html": [
       "<div>\n",
       "<style scoped>\n",
       "    .dataframe tbody tr th:only-of-type {\n",
       "        vertical-align: middle;\n",
       "    }\n",
       "\n",
       "    .dataframe tbody tr th {\n",
       "        vertical-align: top;\n",
       "    }\n",
       "\n",
       "    .dataframe thead th {\n",
       "        text-align: right;\n",
       "    }\n",
       "</style>\n",
       "<table border=\"1\" class=\"dataframe\">\n",
       "  <thead>\n",
       "    <tr style=\"text-align: right;\">\n",
       "      <th>Discount_Amount_Category</th>\n",
       "      <th>Dapat Diskon</th>\n",
       "    </tr>\n",
       "    <tr>\n",
       "      <th>Payment_Method_Category</th>\n",
       "      <th></th>\n",
       "    </tr>\n",
       "  </thead>\n",
       "  <tbody>\n",
       "    <tr>\n",
       "      <th>COD</th>\n",
       "      <td>3245</td>\n",
       "    </tr>\n",
       "    <tr>\n",
       "      <th>Credit Card</th>\n",
       "      <td>8664</td>\n",
       "    </tr>\n",
       "    <tr>\n",
       "      <th>Debit Card</th>\n",
       "      <td>24878</td>\n",
       "    </tr>\n",
       "    <tr>\n",
       "      <th>Electronic Wallet</th>\n",
       "      <td>3936</td>\n",
       "    </tr>\n",
       "    <tr>\n",
       "      <th>Internet Banking</th>\n",
       "      <td>1</td>\n",
       "    </tr>\n",
       "    <tr>\n",
       "      <th>Reimburse</th>\n",
       "      <td>38</td>\n",
       "    </tr>\n",
       "    <tr>\n",
       "      <th>Tranfer Bank</th>\n",
       "      <td>1065</td>\n",
       "    </tr>\n",
       "  </tbody>\n",
       "</table>\n",
       "</div>"
      ],
      "text/plain": [
       "Discount_Amount_Category  Dapat Diskon\n",
       "Payment_Method_Category               \n",
       "COD                               3245\n",
       "Credit Card                       8664\n",
       "Debit Card                       24878\n",
       "Electronic Wallet                 3936\n",
       "Internet Banking                     1\n",
       "Reimburse                           38\n",
       "Tranfer Bank                      1065"
      ]
     },
     "execution_count": 87,
     "metadata": {},
     "output_type": "execute_result"
    }
   ],
   "source": [
    "pd.crosstab(index=df['Payment_Method_Category'], columns=df[df['Discount_Amount_Category']=='Dapat Diskon']['Discount_Amount_Category'])"
   ]
  },
  {
   "cell_type": "code",
   "execution_count": 88,
   "metadata": {},
   "outputs": [
    {
     "data": {
      "image/png": "[encoded data removed]",
      "text/plain": [
       "<Figure size 2160x936 with 1 Axes>"
      ]
     },
     "metadata": {
      "needs_background": "light"
     },
     "output_type": "display_data"
    }
   ],
   "source": [
    "plt.figure(figsize=(30,13))\n",
    "ax=sns.countplot(x='Payment_Method_Category', data=df[(df['Discount_Amount_Category']=='Dapat Diskon')] ,hue='Discount_Amount_Category', palette='pastel')\n",
    "plt.title(\"Total Metode Pembayaran Yang Mendapatkan Diskon 2016-2018\",size=20)\n",
    "ax.bar_label(ax.containers[0], label_type='edge', size= 15)\n",
    "plt.xlabel('Kategori Diskon ', size=20, labelpad=20)\n",
    "plt.ylabel('Total Transaksi', size=20, labelpad=20)\n",
    "plt.xticks(size=15,rotation=15)\n",
    "plt.yticks(size=15)\n",
    "plt.savefig('Visualisasi Business Question 4.jpeg')\n",
    "plt.show()"
   ]
  },
  {
   "cell_type": "markdown",
   "metadata": {},
   "source": [
    "### **Insight**:\n",
    "- Berdasarkan persentase :\n",
    "    - Berdasarkan analisa di atas, Pembayaran dengan debit card memiliki persentase pemberian diskon paling tinggi sebesar 89% dibanding tidak diberikan diskon hanya 11%, pada urutan kedua ada Electronic Wallet total pemberian diskon mencapai 77% dibanding tidak dapat diskon sebanyak 33%, pada urutan ketiga ada tranfer bank dengan mendapatkan diskon 71% dan tidak mendapatkan diskon 29%, di urutan ke empat ada credit card dengan pemberian diskon 67% dibandingkan tidak dapat diskon 33%, pada urutan kelima ada reimburse mendapatkan diskon sebesar 38% dan tidak mendapatkan diskon 62%, pada urutan ke enam ada cash on delivery mendapatkan diskon hanya 6% dari total tidak mendapatkan diskon 94% dan urutan trakhir ada internet banking yang tidak mendapatkan diskon seluruhnya 100%.\n",
    "\n",
    "- Berdasarkan perhitungan transaksi :\n",
    "    - Jika di bandingkan dengan total transaksi debit card menempati urutan pertama dengan total transaksi mendapatkan diskon sebanyak 24.878 kali , credit card mendapatkan diskon 8.664 kali, electronic wallet mendapatkan discount 3.936 kali, cash on delivery mendapatkan diskon 3.245 kali, reimburs mendapatkan diskon 38 kali, dan internet banking hanya 1 kali transaksi mendapatkan diskon.\n",
    "\n",
    "### **Saran** :\n",
    "- Pemberian diskon berdasarkan metode pembayaran ini cukup bagus karena setiap tahunnya penggunaan transaksi digital terus bertambah penggunaannya, sesuai ['data dari statista'](https://www.statista.com/outlook/dmo/ecommerce/pakistan), penggunaan tranfer bank, debit card, kredit card,e-invoice, e-wallet ini terus meningkat setiap tahunnya dan salah satu langkah untuk ikut dalam perkembangan teknologi bisnis ini perusahaan sudah menggunakan langkah bagus dengan memberikan diskon.\n",
    "\n",
    "- Pemberian diskon ini juga dapat menarik minat customer untuk membeli lebih banyak barang dan hal ini terbukti dari riset yang di lakukan oleh web ['springer open'](https://fashionandtextiles.springeropen.com/articles/10.1186/s40691-018-0128-2#:~:text=According%20to%20the%20economic%20effects,confirmed%20by%20many%20previous%20studies.), misalnya customer membeli 1 produk dengan harga normal, dibandingkan customer membeli 2 produk dengan harga diskon 50% tapi dengan syarat tertentu customer akan lebih memilih membeli 2 produk walaupun ada persyaratan tertentu."
   ]
  },
  {
   "cell_type": "code",
   "execution_count": 89,
   "metadata": {},
   "outputs": [
    {
     "data": {
      "text/html": [
       "<div>\n",
       "<style scoped>\n",
       "    .dataframe tbody tr th:only-of-type {\n",
       "        vertical-align: middle;\n",
       "    }\n",
       "\n",
       "    .dataframe tbody tr th {\n",
       "        vertical-align: top;\n",
       "    }\n",
       "\n",
       "    .dataframe thead th {\n",
       "        text-align: right;\n",
       "    }\n",
       "</style>\n",
       "<table border=\"1\" class=\"dataframe\">\n",
       "  <thead>\n",
       "    <tr style=\"text-align: right;\">\n",
       "      <th>Discount_Amount_Category</th>\n",
       "      <th>Dapat Diskon</th>\n",
       "      <th>Tidak Dapat Diskon</th>\n",
       "    </tr>\n",
       "    <tr>\n",
       "      <th>Payment_Method_Category</th>\n",
       "      <th></th>\n",
       "      <th></th>\n",
       "    </tr>\n",
       "  </thead>\n",
       "  <tbody>\n",
       "    <tr>\n",
       "      <th>COD</th>\n",
       "      <td>0.06</td>\n",
       "      <td>0.94</td>\n",
       "    </tr>\n",
       "    <tr>\n",
       "      <th>Credit Card</th>\n",
       "      <td>0.67</td>\n",
       "      <td>0.33</td>\n",
       "    </tr>\n",
       "    <tr>\n",
       "      <th>Debit Card</th>\n",
       "      <td>0.89</td>\n",
       "      <td>0.11</td>\n",
       "    </tr>\n",
       "    <tr>\n",
       "      <th>Electronic Wallet</th>\n",
       "      <td>0.77</td>\n",
       "      <td>0.23</td>\n",
       "    </tr>\n",
       "    <tr>\n",
       "      <th>Internet Banking</th>\n",
       "      <td>0.00</td>\n",
       "      <td>1.00</td>\n",
       "    </tr>\n",
       "    <tr>\n",
       "      <th>Reimburse</th>\n",
       "      <td>0.38</td>\n",
       "      <td>0.62</td>\n",
       "    </tr>\n",
       "    <tr>\n",
       "      <th>Tranfer Bank</th>\n",
       "      <td>0.71</td>\n",
       "      <td>0.29</td>\n",
       "    </tr>\n",
       "  </tbody>\n",
       "</table>\n",
       "</div>"
      ],
      "text/plain": [
       "Discount_Amount_Category  Dapat Diskon  Tidak Dapat Diskon\n",
       "Payment_Method_Category                                   \n",
       "COD                               0.06                0.94\n",
       "Credit Card                       0.67                0.33\n",
       "Debit Card                        0.89                0.11\n",
       "Electronic Wallet                 0.77                0.23\n",
       "Internet Banking                  0.00                1.00\n",
       "Reimburse                         0.38                0.62\n",
       "Tranfer Bank                      0.71                0.29"
      ]
     },
     "execution_count": 89,
     "metadata": {},
     "output_type": "execute_result"
    }
   ],
   "source": [
    "pd.crosstab(index=df['Payment_Method_Category'], columns=df['Discount_Amount_Category'], normalize='index').round(2)"
   ]
  },
  {
   "cell_type": "markdown",
   "metadata": {},
   "source": [
    "### 5. Berapa banyak total transaksi metode pembayaran dengan status completed ?"
   ]
  },
  {
   "cell_type": "code",
   "execution_count": 90,
   "metadata": {},
   "outputs": [
    {
     "data": {
      "text/html": [
       "<div>\n",
       "<style scoped>\n",
       "    .dataframe tbody tr th:only-of-type {\n",
       "        vertical-align: middle;\n",
       "    }\n",
       "\n",
       "    .dataframe tbody tr th {\n",
       "        vertical-align: top;\n",
       "    }\n",
       "\n",
       "    .dataframe thead th {\n",
       "        text-align: right;\n",
       "    }\n",
       "</style>\n",
       "<table border=\"1\" class=\"dataframe\">\n",
       "  <thead>\n",
       "    <tr style=\"text-align: right;\">\n",
       "      <th>Status</th>\n",
       "      <th>Completed</th>\n",
       "    </tr>\n",
       "    <tr>\n",
       "      <th>Payment_Method_Category</th>\n",
       "      <th></th>\n",
       "    </tr>\n",
       "  </thead>\n",
       "  <tbody>\n",
       "    <tr>\n",
       "      <th>COD</th>\n",
       "      <td>42777</td>\n",
       "    </tr>\n",
       "    <tr>\n",
       "      <th>Credit Card</th>\n",
       "      <td>5652</td>\n",
       "    </tr>\n",
       "    <tr>\n",
       "      <th>Debit Card</th>\n",
       "      <td>16921</td>\n",
       "    </tr>\n",
       "    <tr>\n",
       "      <th>Electronic Wallet</th>\n",
       "      <td>3009</td>\n",
       "    </tr>\n",
       "    <tr>\n",
       "      <th>Internet Banking</th>\n",
       "      <td>217</td>\n",
       "    </tr>\n",
       "    <tr>\n",
       "      <th>Reimburse</th>\n",
       "      <td>34</td>\n",
       "    </tr>\n",
       "    <tr>\n",
       "      <th>Tranfer Bank</th>\n",
       "      <td>743</td>\n",
       "    </tr>\n",
       "  </tbody>\n",
       "</table>\n",
       "</div>"
      ],
      "text/plain": [
       "Status                   Completed\n",
       "Payment_Method_Category           \n",
       "COD                          42777\n",
       "Credit Card                   5652\n",
       "Debit Card                   16921\n",
       "Electronic Wallet             3009\n",
       "Internet Banking               217\n",
       "Reimburse                       34\n",
       "Tranfer Bank                   743"
      ]
     },
     "execution_count": 90,
     "metadata": {},
     "output_type": "execute_result"
    }
   ],
   "source": [
    "pd.crosstab(index=df['Payment_Method_Category'], columns=df[df['Status']=='Completed']['Status'])"
   ]
  },
  {
   "cell_type": "code",
   "execution_count": 91,
   "metadata": {},
   "outputs": [
    {
     "data": {
      "text/html": [
       "<div>\n",
       "<style scoped>\n",
       "    .dataframe tbody tr th:only-of-type {\n",
       "        vertical-align: middle;\n",
       "    }\n",
       "\n",
       "    .dataframe tbody tr th {\n",
       "        vertical-align: top;\n",
       "    }\n",
       "\n",
       "    .dataframe thead th {\n",
       "        text-align: right;\n",
       "    }\n",
       "</style>\n",
       "<table border=\"1\" class=\"dataframe\">\n",
       "  <thead>\n",
       "    <tr style=\"text-align: right;\">\n",
       "      <th>Status</th>\n",
       "      <th>Cancelled</th>\n",
       "      <th>Completed</th>\n",
       "      <th>Pending</th>\n",
       "      <th>Refund</th>\n",
       "    </tr>\n",
       "    <tr>\n",
       "      <th>Payment_Method_Category</th>\n",
       "      <th></th>\n",
       "      <th></th>\n",
       "      <th></th>\n",
       "      <th></th>\n",
       "    </tr>\n",
       "  </thead>\n",
       "  <tbody>\n",
       "    <tr>\n",
       "      <th>COD</th>\n",
       "      <td>0.03</td>\n",
       "      <td>0.73</td>\n",
       "      <td>0.00</td>\n",
       "      <td>0.24</td>\n",
       "    </tr>\n",
       "    <tr>\n",
       "      <th>Credit Card</th>\n",
       "      <td>0.51</td>\n",
       "      <td>0.44</td>\n",
       "      <td>0.00</td>\n",
       "      <td>0.05</td>\n",
       "    </tr>\n",
       "    <tr>\n",
       "      <th>Debit Card</th>\n",
       "      <td>0.37</td>\n",
       "      <td>0.60</td>\n",
       "      <td>0.00</td>\n",
       "      <td>0.03</td>\n",
       "    </tr>\n",
       "    <tr>\n",
       "      <th>Electronic Wallet</th>\n",
       "      <td>0.37</td>\n",
       "      <td>0.59</td>\n",
       "      <td>0.00</td>\n",
       "      <td>0.04</td>\n",
       "    </tr>\n",
       "    <tr>\n",
       "      <th>Internet Banking</th>\n",
       "      <td>0.19</td>\n",
       "      <td>0.50</td>\n",
       "      <td>0.00</td>\n",
       "      <td>0.31</td>\n",
       "    </tr>\n",
       "    <tr>\n",
       "      <th>Reimburse</th>\n",
       "      <td>0.61</td>\n",
       "      <td>0.34</td>\n",
       "      <td>0.00</td>\n",
       "      <td>0.05</td>\n",
       "    </tr>\n",
       "    <tr>\n",
       "      <th>Tranfer Bank</th>\n",
       "      <td>0.44</td>\n",
       "      <td>0.50</td>\n",
       "      <td>0.02</td>\n",
       "      <td>0.04</td>\n",
       "    </tr>\n",
       "  </tbody>\n",
       "</table>\n",
       "</div>"
      ],
      "text/plain": [
       "Status                   Cancelled  Completed  Pending  Refund\n",
       "Payment_Method_Category                                       \n",
       "COD                           0.03       0.73     0.00    0.24\n",
       "Credit Card                   0.51       0.44     0.00    0.05\n",
       "Debit Card                    0.37       0.60     0.00    0.03\n",
       "Electronic Wallet             0.37       0.59     0.00    0.04\n",
       "Internet Banking              0.19       0.50     0.00    0.31\n",
       "Reimburse                     0.61       0.34     0.00    0.05\n",
       "Tranfer Bank                  0.44       0.50     0.02    0.04"
      ]
     },
     "execution_count": 91,
     "metadata": {},
     "output_type": "execute_result"
    }
   ],
   "source": [
    "pd.crosstab(index=df['Payment_Method_Category'], columns=df['Status'], normalize='index').round(2)"
   ]
  },
  {
   "cell_type": "code",
   "execution_count": 92,
   "metadata": {},
   "outputs": [
    {
     "data": {
      "image/png": "[encoded data removed]",
      "text/plain": [
       "<Figure size 1440x720 with 1 Axes>"
      ]
     },
     "metadata": {
      "needs_background": "light"
     },
     "output_type": "display_data"
    }
   ],
   "source": [
    "plt.figure(figsize=(20,10))\n",
    "ax=sns.countplot(x='Payment_Method_Category', data=df[df['Status']=='Completed'] ,hue='Status', palette=\"rainbow\")\n",
    "plt.title(\"Total Metode Pembayaran Yang Completed 2016-2018\",size=20)\n",
    "ax.bar_label(ax.containers[0], label_type='edge')\n",
    "plt.xlabel('Metode Pembayaran', size=15, labelpad=20)\n",
    "plt.ylabel('Jumlah', size=15, labelpad=20)\n",
    "plt.savefig('Visualisasi Business Question 5.jpeg')\n",
    "plt.show()"
   ]
  },
  {
   "cell_type": "code",
   "execution_count": 93,
   "metadata": {},
   "outputs": [
    {
     "data": {
      "text/html": [
       "<div>\n",
       "<style scoped>\n",
       "    .dataframe tbody tr th:only-of-type {\n",
       "        vertical-align: middle;\n",
       "    }\n",
       "\n",
       "    .dataframe tbody tr th {\n",
       "        vertical-align: top;\n",
       "    }\n",
       "\n",
       "    .dataframe thead th {\n",
       "        text-align: right;\n",
       "    }\n",
       "</style>\n",
       "<table border=\"1\" class=\"dataframe\">\n",
       "  <thead>\n",
       "    <tr style=\"text-align: right;\">\n",
       "      <th>Status</th>\n",
       "      <th>Cancelled</th>\n",
       "      <th>Completed</th>\n",
       "      <th>Pending</th>\n",
       "      <th>Refund</th>\n",
       "    </tr>\n",
       "    <tr>\n",
       "      <th>Payment_Method_Category</th>\n",
       "      <th></th>\n",
       "      <th></th>\n",
       "      <th></th>\n",
       "      <th></th>\n",
       "    </tr>\n",
       "  </thead>\n",
       "  <tbody>\n",
       "    <tr>\n",
       "      <th>COD</th>\n",
       "      <td>0.03</td>\n",
       "      <td>0.73</td>\n",
       "      <td>0.00</td>\n",
       "      <td>0.24</td>\n",
       "    </tr>\n",
       "    <tr>\n",
       "      <th>Credit Card</th>\n",
       "      <td>0.51</td>\n",
       "      <td>0.44</td>\n",
       "      <td>0.00</td>\n",
       "      <td>0.05</td>\n",
       "    </tr>\n",
       "    <tr>\n",
       "      <th>Debit Card</th>\n",
       "      <td>0.37</td>\n",
       "      <td>0.60</td>\n",
       "      <td>0.00</td>\n",
       "      <td>0.03</td>\n",
       "    </tr>\n",
       "    <tr>\n",
       "      <th>Electronic Wallet</th>\n",
       "      <td>0.37</td>\n",
       "      <td>0.59</td>\n",
       "      <td>0.00</td>\n",
       "      <td>0.04</td>\n",
       "    </tr>\n",
       "    <tr>\n",
       "      <th>Internet Banking</th>\n",
       "      <td>0.19</td>\n",
       "      <td>0.50</td>\n",
       "      <td>0.00</td>\n",
       "      <td>0.31</td>\n",
       "    </tr>\n",
       "    <tr>\n",
       "      <th>Reimburse</th>\n",
       "      <td>0.61</td>\n",
       "      <td>0.34</td>\n",
       "      <td>0.00</td>\n",
       "      <td>0.05</td>\n",
       "    </tr>\n",
       "    <tr>\n",
       "      <th>Tranfer Bank</th>\n",
       "      <td>0.44</td>\n",
       "      <td>0.50</td>\n",
       "      <td>0.02</td>\n",
       "      <td>0.04</td>\n",
       "    </tr>\n",
       "  </tbody>\n",
       "</table>\n",
       "</div>"
      ],
      "text/plain": [
       "Status                   Cancelled  Completed  Pending  Refund\n",
       "Payment_Method_Category                                       \n",
       "COD                           0.03       0.73     0.00    0.24\n",
       "Credit Card                   0.51       0.44     0.00    0.05\n",
       "Debit Card                    0.37       0.60     0.00    0.03\n",
       "Electronic Wallet             0.37       0.59     0.00    0.04\n",
       "Internet Banking              0.19       0.50     0.00    0.31\n",
       "Reimburse                     0.61       0.34     0.00    0.05\n",
       "Tranfer Bank                  0.44       0.50     0.02    0.04"
      ]
     },
     "execution_count": 93,
     "metadata": {},
     "output_type": "execute_result"
    }
   ],
   "source": [
    "pd.crosstab(index=df['Payment_Method_Category'], columns=df['Status'], normalize='index').round(2)"
   ]
  },
  {
   "cell_type": "markdown",
   "metadata": {},
   "source": [
    "### **Insight** : \n",
    "- Metode pembayaran dengan sistem Cash On Delivery memiiliki peringkat tertinggi dengan status pemesanan completed dengan total transaksi 42.777 dengan persentase 73% dibandingkan pembayaran dengan debit card dengan status completed berkisar 16.921 dengan persentase 60%. Credit card dengan total transaksi 4.652 dengan persentase 44%. Pembayaran dengan sistem Cash On Delivery masih lebih besar dari pada pembayaran dengan Electronic Wallet dengan total transaksi 3.009 dengan persentase 59%, jika dibandingkan dengan internet banking, status completed dengan pembayaran Cash On Delivery masih lebih tinggi, internet banking memiliki total transaksi 217 dengan persentase 50% dari seluruh total transaksi internet banking. Jika dibandingkan dengan debit card, status pembelian dengan sistem Cash On Delivery masih memiliki total transaksi tertinggi. Transaksi pembayaran dengan metode pembayaran Tranfer Bank memiliki total transaksi 743 dengan persentase 50% dan pembayaran dengan sistem Reimburse memiliki transaksi paling lebih kecil dibandingkan transaksaksi Cash On Delivery yaitu hanya 43 transaksi dengan persentase 34%.\n",
    "#\n",
    "- Pembayaran Cash on delivery tinggi ini di karenakan penduduk pakistan memiliki kebiasaan membeli suatu barang dengan pembayaran tunai. Jika mereka memberikan uang maka mereka harus menerima barang, sehingga hal ini membuat tingkat pembayaran cash on delivery pada tabel di atas berada di urutan pertama dengan status completed. Seperti riset dari website ['shoppingbag](https://www.shoppingbag.pk/blog/why-pakistani-more-happy-with-cod-cash-on-delivery-than-using-credit-card-online/) di bahas,  yang di Sebagian besar orang berbelanja di Pakistan bahkan di kota-kota besar mis. Karachi, Lahore, Islamabad dan kota lain di pakistan ragu-ragu untuk menggunakan metode baru teknologi dan ketergantungan pada awalnya. Mereka sulit memahami rumitnya transaksi di balik pembayaran dari kartu kredit/debit card. Itu juga karena mereka sering memegang uang tunai dan jarang menggunakan E-card.\n",
    "### **Saran** :\n",
    "- Berdasarkan informasi dari website ['Statista'](https://www.statista.com/outlook/dmo/ecommerce/pakistan#key-market-indicators), penggunaan pembayaran dengan kartu debit,kartu kredit, electronic wallet akan terus berkembang setiap tahunnya di pakistan. Hal ini dapat menjadi pertimbangan perusahaan untuk meningkatkan pelayanan pembayaran dengan elektronik bank seperti kartu debit, kartu kredit, electronik wallet. Berdasarkan tabel di atas terlihat pembayaran menggunakan debit card berhasil sebesar 60% dan pembatalan sebesar 30%, pembayaran electronik wallet sebesar 59% yang berhasil dengan pembatalan 37%, dan pembayaran dengan kartu kredit sebesar 44% dengan pembatalan 51%. Hal ini masih menjadi sebuah peluang untuk perusahaan ecommers dalam meningkatkan pelayanan pembayaran secara elektronik dan perusahaan dapat memberikan informasi terkait benefit menggunakan pembayaran dengan debit card."
   ]
  },
  {
   "cell_type": "markdown",
   "metadata": {},
   "source": [
    "### 6. Kapan transaksi dengan status completed paling banyak terjadi (berdasarkan bulan pemesanan) ?"
   ]
  },
  {
   "cell_type": "code",
   "execution_count": 94,
   "metadata": {},
   "outputs": [
    {
     "data": {
      "text/html": [
       "<div>\n",
       "<style scoped>\n",
       "    .dataframe tbody tr th:only-of-type {\n",
       "        vertical-align: middle;\n",
       "    }\n",
       "\n",
       "    .dataframe tbody tr th {\n",
       "        vertical-align: top;\n",
       "    }\n",
       "\n",
       "    .dataframe thead th {\n",
       "        text-align: right;\n",
       "    }\n",
       "</style>\n",
       "<table border=\"1\" class=\"dataframe\">\n",
       "  <thead>\n",
       "    <tr style=\"text-align: right;\">\n",
       "      <th>Status</th>\n",
       "      <th>Cancelled</th>\n",
       "      <th>Completed</th>\n",
       "      <th>Pending</th>\n",
       "      <th>Refund</th>\n",
       "    </tr>\n",
       "    <tr>\n",
       "      <th>Month</th>\n",
       "      <th></th>\n",
       "      <th></th>\n",
       "      <th></th>\n",
       "      <th></th>\n",
       "    </tr>\n",
       "  </thead>\n",
       "  <tbody>\n",
       "    <tr>\n",
       "      <th>1</th>\n",
       "      <td>1237</td>\n",
       "      <td>3712</td>\n",
       "      <td>0</td>\n",
       "      <td>870</td>\n",
       "    </tr>\n",
       "    <tr>\n",
       "      <th>2</th>\n",
       "      <td>1954</td>\n",
       "      <td>4564</td>\n",
       "      <td>9</td>\n",
       "      <td>874</td>\n",
       "    </tr>\n",
       "    <tr>\n",
       "      <th>3</th>\n",
       "      <td>2022</td>\n",
       "      <td>5424</td>\n",
       "      <td>0</td>\n",
       "      <td>1227</td>\n",
       "    </tr>\n",
       "    <tr>\n",
       "      <th>4</th>\n",
       "      <td>684</td>\n",
       "      <td>3412</td>\n",
       "      <td>0</td>\n",
       "      <td>770</td>\n",
       "    </tr>\n",
       "    <tr>\n",
       "      <th>5</th>\n",
       "      <td>2716</td>\n",
       "      <td>5292</td>\n",
       "      <td>1</td>\n",
       "      <td>893</td>\n",
       "    </tr>\n",
       "    <tr>\n",
       "      <th>6</th>\n",
       "      <td>887</td>\n",
       "      <td>1905</td>\n",
       "      <td>0</td>\n",
       "      <td>660</td>\n",
       "    </tr>\n",
       "    <tr>\n",
       "      <th>7</th>\n",
       "      <td>635</td>\n",
       "      <td>4759</td>\n",
       "      <td>0</td>\n",
       "      <td>1344</td>\n",
       "    </tr>\n",
       "    <tr>\n",
       "      <th>8</th>\n",
       "      <td>1133</td>\n",
       "      <td>7805</td>\n",
       "      <td>28</td>\n",
       "      <td>2174</td>\n",
       "    </tr>\n",
       "    <tr>\n",
       "      <th>9</th>\n",
       "      <td>758</td>\n",
       "      <td>2997</td>\n",
       "      <td>0</td>\n",
       "      <td>1055</td>\n",
       "    </tr>\n",
       "    <tr>\n",
       "      <th>10</th>\n",
       "      <td>1133</td>\n",
       "      <td>4551</td>\n",
       "      <td>2</td>\n",
       "      <td>1982</td>\n",
       "    </tr>\n",
       "    <tr>\n",
       "      <th>11</th>\n",
       "      <td>7389</td>\n",
       "      <td>21027</td>\n",
       "      <td>0</td>\n",
       "      <td>2915</td>\n",
       "    </tr>\n",
       "    <tr>\n",
       "      <th>12</th>\n",
       "      <td>1052</td>\n",
       "      <td>3905</td>\n",
       "      <td>0</td>\n",
       "      <td>980</td>\n",
       "    </tr>\n",
       "  </tbody>\n",
       "</table>\n",
       "</div>"
      ],
      "text/plain": [
       "Status  Cancelled  Completed  Pending  Refund\n",
       "Month                                        \n",
       "1            1237       3712        0     870\n",
       "2            1954       4564        9     874\n",
       "3            2022       5424        0    1227\n",
       "4             684       3412        0     770\n",
       "5            2716       5292        1     893\n",
       "6             887       1905        0     660\n",
       "7             635       4759        0    1344\n",
       "8            1133       7805       28    2174\n",
       "9             758       2997        0    1055\n",
       "10           1133       4551        2    1982\n",
       "11           7389      21027        0    2915\n",
       "12           1052       3905        0     980"
      ]
     },
     "execution_count": 94,
     "metadata": {},
     "output_type": "execute_result"
    }
   ],
   "source": [
    "pd.crosstab(index=df['Month'], columns=df['Status'])"
   ]
  },
  {
   "cell_type": "code",
   "execution_count": 95,
   "metadata": {},
   "outputs": [
    {
     "data": {
      "text/html": [
       "<div>\n",
       "<style scoped>\n",
       "    .dataframe tbody tr th:only-of-type {\n",
       "        vertical-align: middle;\n",
       "    }\n",
       "\n",
       "    .dataframe tbody tr th {\n",
       "        vertical-align: top;\n",
       "    }\n",
       "\n",
       "    .dataframe thead th {\n",
       "        text-align: right;\n",
       "    }\n",
       "</style>\n",
       "<table border=\"1\" class=\"dataframe\">\n",
       "  <thead>\n",
       "    <tr style=\"text-align: right;\">\n",
       "      <th>Status</th>\n",
       "      <th>Completed</th>\n",
       "    </tr>\n",
       "    <tr>\n",
       "      <th>Month</th>\n",
       "      <th></th>\n",
       "    </tr>\n",
       "  </thead>\n",
       "  <tbody>\n",
       "    <tr>\n",
       "      <th>1</th>\n",
       "      <td>3712</td>\n",
       "    </tr>\n",
       "    <tr>\n",
       "      <th>2</th>\n",
       "      <td>4564</td>\n",
       "    </tr>\n",
       "    <tr>\n",
       "      <th>3</th>\n",
       "      <td>5424</td>\n",
       "    </tr>\n",
       "    <tr>\n",
       "      <th>4</th>\n",
       "      <td>3412</td>\n",
       "    </tr>\n",
       "    <tr>\n",
       "      <th>5</th>\n",
       "      <td>5292</td>\n",
       "    </tr>\n",
       "    <tr>\n",
       "      <th>6</th>\n",
       "      <td>1905</td>\n",
       "    </tr>\n",
       "    <tr>\n",
       "      <th>7</th>\n",
       "      <td>4759</td>\n",
       "    </tr>\n",
       "    <tr>\n",
       "      <th>8</th>\n",
       "      <td>7805</td>\n",
       "    </tr>\n",
       "    <tr>\n",
       "      <th>9</th>\n",
       "      <td>2997</td>\n",
       "    </tr>\n",
       "    <tr>\n",
       "      <th>10</th>\n",
       "      <td>4551</td>\n",
       "    </tr>\n",
       "    <tr>\n",
       "      <th>11</th>\n",
       "      <td>21027</td>\n",
       "    </tr>\n",
       "    <tr>\n",
       "      <th>12</th>\n",
       "      <td>3905</td>\n",
       "    </tr>\n",
       "  </tbody>\n",
       "</table>\n",
       "</div>"
      ],
      "text/plain": [
       "Status  Completed\n",
       "Month            \n",
       "1            3712\n",
       "2            4564\n",
       "3            5424\n",
       "4            3412\n",
       "5            5292\n",
       "6            1905\n",
       "7            4759\n",
       "8            7805\n",
       "9            2997\n",
       "10           4551\n",
       "11          21027\n",
       "12           3905"
      ]
     },
     "execution_count": 95,
     "metadata": {},
     "output_type": "execute_result"
    }
   ],
   "source": [
    "pd.crosstab(index=df['Month'], columns=df[df['Status']=='Completed']['Status'])"
   ]
  },
  {
   "cell_type": "code",
   "execution_count": 96,
   "metadata": {},
   "outputs": [
    {
     "data": {
      "image/png": "[encoded data removed]",
      "text/plain": [
       "<Figure size 1440x504 with 1 Axes>"
      ]
     },
     "metadata": {
      "needs_background": "light"
     },
     "output_type": "display_data"
    }
   ],
   "source": [
    "plt.figure(figsize=(20,7))\n",
    "ax=sns.countplot(y='Month', data=df[df['Status']=='Completed'] ,hue='Status', palette='Set2')\n",
    "plt.title(\"Transaksi Dengan Status Completed Paling Banyak\",size=20)\n",
    "ax.bar_label(ax.containers[0], label_type='edge')\n",
    "plt.xlabel('Total Transaksi', size=20, labelpad=20)\n",
    "plt.ylabel('Bulan Transaksi', size=15, labelpad=20)\n",
    "plt.xticks(size=12,rotation=20)\n",
    "plt.yticks(size=12)\n",
    "plt.savefig('Visualisasi Business Question 6.jpeg')\n",
    "plt.show()"
   ]
  },
  {
   "cell_type": "markdown",
   "metadata": {},
   "source": [
    "### **Insight** :\n",
    "- Banyak terjadi transaksi dengan status completed pada bulan November dengan total transaksi 21.027.\n",
    "\n",
    "### **Saran** :\n",
    "- Untuk meningkatkan penjualan pada tahun berikutnya yaitu tahun 2019 perusahaan dapat melakukan promosi penjualan dengan iklan pada bulan oktober tahun 2019, berdasarkan informasi dari website zameen.com ['tanggal promosi'](https://www.zameen.com/blog/upcoming-events-lahore-november-2019.html) di bulan November 2019 terdapat festival :\n",
    "- 1. Dastan-e-Khusro \n",
    "- 2. The 3rd National Young Leaders Summit \n",
    "- 3. UOL Innovation Olympiad ’19\n",
    "- 4. Lahore Eat 2019\n",
    "- 5. Sufi Night\n",
    "- 6. The 5th Faiz International Festival\n",
    "- 7. Arts and Crafts Festival"
   ]
  },
  {
   "cell_type": "markdown",
   "metadata": {},
   "source": [
    "# Kesimpulan :\n",
    "1. Selama e-commers berlangsung dari tahun 2016-2018 satus keberhasilan mencapai 65%, namun masih terdapat pembatalan transaksi sebesar 20 persen dan refund transaksi sebesar 15 persen., hal ini harus segera di evaluasi dengan penambahan fitur seperti penambahan review/rating toko online yang ada di e-commers untuk meningkatkan kepercayaan pelanggan terhadap penjual/toko yang akan dikunjungi dan fitur tersebut juga dapat perusahaan gunakan datanya sebagai bahan evaluasi berikutnya.\n",
    "2. Kategori mobile & tablets masih berada di posisi teratas dengan tingkat keberhasilan 58 persen namun terdapat pembatalan transaksi sebesar 31 persen. Hal ini dapat menjadi pertimbangan perusahaan e-commers untuk mengevaluasi pembatalan tersebut sehubungan dengan penggunaan mobile & tablets pasar mobile & tablets di pakistan masih sangat tinggi. Oleh karena itu untuk menarik minat customer lebih besar perusahaan dapat menggunakan strategi dengan memberikan diskon kepada pelanggan untuk menarik minat pelanggan melakukan pembelian product.\n",
    "3. Metode pembayaran di negara pakistan dengan peringkat tertinggi adalah Cash On Delivery dengan total transaksi 58.603 setara 55% dibandingkan transaksi elektronik perbankan seperti debit card sebesar 26 persen, credit card sebesar 12 persen, Electronic Wallet 5 persen dan tranfer bank 1 persen.Walaupun penggunaan metode pembayaran cash on delivery masih lebih tinggi dari pada pembayaran secara elektronik, ini dapat menjadi pertimbangan perushaaan e-commers seiring perkembangan teknologi terhadap metode pembayaran karena minat customer terhadap penggunaan metode pembayaran elektronik terus bertambah setiap tahunnya.\n",
    "4. Metode pembayaran yang mendapatkan diskon tertinggi ada pada metode pembayaran debit card dengan persentase 89% di bandingkan pembayaran dengan metode cash on delivery hanya mendapat diskon 6%. Perusahaan dapat menggunakan strategi diskon untuk meningkatkan minat customer dalam melakukan pembelian barang dengan metode pembayaran dengan debit card.\n",
    "5. Metode pembayaran dengan status completed paling banyak transaksinya ada pada Cash On Delivery. Namun sebaiknya perusahaan dapat mempertimbangkan untuk mempromosikan benefit menggunakan transaksi dengan pembayaran digital untuk menyeimbangi perubahan teknologi dan dapat bersaing dengan kompetitor.\n",
    "6. Transaksi dengan status completed paling banyak terjadi pada bulan november, hal ini dapat menjadi acuan perusahaan untuk memperluas promosi pada bulan november."
   ]
  }
 ],
 "metadata": {
  "kernelspec": {
   "display_name": "Python 3.10.4 64-bit",
   "language": "python",
   "name": "python3"
  },
  "language_info": {
   "codemirror_mode": {
    "name": "ipython",
    "version": 3
   },
   "file_extension": ".py",
   "mimetype": "text/x-python",
   "name": "python",
   "nbconvert_exporter": "python",
   "pygments_lexer": "ipython3",
   "version": "3.10.4"
  },
  "orig_nbformat": 4,
  "vscode": {
   "interpreter": {
    "hash": "0d72b21489300652f2337cd7f80c57cc00ce6bbc92cf98d285c178d0a8ced433"
   }
  }
 },
 "nbformat": 4,
 "nbformat_minor": 2
}
